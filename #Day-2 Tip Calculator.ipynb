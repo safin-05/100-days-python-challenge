{
 "cells": [
  {
   "cell_type": "code",
   "execution_count": 5,
   "id": "f13e20c3",
   "metadata": {},
   "outputs": [
    {
     "name": "stdout",
     "output_type": "stream",
     "text": [
      "Welcome to the tip calculator!\n"
     ]
    },
    {
     "name": "stdin",
     "output_type": "stream",
     "text": [
      "What was the total bill? $ 150\n",
      "How many people to split the bill?  5\n",
      "What percentage tip would you like to give? 10, 12 or 15?  12\n"
     ]
    },
    {
     "name": "stdout",
     "output_type": "stream",
     "text": [
      "Each person should pay: $33.60\n"
     ]
    }
   ],
   "source": [
    "#Taking input from the users\n",
    "print(\"Welcome to the tip calculator!\")\n",
    "total_bill = int(input(\"What was the total bill? $\"))\n",
    "no_of_people = int(input(\"How many people to split the bill? \"))\n",
    "percent = float(input(\"What percentage tip would you like to give? 10, 12 or 15? \"))\n",
    "\n",
    "#Calculating the amount each person has to pay including the tip\n",
    "bill_split = total_bill/no_of_people\n",
    "tip_split = (bill_split*percent)/100\n",
    "final_amount = bill_split + tip_split\n",
    "#Using fstrings to print the amount\n",
    "print(f\"Each person should pay: ${'{:.2f}'.format(final_amount)}\")\n",
    "# '{:.2f}' function rounds float to two decimals even if there is one decimal after decimal point"
   ]
  }
 ],
 "metadata": {
  "kernelspec": {
   "display_name": "Python 3 (ipykernel)",
   "language": "python",
   "name": "python3"
  },
  "language_info": {
   "codemirror_mode": {
    "name": "ipython",
    "version": 3
   },
   "file_extension": ".py",
   "mimetype": "text/x-python",
   "name": "python",
   "nbconvert_exporter": "python",
   "pygments_lexer": "ipython3",
   "version": "3.9.7"
  }
 },
 "nbformat": 4,
 "nbformat_minor": 5
}
