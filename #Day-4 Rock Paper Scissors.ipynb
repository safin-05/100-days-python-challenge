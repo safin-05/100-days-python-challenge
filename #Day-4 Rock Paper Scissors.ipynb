{
 "cells": [
  {
   "cell_type": "code",
   "execution_count": 3,
   "id": "45336dc4-8d29-4109-8821-b7b37a378bf9",
   "metadata": {},
   "outputs": [],
   "source": [
    "rock = '''\n",
    "    _______\n",
    "---'   ____)\n",
    "      (_____)\n",
    "      (_____)\n",
    "      (____)\n",
    "---.__(___)\n",
    "'''\n",
    "\n",
    "paper = '''\n",
    "    _______\n",
    "---'   ____)____\n",
    "          ______)\n",
    "          _______)\n",
    "         _______)\n",
    "---.__________)\n",
    "'''\n",
    "\n",
    "scissors = '''\n",
    "    _______\n",
    "---'   ____)____\n",
    "          ______)\n",
    "       __________)\n",
    "      (____)\n",
    "---.__(___)\n",
    "'''\n",
    "\n",
    "choice_list = [rock, paper, scissors]\n",
    "import random\n"
   ]
  },
  {
   "cell_type": "code",
   "execution_count": 18,
   "id": "232ccc6f-1f13-456f-bf40-a1fd3efa1a89",
   "metadata": {},
   "outputs": [
    {
     "name": "stdin",
     "output_type": "stream",
     "text": [
      "What do you choose?\n",
      " Type 0 for Rock, 1 for Paper, 2 for Scissors:  0\n"
     ]
    },
    {
     "name": "stdout",
     "output_type": "stream",
     "text": [
      "\n",
      "    _______\n",
      "---'   ____)\n",
      "      (_____)\n",
      "      (_____)\n",
      "      (____)\n",
      "---.__(___)\n",
      "\n",
      "Computer choose: \n",
      "\n",
      "    _______\n",
      "---'   ____)____\n",
      "          ______)\n",
      "          _______)\n",
      "         _______)\n",
      "---.__________)\n",
      "\n",
      "You lose! \n"
     ]
    }
   ],
   "source": [
    "## User Choice and computer choice\n",
    "choice = int(input(\"What do you choose?\\n Type 0 for Rock, 1 for Paper, 2 for Scissors: \"))\n",
    "pc_choice = random.randint(0,2)\n",
    "\n",
    "## Prints our choices\n",
    "for i in range(3):\n",
    "    \n",
    "    if i == choice:\n",
    "        print(choice_list[i])\n",
    "        print(\"Computer choose: \")\n",
    "        print(choice_list[pc_choice])\n",
    "        \n",
    "## Prints whether we won or lost   \n",
    "if choice == pc_choice:\n",
    "    print(\"Draw\")\n",
    "    \n",
    "elif choice == 0:\n",
    "    if pc_choice == 1:\n",
    "        print(\"You lose! \")\n",
    "    else:\n",
    "        print(\"You win! \")\n",
    "\n",
    "elif choice ==1:\n",
    "    if pc_choice == 2:\n",
    "        print(\"You lose! \")\n",
    "    else:\n",
    "        print(\"You win! \")\n",
    "else:\n",
    "    if pc_choice == 0:\n",
    "        print(\" You lose! \")\n",
    "    else:\n",
    "        print(\"You win! \")"
   ]
  }
 ],
 "metadata": {
  "kernelspec": {
   "display_name": "Python 3 (ipykernel)",
   "language": "python",
   "name": "python3"
  },
  "language_info": {
   "codemirror_mode": {
    "name": "ipython",
    "version": 3
   },
   "file_extension": ".py",
   "mimetype": "text/x-python",
   "name": "python",
   "nbconvert_exporter": "python",
   "pygments_lexer": "ipython3",
   "version": "3.9.7"
  }
 },
 "nbformat": 4,
 "nbformat_minor": 5
}
