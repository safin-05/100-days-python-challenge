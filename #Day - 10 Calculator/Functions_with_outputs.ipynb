{
 "cells": [
  {
   "cell_type": "code",
   "execution_count": 3,
   "id": "fe745c12-f3de-4559-bc4d-74b4de561864",
   "metadata": {},
   "outputs": [
    {
     "name": "stdin",
     "output_type": "stream",
     "text": [
      "Enter your first name:  mOHAMEed\n",
      "Enter your last name:  SaFIN\n"
     ]
    },
    {
     "name": "stdout",
     "output_type": "stream",
     "text": [
      "Your full name is Mohameed Safin\n"
     ]
    }
   ],
   "source": [
    "# Functions with outputs\n",
    "def format_name(f_name, l_name):\n",
    "    f_name = f_name.capitalize() + \" \"\n",
    "    l_name = l_name.capitalize()\n",
    "    return (f_name + l_name)\n",
    "\n",
    "## You could also use .title() for this .\n",
    "# .title() capitalized every word in the string while \n",
    "#.capitalize() only capitalizes first word in the string\n",
    "\n",
    "#My program\n",
    "first_name = input(\"Enter your first name: \").strip()\n",
    "last_name = input(\"Enter your last name: \").strip()\n",
    "full_name = format_name(first_name, last_name)\n",
    "print(f\"Your full name is {full_name}\")"
   ]
  }
 ],
 "metadata": {
  "kernelspec": {
   "display_name": "Python 3 (ipykernel)",
   "language": "python",
   "name": "python3"
  },
  "language_info": {
   "codemirror_mode": {
    "name": "ipython",
    "version": 3
   },
   "file_extension": ".py",
   "mimetype": "text/x-python",
   "name": "python",
   "nbconvert_exporter": "python",
   "pygments_lexer": "ipython3",
   "version": "3.9.7"
  }
 },
 "nbformat": 4,
 "nbformat_minor": 5
}
