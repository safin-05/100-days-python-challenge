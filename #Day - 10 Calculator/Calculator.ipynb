{
 "cells": [
  {
   "cell_type": "code",
   "execution_count": 10,
   "id": "7aa976a1-9cb9-4b83-b6e3-53b3f9e8030e",
   "metadata": {},
   "outputs": [],
   "source": [
    "from Logo import logo\n",
    "from IPython.display import clear_output"
   ]
  },
  {
   "cell_type": "code",
   "execution_count": 21,
   "id": "c8e61f2b-05ea-47bc-b78f-4e27f369106e",
   "metadata": {},
   "outputs": [
    {
     "name": "stdout",
     "output_type": "stream",
     "text": [
      "\n",
      " _____________________\n",
      "|  _________________  |\n",
      "| | Pythonista   0. | |  .----------------.  .----------------.  .----------------.  .----------------. \n",
      "| |_________________| | | .--------------. || .--------------. || .--------------. || .--------------. |\n",
      "|  ___ ___ ___   ___  | | |     ______   | || |      __      | || |   _____      | || |     ______   | |\n",
      "| | 7 | 8 | 9 | | + | | | |   .' ___  |  | || |     /  \\     | || |  |_   _|     | || |   .' ___  |  | |\n",
      "| |___|___|___| |___| | | |  / .'   \\_|  | || |    / /\\ \\    | || |    | |       | || |  / .'   \\_|  | |\n",
      "| | 4 | 5 | 6 | | - | | | |  | |         | || |   / ____ \\   | || |    | |   _   | || |  | |         | |\n",
      "| |___|___|___| |___| | | |  \\ `.___.'\\  | || | _/ /    \\ \\_ | || |   _| |__/ |  | || |  \\ `.___.'\\  | |\n",
      "| | 1 | 2 | 3 | | x | | | |   `._____.'  | || ||____|  |____|| || |  |________|  | || |   `._____.'  | |\n",
      "| |___|___|___| |___| | | |              | || |              | || |              | || |              | |\n",
      "| | . | 0 | = | | / | | | '--------------' || '--------------' || '--------------' || '--------------' |\n",
      "| |___|___|___| |___| |  '----------------'  '----------------'  '----------------'  '----------------' \n",
      "|_____________________|\n",
      "\n"
     ]
    },
    {
     "name": "stdin",
     "output_type": "stream",
     "text": [
      "What's your first number? 33\n"
     ]
    },
    {
     "name": "stdout",
     "output_type": "stream",
     "text": [
      "+\n",
      "-\n",
      "*\n",
      "/\n"
     ]
    },
    {
     "name": "stdin",
     "output_type": "stream",
     "text": [
      "Pick an operation:  +\n",
      "What's your next number? 44\n"
     ]
    },
    {
     "name": "stdout",
     "output_type": "stream",
     "text": [
      "33.0 + 44.0 = 77.0\n"
     ]
    },
    {
     "name": "stdin",
     "output_type": "stream",
     "text": [
      "Type 'y' to continue calculating with 77.0,\n",
      " or 'n' to start new calculation \n",
      " or 'stop' to end:  stop\n"
     ]
    }
   ],
   "source": [
    "## Defining functions\n",
    "def add(n1, n2):\n",
    "    return n1 + n2\n",
    "\n",
    "def subtract(n1, n2):\n",
    "    return n1 - n2\n",
    "\n",
    "def multiply(n1, n2):\n",
    "    return n1*n2\n",
    "\n",
    "def divide(n1, n2):\n",
    "    return n1/n2\n",
    "\n",
    "## Creating a new dictionary called operations\n",
    "operations = {\n",
    "                \"+\" : add, \n",
    "                \"-\" : subtract,\n",
    "                \"*\" : multiply,\n",
    "                \"/\" : divide,\n",
    "\n",
    "}\n",
    "\n",
    "#Program\n",
    "\n",
    "##Using recursion\n",
    "def calculator():\n",
    "    print(logo)\n",
    "    first_no = float(input(\"What's your first number?\"))\n",
    "    ## Creating a while loop\n",
    "    not_end = False\n",
    "    while not_end != True:\n",
    "        ## Checks whether the input is specified operation\n",
    "        wrong = False\n",
    "        while not wrong:\n",
    "            for key in operations: ## Looping through operations dict\n",
    "                print(key)\n",
    "            operation = input(\"Pick an operation: \")\n",
    "            if operation in operations.keys():\n",
    "                wrong = True\n",
    "            else:\n",
    "                print(\"Enter the specified operations: \")\n",
    "\n",
    "\n",
    "        second_no = float(input(\"What's your next number?\"))\n",
    "        ## calling functions using dictionary:\n",
    "        calculation_function = operations[operation]\n",
    "        answer = calculation_function(first_no, second_no)\n",
    "\n",
    "        print(f\"{first_no} {operation} {second_no} = {answer}\")\n",
    "        loop = input(f\"Type 'y' to continue calculating with {answer},\\n or 'n' to start new calculation \\n or 'stop' to end: \").lower()\n",
    "        ##Using loop to check all three outcomes\n",
    "        if loop == 'y':\n",
    "            first_no = answer\n",
    "            clear_output()\n",
    "        elif loop == 'n':\n",
    "            clear_output()\n",
    "            calculator() # calling calculator fn inside calculator fn -> recursion\n",
    "        else:\n",
    "            not_end = True\n",
    " \n",
    "calculator()\n",
    "    \n"
   ]
  },
  {
   "cell_type": "code",
   "execution_count": null,
   "id": "fb15ccba-a327-4e6d-b793-4c6aa7281dbf",
   "metadata": {},
   "outputs": [],
   "source": []
  }
 ],
 "metadata": {
  "kernelspec": {
   "display_name": "Python 3 (ipykernel)",
   "language": "python",
   "name": "python3"
  },
  "language_info": {
   "codemirror_mode": {
    "name": "ipython",
    "version": 3
   },
   "file_extension": ".py",
   "mimetype": "text/x-python",
   "name": "python",
   "nbconvert_exporter": "python",
   "pygments_lexer": "ipython3",
   "version": "3.9.7"
  }
 },
 "nbformat": 4,
 "nbformat_minor": 5
}
