{
 "cells": [
  {
   "cell_type": "markdown",
   "id": "684026b1",
   "metadata": {},
   "source": [
    "## Day-1 Use of Print function"
   ]
  },
  {
   "cell_type": "code",
   "execution_count": 1,
   "id": "1cd5fb54",
   "metadata": {},
   "outputs": [
    {
     "name": "stdout",
     "output_type": "stream",
     "text": [
      "Welcome to the Band Name Generator\n",
      "What's the name of the city you grew up in? \n",
      "Osaka\n",
      "What your pet's name? \n",
      "Inu\n",
      "Your band name could be Osaka Inu\n"
     ]
    }
   ],
   "source": [
    "#Band Name Generator\n",
    "print(\"Welcome to the Band Name Generator\")\n",
    "city = input(\"What's the name of the city you grew up in? \\n\")\n",
    "pet_name = input(\"What your pet's name? \\n\")\n",
    "# print(\"Your band name could be \", city + ' ' + pet_name)\n",
    "## .format method for print funtion\n",
    "# print( \"Your band name could be {0} {1}\".format(city, pet_name))\n",
    "print(f\"Your band name could be {city} {pet_name}\")"
   ]
  },
  {
   "cell_type": "code",
   "execution_count": null,
   "id": "317b2ea2",
   "metadata": {},
   "outputs": [],
   "source": []
  }
 ],
 "metadata": {
  "kernelspec": {
   "display_name": "Python 3 (ipykernel)",
   "language": "python",
   "name": "python3"
  },
  "language_info": {
   "codemirror_mode": {
    "name": "ipython",
    "version": 3
   },
   "file_extension": ".py",
   "mimetype": "text/x-python",
   "name": "python",
   "nbconvert_exporter": "python",
   "pygments_lexer": "ipython3",
   "version": "3.9.7"
  }
 },
 "nbformat": 4,
 "nbformat_minor": 5
}
