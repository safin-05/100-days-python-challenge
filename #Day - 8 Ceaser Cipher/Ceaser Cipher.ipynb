{
 "cells": [
  {
   "cell_type": "code",
   "execution_count": 1,
   "id": "9df15b05-c4f8-47fc-90f4-527da5c0255d",
   "metadata": {},
   "outputs": [],
   "source": [
    "from ceaser_art import logo"
   ]
  },
  {
   "cell_type": "code",
   "execution_count": 2,
   "id": "0cb7e8cb-6ecc-4fbe-ba5a-bbb0a389eadd",
   "metadata": {},
   "outputs": [
    {
     "name": "stdout",
     "output_type": "stream",
     "text": [
      "           \n",
      " ,adPPYba, ,adPPYYba,  ,adPPYba, ,adPPYba, ,adPPYYba, 8b,dPPYba,  \n",
      "a8\"     \"\" \"\"     `Y8 a8P_____88 I8[    \"\" \"\"     `Y8 88P'   \"Y8  \n",
      "8b         ,adPPPPP88 8PP\"  `\"Y8ba,  ,adPPPPP88 88          \n",
      "\"8a,   ,aa 88,    ,88 \"8b,   ,aa aa    ]8I 88,    ,88 88          \n",
      " `\"Ybbd8\"' `\"8bbdP\"Y8  `\"Ybbd8\"' `\"YbbdP\"' `\"8bbdP\"Y8 88   \n",
      "            88             88                                 \n",
      "           \"\"             88                                 \n",
      "                          88                                 \n",
      " ,adPPYba, 88 8b,dPPYba,  88,dPPYba,   ,adPPYba, 8b,dPPYba,  \n",
      "a8\"     \"\" 88 88P'    \"8a 88P'    \"8a a8P_____88 88P'   \"Y8  \n",
      "8b         88 88       d8 88       88 8PP\" 88          \n",
      "\"8a,   ,aa 88 88b,   ,a8\" 88       88 \"8b,   ,aa 88          \n",
      " `\"Ybbd8\"' 88 88`YbbdP\"'  88       88  `\"Ybbd8\"' 88          \n",
      "              88                                             \n",
      "              88           \n",
      "\n"
     ]
    },
    {
     "name": "stdin",
     "output_type": "stream",
     "text": [
      "Type 'encode' to encrypt, 'decode' to decrypt:\n",
      " encode\n",
      "Type your message:\n",
      " You are beautiful :)\n",
      "Type the shift number 3\n"
     ]
    },
    {
     "name": "stdout",
     "output_type": "stream",
     "text": [
      " The encoded text is: brxduhehdxwlixo:)\n"
     ]
    },
    {
     "name": "stdin",
     "output_type": "stream",
     "text": [
      "Type 'yes' if you want to go again, otherwise type 'no' yes\n",
      "Type 'encode' to encrypt, 'decode' to decrypt:\n",
      " decode\n",
      "Type your message:\n",
      " bruxduhehdxwlixo:)\n",
      "Type the shift number 3\n"
     ]
    },
    {
     "name": "stdout",
     "output_type": "stream",
     "text": [
      " The decoded text is: yoruarebeautiful:)\n"
     ]
    },
    {
     "name": "stdin",
     "output_type": "stream",
     "text": [
      "Type 'yes' if you want to go again, otherwise type 'no' no\n"
     ]
    }
   ],
   "source": [
    "#     def encrypt(text, shift):       ## Encrypting the given message\n",
    "#         letter = [x for x in text]\n",
    "#         letter1 = []\n",
    "#         for i in range(len(letter)):\n",
    "#             index = alphabet.index(letter[i])\n",
    "#             if (index + shift) <= 25:\n",
    "#                 letter1 += alphabet[index + shift]\n",
    "#             else:\n",
    "#                 index1 = (index+shift) - 25\n",
    "#                 letter1 += alphabet[index1]\n",
    "                \n",
    "#         encode = \"\".join(letter1)\n",
    "#         print(f\"The encoded text is: {encode}\")\n",
    "        \n",
    "#     def decrypt(text, shift):       ## Decrypting the given message\n",
    "#         letter = [x for x in text]\n",
    "#         letter1 =[]\n",
    "#         for i in range(len(letter)):\n",
    "#             index = alphabet.index(letter[i])\n",
    "#             if (index - shift) >= 0:\n",
    "#                 letter1 += alphabet[index - shift]\n",
    "#             else:\n",
    "#                 index1 = (index- shift) + 25\n",
    "#                 letter1 += alphabet[index1]\n",
    "#         decode = \"\".join(letter1)\n",
    "#         print(f\"The decoded text is: {decode}\")\n",
    "\n",
    "\n",
    "## Combining encode and decode function into ceaser funtion\n",
    "def ceaser(text, move, direction):\n",
    "    letter = [x for x in text]\n",
    "    letter1 = []\n",
    "    if direction == 'decode':\n",
    "        move *= -1\n",
    "        \n",
    "    for i in range(len(letter)):\n",
    "        \n",
    "        if letter[i] in alphabet:\n",
    "            index = alphabet.index(letter[i])\n",
    "            new_position = index + move\n",
    "            if new_position > 25:\n",
    "                index1 = new_position % 26\n",
    "                letter1 += alphabet[index1]\n",
    "            elif new_position < 0:\n",
    "                new_position *= -1\n",
    "                index1 = 26 -new_position\n",
    "                letter1 += alphabet[index1]\n",
    "            else:\n",
    "                letter1 += alphabet[new_position]\n",
    "        else:\n",
    "            letter1 += letter[i]\n",
    "                \n",
    "    text1 = \"\".join(letter1)\n",
    "    print(f\" The {direction}d text is: {text1}\")\n",
    "\n",
    "## alphabets t\n",
    "alphabet = ['a', 'b', 'c', 'd', 'e', 'f', 'g', 'h', 'i', 'j', 'k', 'l',\n",
    "        'm', 'n', 'o', 'p', 'q', 'r', 's', 't', 'u', 'v', 'w', 'x',\n",
    "        'y', 'z']\n",
    "\n",
    "print(logo)\n",
    "go_on = False\n",
    "while go_on != True:\n",
    "\n",
    "    while True:\n",
    "        code = input(\"Type 'encode' to encrypt, 'decode' to decrypt:\\n\").lower()\n",
    "        if (code == 'encode') or (code == 'decode'):\n",
    "            break\n",
    "        else:\n",
    "            print(\"invalid output. Enter either 'encode' or 'decode'.\")\n",
    "    msg = input(\"Type your message:\\n\").replace(\" \", \"\").lower()\n",
    "    shift = int(input(\"Type the shift number\"))\n",
    "\n",
    "    # if code == 'encode':  ## calling encode or decode funtion as per user's input\n",
    "    #     encrypt(msg, shift)\n",
    "    # elif code == 'decode':\n",
    "    #     decrypt(msg, shift)\n",
    "    ceaser(msg, shift, code)\n",
    "\n",
    "## To find whether to end the loop or continue using it\n",
    "    loop = input(\"Type 'yes' if you want to go again, otherwise type 'no'\").lower()\n",
    "    if loop == 'no':\n",
    "        go_on = True\n",
    "    \n",
    "\n",
    "\n",
    "        \n",
    "    "
   ]
  },
  {
   "cell_type": "code",
   "execution_count": null,
   "id": "432046b3-c7b7-48a6-8301-11df81178d73",
   "metadata": {},
   "outputs": [],
   "source": []
  },
  {
   "cell_type": "code",
   "execution_count": null,
   "id": "095e09fb-2690-42e7-82b6-6b2c512bcb2e",
   "metadata": {},
   "outputs": [],
   "source": []
  },
  {
   "cell_type": "code",
   "execution_count": null,
   "id": "e522a5e4-7b95-4b74-88ff-b9c28fc58410",
   "metadata": {},
   "outputs": [],
   "source": []
  }
 ],
 "metadata": {
  "kernelspec": {
   "display_name": "Python 3 (ipykernel)",
   "language": "python",
   "name": "python3"
  },
  "language_info": {
   "codemirror_mode": {
    "name": "ipython",
    "version": 3
   },
   "file_extension": ".py",
   "mimetype": "text/x-python",
   "name": "python",
   "nbconvert_exporter": "python",
   "pygments_lexer": "ipython3",
   "version": "3.9.7"
  }
 },
 "nbformat": 4,
 "nbformat_minor": 5
}
