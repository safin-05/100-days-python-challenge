{
  "nbformat": 4,
  "nbformat_minor": 0,
  "metadata": {
    "colab": {
      "provenance": [],
      "authorship_tag": "ABX9TyOxEbEOGzTtuuiBX6DbnQtc"
    },
    "kernelspec": {
      "name": "ir",
      "display_name": "R"
    },
    "language_info": {
      "name": "R"
    }
  },
  "cells": [
    {
      "cell_type": "code",
      "execution_count": null,
      "metadata": {
        "colab": {
          "base_uri": "https://localhost:8080/"
        },
        "id": "KdGCh3Kp9My4",
        "outputId": "1e5cdfa4-4747-4797-f3bb-51031372da55"
      },
      "outputs": [
        {
          "output_type": "stream",
          "name": "stderr",
          "text": [
            "Warning message in system(\"timedatectl\", intern = TRUE):\n",
            "“running command 'timedatectl' had status 1”\n",
            "── \u001b[1mAttaching packages\u001b[22m ─────────────────────────────────────── tidyverse 1.3.1 ──\n",
            "\n",
            "\u001b[32m✔\u001b[39m \u001b[34mggplot2\u001b[39m 3.4.1     \u001b[32m✔\u001b[39m \u001b[34mpurrr  \u001b[39m 1.0.1\n",
            "\u001b[32m✔\u001b[39m \u001b[34mtibble \u001b[39m 3.2.0     \u001b[32m✔\u001b[39m \u001b[34mdplyr  \u001b[39m 1.1.0\n",
            "\u001b[32m✔\u001b[39m \u001b[34mtidyr  \u001b[39m 1.3.0     \u001b[32m✔\u001b[39m \u001b[34mstringr\u001b[39m 1.4.1\n",
            "\u001b[32m✔\u001b[39m \u001b[34mreadr  \u001b[39m 2.1.4     \u001b[32m✔\u001b[39m \u001b[34mforcats\u001b[39m 1.0.0\n",
            "\n",
            "── \u001b[1mConflicts\u001b[22m ────────────────────────────────────────── tidyverse_conflicts() ──\n",
            "\u001b[31m✖\u001b[39m \u001b[34mdplyr\u001b[39m::\u001b[32mfilter()\u001b[39m masks \u001b[34mstats\u001b[39m::filter()\n",
            "\u001b[31m✖\u001b[39m \u001b[34mdplyr\u001b[39m::\u001b[32mlag()\u001b[39m    masks \u001b[34mstats\u001b[39m::lag()\n",
            "\n",
            "\n",
            "Attaching package: ‘lubridate’\n",
            "\n",
            "\n",
            "The following objects are masked from ‘package:base’:\n",
            "\n",
            "    date, intersect, setdiff, union\n",
            "\n",
            "\n",
            "\n",
            "Attaching package: ‘hms’\n",
            "\n",
            "\n",
            "The following object is masked from ‘package:lubridate’:\n",
            "\n",
            "    hms\n",
            "\n",
            "\n",
            "\n",
            "Attaching package: ‘data.table’\n",
            "\n",
            "\n",
            "The following objects are masked from ‘package:lubridate’:\n",
            "\n",
            "    hour, isoweek, mday, minute, month, quarter, second, wday, week,\n",
            "    yday, year\n",
            "\n",
            "\n",
            "The following objects are masked from ‘package:dplyr’:\n",
            "\n",
            "    between, first, last\n",
            "\n",
            "\n",
            "The following object is masked from ‘package:purrr’:\n",
            "\n",
            "    transpose\n",
            "\n",
            "\n"
          ]
        }
      ],
      "source": [
        "#load libraries \n",
        "library(tidyverse) #calculations\n",
        "library(lubridate) #dates \n",
        "library(hms) #time\n",
        "library(data.table) #exporting data frame\n",
        "\n"
      ]
    },
    {
      "cell_type": "code",
      "source": [
        "install.packages(\"geosphere\") #distance"
      ],
      "metadata": {
        "colab": {
          "base_uri": "https://localhost:8080/"
        },
        "id": "fBknJCQmamWX",
        "outputId": "085a7002-1ab8-4b14-fc4a-33ea5997012f"
      },
      "execution_count": null,
      "outputs": [
        {
          "output_type": "stream",
          "name": "stderr",
          "text": [
            "Installing package into ‘/usr/local/lib/R/site-library’\n",
            "(as ‘lib’ is unspecified)\n",
            "\n",
            "also installing the dependencies ‘Rcpp’, ‘sp’\n",
            "\n",
            "\n"
          ]
        }
      ]
    },
    {
      "cell_type": "code",
      "source": [
        "install.packages(\"oce\")"
      ],
      "metadata": {
        "colab": {
          "base_uri": "https://localhost:8080/"
        },
        "id": "lViL6RfxbQMG",
        "outputId": "971932ef-3b50-45ec-940d-6f385a618367"
      },
      "execution_count": null,
      "outputs": [
        {
          "output_type": "stream",
          "name": "stderr",
          "text": [
            "Installing package into ‘/usr/local/lib/R/site-library’\n",
            "(as ‘lib’ is unspecified)\n",
            "\n",
            "also installing the dependency ‘gsw’\n",
            "\n",
            "\n"
          ]
        }
      ]
    },
    {
      "cell_type": "code",
      "source": [
        "library(geosphere)\n",
        "library(oce)"
      ],
      "metadata": {
        "colab": {
          "base_uri": "https://localhost:8080/"
        },
        "id": "GOiUzxZ-a1pG",
        "outputId": "b445cbd0-1c9d-4b6c-8dea-3b6d80c8d073"
      },
      "execution_count": null,
      "outputs": [
        {
          "output_type": "stream",
          "name": "stderr",
          "text": [
            "Loading required package: gsw\n",
            "\n"
          ]
        }
      ]
    },
    {
      "cell_type": "code",
      "source": [
        "apr04_df <- read_csv(\"202104-divvy-tripdata.csv\")\n",
        "may05_df <- read_csv(\"202105-divvy-tripdata.csv\") \n",
        "jun06_df <- read_csv(\"202106-divvy-tripdata.csv\") \n",
        "jul07_df <- read_csv(\"202107-divvy-tripdata.csv\") \n",
        "aug08_df <- read_csv(\"202108-divvy-tripdata.csv\") \n",
        "sep09_df <- read_csv(\"202109-divvy-tripdata.csv\") \n",
        "oct10_df <- read_csv(\"202110-divvy-tripdata.csv\")\n",
        "nov11_df <- read_csv(\"202111-divvy-tripdata.csv\") \n",
        "dec12_df <- read_csv(\"202112-divvy-tripdata.csv\")\n",
        "jan01_df <- read_csv(\"202201-divvy-tripdata.csv\") \n",
        "feb02_df <- read_csv(\"202202-divvy-tripdata.csv\") \n",
        "mar03_df <- read_csv(\"202203-divvy-tripdata.csv\")\n"
      ],
      "metadata": {
        "colab": {
          "base_uri": "https://localhost:8080/"
        },
        "id": "fJsK3lh1F-mQ",
        "outputId": "41be778f-6660-4134-c4f3-7196b0257896"
      },
      "execution_count": null,
      "outputs": [
        {
          "output_type": "stream",
          "name": "stderr",
          "text": [
            "\u001b[1mRows: \u001b[22m\u001b[34m143022\u001b[39m \u001b[1mColumns: \u001b[22m\u001b[34m13\u001b[39m\n",
            "\u001b[36m──\u001b[39m \u001b[1mColumn specification\u001b[22m \u001b[36m────────────────────────────────────────────────────────\u001b[39m\n",
            "\u001b[1mDelimiter:\u001b[22m \",\"\n",
            "\u001b[31mchr\u001b[39m  (7): ride_id, rideable_type, start_station_name, start_station_id, end_...\n",
            "\u001b[32mdbl\u001b[39m  (4): start_lat, start_lng, end_lat, end_lng\n",
            "\u001b[34mdttm\u001b[39m (2): started_at, ended_at\n",
            "\n",
            "\u001b[36mℹ\u001b[39m Use `spec()` to retrieve the full column specification for this data.\n",
            "\u001b[36mℹ\u001b[39m Specify the column types or set `show_col_types = FALSE` to quiet this message.\n",
            "\u001b[1mRows: \u001b[22m\u001b[34m120063\u001b[39m \u001b[1mColumns: \u001b[22m\u001b[34m13\u001b[39m\n",
            "\u001b[36m──\u001b[39m \u001b[1mColumn specification\u001b[22m \u001b[36m────────────────────────────────────────────────────────\u001b[39m\n",
            "\u001b[1mDelimiter:\u001b[22m \",\"\n",
            "\u001b[31mchr\u001b[39m  (7): ride_id, rideable_type, start_station_name, start_station_id, end_...\n",
            "\u001b[32mdbl\u001b[39m  (4): start_lat, start_lng, end_lat, end_lng\n",
            "\u001b[34mdttm\u001b[39m (2): started_at, ended_at\n",
            "\n",
            "\u001b[36mℹ\u001b[39m Use `spec()` to retrieve the full column specification for this data.\n",
            "\u001b[36mℹ\u001b[39m Specify the column types or set `show_col_types = FALSE` to quiet this message.\n",
            "\u001b[1mRows: \u001b[22m\u001b[34m106889\u001b[39m \u001b[1mColumns: \u001b[22m\u001b[34m13\u001b[39m\n",
            "\u001b[36m──\u001b[39m \u001b[1mColumn specification\u001b[22m \u001b[36m────────────────────────────────────────────────────────\u001b[39m\n",
            "\u001b[1mDelimiter:\u001b[22m \",\"\n",
            "\u001b[31mchr\u001b[39m  (7): ride_id, rideable_type, start_station_name, start_station_id, end_...\n",
            "\u001b[32mdbl\u001b[39m  (4): start_lat, start_lng, end_lat, end_lng\n",
            "\u001b[34mdttm\u001b[39m (2): started_at, ended_at\n",
            "\n",
            "\u001b[36mℹ\u001b[39m Use `spec()` to retrieve the full column specification for this data.\n",
            "\u001b[36mℹ\u001b[39m Specify the column types or set `show_col_types = FALSE` to quiet this message.\n",
            "\u001b[1mRows: \u001b[22m\u001b[34m102231\u001b[39m \u001b[1mColumns: \u001b[22m\u001b[34m13\u001b[39m\n",
            "\u001b[36m──\u001b[39m \u001b[1mColumn specification\u001b[22m \u001b[36m────────────────────────────────────────────────────────\u001b[39m\n",
            "\u001b[1mDelimiter:\u001b[22m \",\"\n",
            "\u001b[31mchr\u001b[39m  (7): ride_id, rideable_type, start_station_name, start_station_id, end_...\n",
            "\u001b[32mdbl\u001b[39m  (4): start_lat, start_lng, end_lat, end_lng\n",
            "\u001b[34mdttm\u001b[39m (2): started_at, ended_at\n",
            "\n",
            "\u001b[36mℹ\u001b[39m Use `spec()` to retrieve the full column specification for this data.\n",
            "\u001b[36mℹ\u001b[39m Specify the column types or set `show_col_types = FALSE` to quiet this message.\n",
            "\u001b[1mRows: \u001b[22m\u001b[34m93618\u001b[39m \u001b[1mColumns: \u001b[22m\u001b[34m13\u001b[39m\n",
            "\u001b[36m──\u001b[39m \u001b[1mColumn specification\u001b[22m \u001b[36m────────────────────────────────────────────────────────\u001b[39m\n",
            "\u001b[1mDelimiter:\u001b[22m \",\"\n",
            "\u001b[31mchr\u001b[39m  (7): ride_id, rideable_type, start_station_name, start_station_id, end_...\n",
            "\u001b[32mdbl\u001b[39m  (4): start_lat, start_lng, end_lat, end_lng\n",
            "\u001b[34mdttm\u001b[39m (2): started_at, ended_at\n",
            "\n",
            "\u001b[36mℹ\u001b[39m Use `spec()` to retrieve the full column specification for this data.\n",
            "\u001b[36mℹ\u001b[39m Specify the column types or set `show_col_types = FALSE` to quiet this message.\n",
            "\u001b[1mRows: \u001b[22m\u001b[34m93624\u001b[39m \u001b[1mColumns: \u001b[22m\u001b[34m13\u001b[39m\n",
            "\u001b[36m──\u001b[39m \u001b[1mColumn specification\u001b[22m \u001b[36m────────────────────────────────────────────────────────\u001b[39m\n",
            "\u001b[1mDelimiter:\u001b[22m \",\"\n",
            "\u001b[31mchr\u001b[39m  (7): ride_id, rideable_type, start_station_name, start_station_id, end_...\n",
            "\u001b[32mdbl\u001b[39m  (4): start_lat, start_lng, end_lat, end_lng\n",
            "\u001b[34mdttm\u001b[39m (2): started_at, ended_at\n",
            "\n",
            "\u001b[36mℹ\u001b[39m Use `spec()` to retrieve the full column specification for this data.\n",
            "\u001b[36mℹ\u001b[39m Specify the column types or set `show_col_types = FALSE` to quiet this message.\n",
            "\u001b[1mRows: \u001b[22m\u001b[34m119903\u001b[39m \u001b[1mColumns: \u001b[22m\u001b[34m13\u001b[39m\n",
            "\u001b[36m──\u001b[39m \u001b[1mColumn specification\u001b[22m \u001b[36m────────────────────────────────────────────────────────\u001b[39m\n",
            "\u001b[1mDelimiter:\u001b[22m \",\"\n",
            "\u001b[31mchr\u001b[39m  (7): ride_id, rideable_type, start_station_name, start_station_id, end_...\n",
            "\u001b[32mdbl\u001b[39m  (4): start_lat, start_lng, end_lat, end_lng\n",
            "\u001b[34mdttm\u001b[39m (2): started_at, ended_at\n",
            "\n",
            "\u001b[36mℹ\u001b[39m Use `spec()` to retrieve the full column specification for this data.\n",
            "\u001b[36mℹ\u001b[39m Specify the column types or set `show_col_types = FALSE` to quiet this message.\n",
            "\u001b[1mRows: \u001b[22m\u001b[34m134946\u001b[39m \u001b[1mColumns: \u001b[22m\u001b[34m13\u001b[39m\n",
            "\u001b[36m──\u001b[39m \u001b[1mColumn specification\u001b[22m \u001b[36m────────────────────────────────────────────────────────\u001b[39m\n",
            "\u001b[1mDelimiter:\u001b[22m \",\"\n",
            "\u001b[31mchr\u001b[39m  (7): ride_id, rideable_type, start_station_name, start_station_id, end_...\n",
            "\u001b[32mdbl\u001b[39m  (4): start_lat, start_lng, end_lat, end_lng\n",
            "\u001b[34mdttm\u001b[39m (2): started_at, ended_at\n",
            "\n",
            "\u001b[36mℹ\u001b[39m Use `spec()` to retrieve the full column specification for this data.\n",
            "\u001b[36mℹ\u001b[39m Specify the column types or set `show_col_types = FALSE` to quiet this message.\n",
            "\u001b[1mRows: \u001b[22m\u001b[34m123579\u001b[39m \u001b[1mColumns: \u001b[22m\u001b[34m13\u001b[39m\n",
            "\u001b[36m──\u001b[39m \u001b[1mColumn specification\u001b[22m \u001b[36m────────────────────────────────────────────────────────\u001b[39m\n",
            "\u001b[1mDelimiter:\u001b[22m \",\"\n",
            "\u001b[31mchr\u001b[39m  (7): ride_id, rideable_type, start_station_name, start_station_id, end_...\n",
            "\u001b[32mdbl\u001b[39m  (4): start_lat, start_lng, end_lat, end_lng\n",
            "\u001b[34mdttm\u001b[39m (2): started_at, ended_at\n",
            "\n",
            "\u001b[36mℹ\u001b[39m Use `spec()` to retrieve the full column specification for this data.\n",
            "\u001b[36mℹ\u001b[39m Specify the column types or set `show_col_types = FALSE` to quiet this message.\n",
            "\u001b[1mRows: \u001b[22m\u001b[34m103770\u001b[39m \u001b[1mColumns: \u001b[22m\u001b[34m13\u001b[39m\n",
            "\u001b[36m──\u001b[39m \u001b[1mColumn specification\u001b[22m \u001b[36m────────────────────────────────────────────────────────\u001b[39m\n",
            "\u001b[1mDelimiter:\u001b[22m \",\"\n",
            "\u001b[31mchr\u001b[39m  (7): ride_id, rideable_type, start_station_name, start_station_id, end_...\n",
            "\u001b[32mdbl\u001b[39m  (4): start_lat, start_lng, end_lat, end_lng\n",
            "\u001b[34mdttm\u001b[39m (2): started_at, ended_at\n",
            "\n",
            "\u001b[36mℹ\u001b[39m Use `spec()` to retrieve the full column specification for this data.\n",
            "\u001b[36mℹ\u001b[39m Specify the column types or set `show_col_types = FALSE` to quiet this message.\n",
            "\u001b[1mRows: \u001b[22m\u001b[34m115609\u001b[39m \u001b[1mColumns: \u001b[22m\u001b[34m13\u001b[39m\n",
            "\u001b[36m──\u001b[39m \u001b[1mColumn specification\u001b[22m \u001b[36m────────────────────────────────────────────────────────\u001b[39m\n",
            "\u001b[1mDelimiter:\u001b[22m \",\"\n",
            "\u001b[31mchr\u001b[39m  (7): ride_id, rideable_type, start_station_name, start_station_id, end_...\n",
            "\u001b[32mdbl\u001b[39m  (4): start_lat, start_lng, end_lat, end_lng\n",
            "\u001b[34mdttm\u001b[39m (2): started_at, ended_at\n",
            "\n",
            "\u001b[36mℹ\u001b[39m Use `spec()` to retrieve the full column specification for this data.\n",
            "\u001b[36mℹ\u001b[39m Specify the column types or set `show_col_types = FALSE` to quiet this message.\n",
            "\u001b[1mRows: \u001b[22m\u001b[34m118225\u001b[39m \u001b[1mColumns: \u001b[22m\u001b[34m13\u001b[39m\n",
            "\u001b[36m──\u001b[39m \u001b[1mColumn specification\u001b[22m \u001b[36m────────────────────────────────────────────────────────\u001b[39m\n",
            "\u001b[1mDelimiter:\u001b[22m \",\"\n",
            "\u001b[31mchr\u001b[39m  (7): ride_id, rideable_type, start_station_name, start_station_id, end_...\n",
            "\u001b[32mdbl\u001b[39m  (4): start_lat, start_lng, end_lat, end_lng\n",
            "\u001b[34mdttm\u001b[39m (2): started_at, ended_at\n",
            "\n",
            "\u001b[36mℹ\u001b[39m Use `spec()` to retrieve the full column specification for this data.\n",
            "\u001b[36mℹ\u001b[39m Specify the column types or set `show_col_types = FALSE` to quiet this message.\n"
          ]
        }
      ]
    },
    {
      "cell_type": "code",
      "source": [
        "#merge all of the data frames into one year view\n",
        "cyclistic_df <- rbind (apr04_df, may05_df, jun06_df, jul07_df, aug08_df, sep09_df, oct10_df, nov11_df, dec12_df, jan01_df, feb02_df, mar03_df)"
      ],
      "metadata": {
        "id": "Ng4sL_xKLySl"
      },
      "execution_count": null,
      "outputs": []
    },
    {
      "cell_type": "code",
      "source": [
        "#create new data frame to contain new columns\n",
        "cyclistic_date <- cyclistic_df"
      ],
      "metadata": {
        "id": "rlULu62tLX_P"
      },
      "execution_count": null,
      "outputs": []
    },
    {
      "cell_type": "code",
      "source": [
        "#clean the data\n",
        "cyclistic_date <- na.omit(cyclistic_date) #remove rows with NA values\n",
        "cyclistic_date <- distinct(cyclistic_date) #remove duplicate rows "
      ],
      "metadata": {
        "id": "j1u--wu-QRDQ"
      },
      "execution_count": null,
      "outputs": []
    },
    {
      "cell_type": "code",
      "source": [
        "# Inspect the new table that has been created\n",
        "colnames(cyclistic_date)  #List of column names\n"
      ],
      "metadata": {
        "colab": {
          "base_uri": "https://localhost:8080/",
          "height": 52
        },
        "id": "-nJ0hei3QUTO",
        "outputId": "3acb55ed-1be1-41cd-8231-17361ae14d8c"
      },
      "execution_count": null,
      "outputs": [
        {
          "output_type": "display_data",
          "data": {
            "text/html": [
              "<style>\n",
              ".list-inline {list-style: none; margin:0; padding: 0}\n",
              ".list-inline>li {display: inline-block}\n",
              ".list-inline>li:not(:last-child)::after {content: \"\\00b7\"; padding: 0 .5ex}\n",
              "</style>\n",
              "<ol class=list-inline><li>'ride_id'</li><li>'rideable_type'</li><li>'started_at'</li><li>'ended_at'</li><li>'start_station_name'</li><li>'start_station_id'</li><li>'end_station_name'</li><li>'end_station_id'</li><li>'start_lat'</li><li>'start_lng'</li><li>'end_lat'</li><li>'end_lng'</li><li>'member_casual'</li></ol>\n"
            ],
            "text/markdown": "1. 'ride_id'\n2. 'rideable_type'\n3. 'started_at'\n4. 'ended_at'\n5. 'start_station_name'\n6. 'start_station_id'\n7. 'end_station_name'\n8. 'end_station_id'\n9. 'start_lat'\n10. 'start_lng'\n11. 'end_lat'\n12. 'end_lng'\n13. 'member_casual'\n\n\n",
            "text/latex": "\\begin{enumerate*}\n\\item 'ride\\_id'\n\\item 'rideable\\_type'\n\\item 'started\\_at'\n\\item 'ended\\_at'\n\\item 'start\\_station\\_name'\n\\item 'start\\_station\\_id'\n\\item 'end\\_station\\_name'\n\\item 'end\\_station\\_id'\n\\item 'start\\_lat'\n\\item 'start\\_lng'\n\\item 'end\\_lat'\n\\item 'end\\_lng'\n\\item 'member\\_casual'\n\\end{enumerate*}\n",
            "text/plain": [
              " [1] \"ride_id\"            \"rideable_type\"      \"started_at\"        \n",
              " [4] \"ended_at\"           \"start_station_name\" \"start_station_id\"  \n",
              " [7] \"end_station_name\"   \"end_station_id\"     \"start_lat\"         \n",
              "[10] \"start_lng\"          \"end_lat\"            \"end_lng\"           \n",
              "[13] \"member_casual\"     "
            ]
          },
          "metadata": {}
        }
      ]
    },
    {
      "cell_type": "code",
      "source": [
        "nrow(cyclistic_date)  #How many rows are in data frame?"
      ],
      "metadata": {
        "colab": {
          "base_uri": "https://localhost:8080/",
          "height": 34
        },
        "id": "umtNWOVjQsxu",
        "outputId": "93ecf1c7-d281-42c9-9c61-1f490288de89"
      },
      "execution_count": null,
      "outputs": [
        {
          "output_type": "display_data",
          "data": {
            "text/html": [
              "4641395"
            ],
            "text/markdown": "4641395",
            "text/latex": "4641395",
            "text/plain": [
              "[1] 4641395"
            ]
          },
          "metadata": {}
        }
      ]
    },
    {
      "cell_type": "code",
      "source": [
        "dim(cyclistic_date)  #Dimensions of the data frame?"
      ],
      "metadata": {
        "colab": {
          "base_uri": "https://localhost:8080/",
          "height": 34
        },
        "id": "NHgnSRwaQz0z",
        "outputId": "de2a8fb8-ae51-41a4-abde-dfc4979433c8"
      },
      "execution_count": null,
      "outputs": [
        {
          "output_type": "display_data",
          "data": {
            "text/html": [
              "<style>\n",
              ".list-inline {list-style: none; margin:0; padding: 0}\n",
              ".list-inline>li {display: inline-block}\n",
              ".list-inline>li:not(:last-child)::after {content: \"\\00b7\"; padding: 0 .5ex}\n",
              "</style>\n",
              "<ol class=list-inline><li>4641395</li><li>13</li></ol>\n"
            ],
            "text/markdown": "1. 4641395\n2. 13\n\n\n",
            "text/latex": "\\begin{enumerate*}\n\\item 4641395\n\\item 13\n\\end{enumerate*}\n",
            "text/plain": [
              "[1] 4641395      13"
            ]
          },
          "metadata": {}
        }
      ]
    },
    {
      "cell_type": "code",
      "source": [
        "head(cyclistic_date)  #See the first 6 rows of data frame.  Also tail(all_trips)"
      ],
      "metadata": {
        "colab": {
          "base_uri": "https://localhost:8080/",
          "height": 494
        },
        "id": "nyrqJRykQ6UW",
        "outputId": "4a12a2c8-31d0-4d1c-9457-09437b69caa5"
      },
      "execution_count": null,
      "outputs": [
        {
          "output_type": "display_data",
          "data": {
            "text/html": [
              "<table class=\"dataframe\">\n",
              "<caption>A tibble: 6 × 13</caption>\n",
              "<thead>\n",
              "\t<tr><th scope=col>ride_id</th><th scope=col>rideable_type</th><th scope=col>started_at</th><th scope=col>ended_at</th><th scope=col>start_station_name</th><th scope=col>start_station_id</th><th scope=col>end_station_name</th><th scope=col>end_station_id</th><th scope=col>start_lat</th><th scope=col>start_lng</th><th scope=col>end_lat</th><th scope=col>end_lng</th><th scope=col>member_casual</th></tr>\n",
              "\t<tr><th scope=col>&lt;chr&gt;</th><th scope=col>&lt;chr&gt;</th><th scope=col>&lt;dttm&gt;</th><th scope=col>&lt;dttm&gt;</th><th scope=col>&lt;chr&gt;</th><th scope=col>&lt;chr&gt;</th><th scope=col>&lt;chr&gt;</th><th scope=col>&lt;chr&gt;</th><th scope=col>&lt;dbl&gt;</th><th scope=col>&lt;dbl&gt;</th><th scope=col>&lt;dbl&gt;</th><th scope=col>&lt;dbl&gt;</th><th scope=col>&lt;chr&gt;</th></tr>\n",
              "</thead>\n",
              "<tbody>\n",
              "\t<tr><td>6C992BD37A98A63F</td><td>classic_bike</td><td>2021-04-12 18:25:36</td><td>2021-04-12 18:56:55</td><td><span style=white-space:pre-wrap>State St &amp; Pearson St   </span></td><td>TA1307000061</td><td>Southport Ave &amp; Waveland Ave</td><td><span style=white-space:pre-wrap>13235       </span></td><td>41.89745</td><td>-87.62872</td><td>41.94815</td><td>-87.66394</td><td>member</td></tr>\n",
              "\t<tr><td>1E0145613A209000</td><td>docked_bike </td><td>2021-04-27 17:27:11</td><td>2021-04-27 18:31:29</td><td>Dorchester Ave &amp; 49th St</td><td>KA1503000069</td><td><span style=white-space:pre-wrap>Dorchester Ave &amp; 49th St    </span></td><td>KA1503000069</td><td>41.80577</td><td>-87.59246</td><td>41.80577</td><td>-87.59246</td><td>casual</td></tr>\n",
              "\t<tr><td>E498E15508A80BAD</td><td>docked_bike </td><td>2021-04-03 12:42:45</td><td>2021-04-07 11:40:24</td><td><span style=white-space:pre-wrap>Loomis Blvd &amp; 84th St   </span></td><td><span style=white-space:pre-wrap>20121       </span></td><td><span style=white-space:pre-wrap>Loomis Blvd &amp; 84th St       </span></td><td><span style=white-space:pre-wrap>20121       </span></td><td>41.74149</td><td>-87.65841</td><td>41.74149</td><td>-87.65841</td><td>casual</td></tr>\n",
              "\t<tr><td>1887262AD101C604</td><td>classic_bike</td><td>2021-04-17 09:17:42</td><td>2021-04-17 09:42:48</td><td>Honore St &amp; Division St </td><td>TA1305000034</td><td>Southport Ave &amp; Waveland Ave</td><td><span style=white-space:pre-wrap>13235       </span></td><td>41.90312</td><td>-87.67394</td><td>41.94815</td><td>-87.66394</td><td>member</td></tr>\n",
              "\t<tr><td>C123548CAB2A32A5</td><td>docked_bike </td><td>2021-04-03 12:42:25</td><td>2021-04-03 14:13:42</td><td><span style=white-space:pre-wrap>Loomis Blvd &amp; 84th St   </span></td><td><span style=white-space:pre-wrap>20121       </span></td><td><span style=white-space:pre-wrap>Loomis Blvd &amp; 84th St       </span></td><td><span style=white-space:pre-wrap>20121       </span></td><td>41.74149</td><td>-87.65841</td><td>41.74149</td><td>-87.65841</td><td>casual</td></tr>\n",
              "\t<tr><td>097E76F3651B1AC1</td><td>classic_bike</td><td>2021-04-25 18:43:18</td><td>2021-04-25 18:43:59</td><td><span style=white-space:pre-wrap>Clinton St &amp; Polk St    </span></td><td><span style=white-space:pre-wrap>15542       </span></td><td><span style=white-space:pre-wrap>Clinton St &amp; Polk St        </span></td><td><span style=white-space:pre-wrap>15542       </span></td><td>41.87147</td><td>-87.64095</td><td>41.87147</td><td>-87.64095</td><td>casual</td></tr>\n",
              "</tbody>\n",
              "</table>\n"
            ],
            "text/markdown": "\nA tibble: 6 × 13\n\n| ride_id &lt;chr&gt; | rideable_type &lt;chr&gt; | started_at &lt;dttm&gt; | ended_at &lt;dttm&gt; | start_station_name &lt;chr&gt; | start_station_id &lt;chr&gt; | end_station_name &lt;chr&gt; | end_station_id &lt;chr&gt; | start_lat &lt;dbl&gt; | start_lng &lt;dbl&gt; | end_lat &lt;dbl&gt; | end_lng &lt;dbl&gt; | member_casual &lt;chr&gt; |\n|---|---|---|---|---|---|---|---|---|---|---|---|---|\n| 6C992BD37A98A63F | classic_bike | 2021-04-12 18:25:36 | 2021-04-12 18:56:55 | State St &amp; Pearson St    | TA1307000061 | Southport Ave &amp; Waveland Ave | 13235        | 41.89745 | -87.62872 | 41.94815 | -87.66394 | member |\n| 1E0145613A209000 | docked_bike  | 2021-04-27 17:27:11 | 2021-04-27 18:31:29 | Dorchester Ave &amp; 49th St | KA1503000069 | Dorchester Ave &amp; 49th St     | KA1503000069 | 41.80577 | -87.59246 | 41.80577 | -87.59246 | casual |\n| E498E15508A80BAD | docked_bike  | 2021-04-03 12:42:45 | 2021-04-07 11:40:24 | Loomis Blvd &amp; 84th St    | 20121        | Loomis Blvd &amp; 84th St        | 20121        | 41.74149 | -87.65841 | 41.74149 | -87.65841 | casual |\n| 1887262AD101C604 | classic_bike | 2021-04-17 09:17:42 | 2021-04-17 09:42:48 | Honore St &amp; Division St  | TA1305000034 | Southport Ave &amp; Waveland Ave | 13235        | 41.90312 | -87.67394 | 41.94815 | -87.66394 | member |\n| C123548CAB2A32A5 | docked_bike  | 2021-04-03 12:42:25 | 2021-04-03 14:13:42 | Loomis Blvd &amp; 84th St    | 20121        | Loomis Blvd &amp; 84th St        | 20121        | 41.74149 | -87.65841 | 41.74149 | -87.65841 | casual |\n| 097E76F3651B1AC1 | classic_bike | 2021-04-25 18:43:18 | 2021-04-25 18:43:59 | Clinton St &amp; Polk St     | 15542        | Clinton St &amp; Polk St         | 15542        | 41.87147 | -87.64095 | 41.87147 | -87.64095 | casual |\n\n",
            "text/latex": "A tibble: 6 × 13\n\\begin{tabular}{lllllllllllll}\n ride\\_id & rideable\\_type & started\\_at & ended\\_at & start\\_station\\_name & start\\_station\\_id & end\\_station\\_name & end\\_station\\_id & start\\_lat & start\\_lng & end\\_lat & end\\_lng & member\\_casual\\\\\n <chr> & <chr> & <dttm> & <dttm> & <chr> & <chr> & <chr> & <chr> & <dbl> & <dbl> & <dbl> & <dbl> & <chr>\\\\\n\\hline\n\t 6C992BD37A98A63F & classic\\_bike & 2021-04-12 18:25:36 & 2021-04-12 18:56:55 & State St \\& Pearson St    & TA1307000061 & Southport Ave \\& Waveland Ave & 13235        & 41.89745 & -87.62872 & 41.94815 & -87.66394 & member\\\\\n\t 1E0145613A209000 & docked\\_bike  & 2021-04-27 17:27:11 & 2021-04-27 18:31:29 & Dorchester Ave \\& 49th St & KA1503000069 & Dorchester Ave \\& 49th St     & KA1503000069 & 41.80577 & -87.59246 & 41.80577 & -87.59246 & casual\\\\\n\t E498E15508A80BAD & docked\\_bike  & 2021-04-03 12:42:45 & 2021-04-07 11:40:24 & Loomis Blvd \\& 84th St    & 20121        & Loomis Blvd \\& 84th St        & 20121        & 41.74149 & -87.65841 & 41.74149 & -87.65841 & casual\\\\\n\t 1887262AD101C604 & classic\\_bike & 2021-04-17 09:17:42 & 2021-04-17 09:42:48 & Honore St \\& Division St  & TA1305000034 & Southport Ave \\& Waveland Ave & 13235        & 41.90312 & -87.67394 & 41.94815 & -87.66394 & member\\\\\n\t C123548CAB2A32A5 & docked\\_bike  & 2021-04-03 12:42:25 & 2021-04-03 14:13:42 & Loomis Blvd \\& 84th St    & 20121        & Loomis Blvd \\& 84th St        & 20121        & 41.74149 & -87.65841 & 41.74149 & -87.65841 & casual\\\\\n\t 097E76F3651B1AC1 & classic\\_bike & 2021-04-25 18:43:18 & 2021-04-25 18:43:59 & Clinton St \\& Polk St     & 15542        & Clinton St \\& Polk St         & 15542        & 41.87147 & -87.64095 & 41.87147 & -87.64095 & casual\\\\\n\\end{tabular}\n",
            "text/plain": [
              "  ride_id          rideable_type started_at          ended_at           \n",
              "1 6C992BD37A98A63F classic_bike  2021-04-12 18:25:36 2021-04-12 18:56:55\n",
              "2 1E0145613A209000 docked_bike   2021-04-27 17:27:11 2021-04-27 18:31:29\n",
              "3 E498E15508A80BAD docked_bike   2021-04-03 12:42:45 2021-04-07 11:40:24\n",
              "4 1887262AD101C604 classic_bike  2021-04-17 09:17:42 2021-04-17 09:42:48\n",
              "5 C123548CAB2A32A5 docked_bike   2021-04-03 12:42:25 2021-04-03 14:13:42\n",
              "6 097E76F3651B1AC1 classic_bike  2021-04-25 18:43:18 2021-04-25 18:43:59\n",
              "  start_station_name       start_station_id end_station_name            \n",
              "1 State St & Pearson St    TA1307000061     Southport Ave & Waveland Ave\n",
              "2 Dorchester Ave & 49th St KA1503000069     Dorchester Ave & 49th St    \n",
              "3 Loomis Blvd & 84th St    20121            Loomis Blvd & 84th St       \n",
              "4 Honore St & Division St  TA1305000034     Southport Ave & Waveland Ave\n",
              "5 Loomis Blvd & 84th St    20121            Loomis Blvd & 84th St       \n",
              "6 Clinton St & Polk St     15542            Clinton St & Polk St        \n",
              "  end_station_id start_lat start_lng end_lat  end_lng   member_casual\n",
              "1 13235          41.89745  -87.62872 41.94815 -87.66394 member       \n",
              "2 KA1503000069   41.80577  -87.59246 41.80577 -87.59246 casual       \n",
              "3 20121          41.74149  -87.65841 41.74149 -87.65841 casual       \n",
              "4 13235          41.90312  -87.67394 41.94815 -87.66394 member       \n",
              "5 20121          41.74149  -87.65841 41.74149 -87.65841 casual       \n",
              "6 15542          41.87147  -87.64095 41.87147 -87.64095 casual       "
            ]
          },
          "metadata": {}
        }
      ]
    },
    {
      "cell_type": "code",
      "source": [
        "str(cyclistic_date)  #See list of columns and data types (numeric, character, etc)"
      ],
      "metadata": {
        "colab": {
          "base_uri": "https://localhost:8080/"
        },
        "id": "xWfPYeP0Q_re",
        "outputId": "35d09447-5b29-4c03-95a9-54a4427ebf67"
      },
      "execution_count": null,
      "outputs": [
        {
          "output_type": "stream",
          "name": "stdout",
          "text": [
            "tibble [4,641,395 × 13] (S3: tbl_df/tbl/data.frame)\n",
            " $ ride_id           : chr [1:4641395] \"6C992BD37A98A63F\" \"1E0145613A209000\" \"E498E15508A80BAD\" \"1887262AD101C604\" ...\n",
            " $ rideable_type     : chr [1:4641395] \"classic_bike\" \"docked_bike\" \"docked_bike\" \"classic_bike\" ...\n",
            " $ started_at        : POSIXct[1:4641395], format: \"2021-04-12 18:25:36\" \"2021-04-27 17:27:11\" ...\n",
            " $ ended_at          : POSIXct[1:4641395], format: \"2021-04-12 18:56:55\" \"2021-04-27 18:31:29\" ...\n",
            " $ start_station_name: chr [1:4641395] \"State St & Pearson St\" \"Dorchester Ave & 49th St\" \"Loomis Blvd & 84th St\" \"Honore St & Division St\" ...\n",
            " $ start_station_id  : chr [1:4641395] \"TA1307000061\" \"KA1503000069\" \"20121\" \"TA1305000034\" ...\n",
            " $ end_station_name  : chr [1:4641395] \"Southport Ave & Waveland Ave\" \"Dorchester Ave & 49th St\" \"Loomis Blvd & 84th St\" \"Southport Ave & Waveland Ave\" ...\n",
            " $ end_station_id    : chr [1:4641395] \"13235\" \"KA1503000069\" \"20121\" \"13235\" ...\n",
            " $ start_lat         : num [1:4641395] 41.9 41.8 41.7 41.9 41.7 ...\n",
            " $ start_lng         : num [1:4641395] -87.6 -87.6 -87.7 -87.7 -87.7 ...\n",
            " $ end_lat           : num [1:4641395] 41.9 41.8 41.7 41.9 41.7 ...\n",
            " $ end_lng           : num [1:4641395] -87.7 -87.6 -87.7 -87.7 -87.7 ...\n",
            " $ member_casual     : chr [1:4641395] \"member\" \"casual\" \"casual\" \"member\" ...\n",
            " - attr(*, \"na.action\")= 'omit' Named int [1:1082137] 160 492 493 494 1083 1084 1085 1086 1091 1998 ...\n",
            "  ..- attr(*, \"names\")= chr [1:1082137] \"160\" \"492\" \"493\" \"494\" ...\n"
          ]
        }
      ]
    },
    {
      "cell_type": "code",
      "source": [
        "summary(cyclistic_date)  #Statistical summary of data. Mainly for numerics"
      ],
      "metadata": {
        "colab": {
          "base_uri": "https://localhost:8080/",
          "height": 503
        },
        "id": "-Z1YbghURHF9",
        "outputId": "2b849cb5-6c65-4144-dd3a-ed9bf878b25d"
      },
      "execution_count": null,
      "outputs": [
        {
          "output_type": "display_data",
          "data": {
            "text/plain": [
              "   ride_id          rideable_type        started_at                    \n",
              " Length:4641395     Length:4641395     Min.   :2021-04-01 00:03:18.00  \n",
              " Class :character   Class :character   1st Qu.:2021-06-19 15:15:57.50  \n",
              " Mode  :character   Mode  :character   Median :2021-08-13 18:15:54.00  \n",
              "                                       Mean   :2021-08-22 17:46:59.99  \n",
              "                                       3rd Qu.:2021-10-09 00:04:35.00  \n",
              "                                       Max.   :2022-03-31 23:59:47.00  \n",
              "    ended_at                      start_station_name start_station_id  \n",
              " Min.   :2021-04-01 00:14:29.00   Length:4641395     Length:4641395    \n",
              " 1st Qu.:2021-06-19 15:45:10.00   Class :character   Class :character  \n",
              " Median :2021-08-13 18:35:09.00   Mode  :character   Mode  :character  \n",
              " Mean   :2021-08-22 18:08:21.38                                        \n",
              " 3rd Qu.:2021-10-09 00:23:48.00                                        \n",
              " Max.   :2022-04-01 22:10:12.00                                        \n",
              " end_station_name   end_station_id       start_lat       start_lng     \n",
              " Length:4641395     Length:4641395     Min.   :41.65   Min.   :-87.83  \n",
              " Class :character   Class :character   1st Qu.:41.88   1st Qu.:-87.66  \n",
              " Mode  :character   Mode  :character   Median :41.90   Median :-87.64  \n",
              "                                       Mean   :41.90   Mean   :-87.64  \n",
              "                                       3rd Qu.:41.93   3rd Qu.:-87.63  \n",
              "                                       Max.   :45.64   Max.   :-73.80  \n",
              "    end_lat         end_lng       member_casual     \n",
              " Min.   :41.65   Min.   :-87.83   Length:4641395    \n",
              " 1st Qu.:41.88   1st Qu.:-87.66   Class :character  \n",
              " Median :41.90   Median :-87.64   Mode  :character  \n",
              " Mean   :41.90   Mean   :-87.64                     \n",
              " 3rd Qu.:41.93   3rd Qu.:-87.63                     \n",
              " Max.   :42.17   Max.   :-87.52                     "
            ]
          },
          "metadata": {}
        }
      ]
    },
    {
      "cell_type": "code",
      "source": [
        "#First lets separate the dates into month, day, year and day of the week:\n",
        "\n",
        "cyclistic_date$date <- as.Date(cyclistic_date$started_at) \n",
        "cyclistic_date$month <- format(as.Date(cyclistic_date$date), \"%m\")\n",
        "cyclistic_date$day <- format(as.Date(cyclistic_date$date), \"%d\")\n",
        "cyclistic_date$year <- format(as.Date(cyclistic_date$date), \"%Y\")\n",
        "cyclistic_date$day_of_week <- format(as.Date(cyclistic_date$date), \"%A\")\n"
      ],
      "metadata": {
        "id": "Y7Ca3umNYaz0"
      },
      "execution_count": null,
      "outputs": []
    },
    {
      "cell_type": "code",
      "source": [
        "#ride length to find total ride_length of users\n",
        "cyclistic_date$ride_length <- difftime(cyclistic_date$ended_at,cyclistic_date$started_at)\n"
      ],
      "metadata": {
        "id": "A3KEpvWuT3cm"
      },
      "execution_count": null,
      "outputs": []
    },
    {
      "cell_type": "code",
      "source": [
        "#Then the ride distance traveled in km\n",
        "cyclistic_date$ride_distance <- distGeo(matrix(c(cyclistic_date$start_lng, cyclistic_date$start_lat), ncol = 2), matrix(c(cyclistic_date$end_lng, cyclistic_date$end_lat), ncol = 2))\n",
        "cyclistic_date$ride_distance <- cyclistic_date$ride_distance/1000\n",
        "\n",
        "#At last the speed in Km/h\n",
        "cyclistic_date$ride_speed = c(cyclistic_date$ride_distance)/as.numeric(c(cyclistic_date$ride_length), units=\"hours\")"
      ],
      "metadata": {
        "id": "PjRiRQAaYfUA"
      },
      "execution_count": null,
      "outputs": []
    },
    {
      "cell_type": "code",
      "source": [
        "head(cyclistic_date)"
      ],
      "metadata": {
        "colab": {
          "base_uri": "https://localhost:8080/",
          "height": 514
        },
        "id": "ApQF4EXaSXie",
        "outputId": "5fed4a85-4b9e-48a2-91c1-4b235aaa04c1"
      },
      "execution_count": null,
      "outputs": [
        {
          "output_type": "display_data",
          "data": {
            "text/html": [
              "<table class=\"dataframe\">\n",
              "<caption>A tibble: 6 × 21</caption>\n",
              "<thead>\n",
              "\t<tr><th scope=col>ride_id</th><th scope=col>rideable_type</th><th scope=col>started_at</th><th scope=col>ended_at</th><th scope=col>start_station_name</th><th scope=col>start_station_id</th><th scope=col>end_station_name</th><th scope=col>end_station_id</th><th scope=col>start_lat</th><th scope=col>start_lng</th><th scope=col>⋯</th><th scope=col>end_lng</th><th scope=col>member_casual</th><th scope=col>date</th><th scope=col>month</th><th scope=col>day</th><th scope=col>year</th><th scope=col>day_of_week</th><th scope=col>ride_length</th><th scope=col>ride_distance</th><th scope=col>ride_speed</th></tr>\n",
              "\t<tr><th scope=col>&lt;chr&gt;</th><th scope=col>&lt;chr&gt;</th><th scope=col>&lt;dttm&gt;</th><th scope=col>&lt;dttm&gt;</th><th scope=col>&lt;chr&gt;</th><th scope=col>&lt;chr&gt;</th><th scope=col>&lt;chr&gt;</th><th scope=col>&lt;chr&gt;</th><th scope=col>&lt;dbl&gt;</th><th scope=col>&lt;dbl&gt;</th><th scope=col>⋯</th><th scope=col>&lt;dbl&gt;</th><th scope=col>&lt;chr&gt;</th><th scope=col>&lt;date&gt;</th><th scope=col>&lt;chr&gt;</th><th scope=col>&lt;chr&gt;</th><th scope=col>&lt;chr&gt;</th><th scope=col>&lt;chr&gt;</th><th scope=col>&lt;drtn&gt;</th><th scope=col>&lt;dbl&gt;</th><th scope=col>&lt;dbl&gt;</th></tr>\n",
              "</thead>\n",
              "<tbody>\n",
              "\t<tr><td>6C992BD37A98A63F</td><td>classic_bike</td><td>2021-04-12 18:25:36</td><td>2021-04-12 18:56:55</td><td><span style=white-space:pre-wrap>State St &amp; Pearson St   </span></td><td>TA1307000061</td><td>Southport Ave &amp; Waveland Ave</td><td><span style=white-space:pre-wrap>13235       </span></td><td>41.89745</td><td>-87.62872</td><td>⋯</td><td>-87.66394</td><td>member</td><td>2021-04-12</td><td>04</td><td>12</td><td>2021</td><td><span style=white-space:pre-wrap>Monday  </span></td><td><span style=white-space:pre-wrap>  1879 secs</span></td><td>6.344198</td><td>12.15493</td></tr>\n",
              "\t<tr><td>1E0145613A209000</td><td>docked_bike </td><td>2021-04-27 17:27:11</td><td>2021-04-27 18:31:29</td><td>Dorchester Ave &amp; 49th St</td><td>KA1503000069</td><td><span style=white-space:pre-wrap>Dorchester Ave &amp; 49th St    </span></td><td>KA1503000069</td><td>41.80577</td><td>-87.59246</td><td>⋯</td><td>-87.59246</td><td>casual</td><td>2021-04-27</td><td>04</td><td>27</td><td>2021</td><td>Tuesday </td><td><span style=white-space:pre-wrap>  3858 secs</span></td><td>0.000000</td><td> 0.00000</td></tr>\n",
              "\t<tr><td>E498E15508A80BAD</td><td>docked_bike </td><td>2021-04-03 12:42:45</td><td>2021-04-07 11:40:24</td><td><span style=white-space:pre-wrap>Loomis Blvd &amp; 84th St   </span></td><td><span style=white-space:pre-wrap>20121       </span></td><td><span style=white-space:pre-wrap>Loomis Blvd &amp; 84th St       </span></td><td><span style=white-space:pre-wrap>20121       </span></td><td>41.74149</td><td>-87.65841</td><td>⋯</td><td>-87.65841</td><td>casual</td><td>2021-04-03</td><td>04</td><td>03</td><td>2021</td><td>Saturday</td><td>341859 secs</td><td>0.000000</td><td> 0.00000</td></tr>\n",
              "\t<tr><td>1887262AD101C604</td><td>classic_bike</td><td>2021-04-17 09:17:42</td><td>2021-04-17 09:42:48</td><td>Honore St &amp; Division St </td><td>TA1305000034</td><td>Southport Ave &amp; Waveland Ave</td><td><span style=white-space:pre-wrap>13235       </span></td><td>41.90312</td><td>-87.67394</td><td>⋯</td><td>-87.66394</td><td>member</td><td>2021-04-17</td><td>04</td><td>17</td><td>2021</td><td>Saturday</td><td><span style=white-space:pre-wrap>  1506 secs</span></td><td>5.069921</td><td>12.11933</td></tr>\n",
              "\t<tr><td>C123548CAB2A32A5</td><td>docked_bike </td><td>2021-04-03 12:42:25</td><td>2021-04-03 14:13:42</td><td><span style=white-space:pre-wrap>Loomis Blvd &amp; 84th St   </span></td><td><span style=white-space:pre-wrap>20121       </span></td><td><span style=white-space:pre-wrap>Loomis Blvd &amp; 84th St       </span></td><td><span style=white-space:pre-wrap>20121       </span></td><td>41.74149</td><td>-87.65841</td><td>⋯</td><td>-87.65841</td><td>casual</td><td>2021-04-03</td><td>04</td><td>03</td><td>2021</td><td>Saturday</td><td><span style=white-space:pre-wrap>  5477 secs</span></td><td>0.000000</td><td> 0.00000</td></tr>\n",
              "\t<tr><td>097E76F3651B1AC1</td><td>classic_bike</td><td>2021-04-25 18:43:18</td><td>2021-04-25 18:43:59</td><td><span style=white-space:pre-wrap>Clinton St &amp; Polk St    </span></td><td><span style=white-space:pre-wrap>15542       </span></td><td><span style=white-space:pre-wrap>Clinton St &amp; Polk St        </span></td><td><span style=white-space:pre-wrap>15542       </span></td><td>41.87147</td><td>-87.64095</td><td>⋯</td><td>-87.64095</td><td>casual</td><td>2021-04-25</td><td>04</td><td>25</td><td>2021</td><td><span style=white-space:pre-wrap>Sunday  </span></td><td><span style=white-space:pre-wrap>    41 secs</span></td><td>0.000000</td><td> 0.00000</td></tr>\n",
              "</tbody>\n",
              "</table>\n"
            ],
            "text/markdown": "\nA tibble: 6 × 21\n\n| ride_id &lt;chr&gt; | rideable_type &lt;chr&gt; | started_at &lt;dttm&gt; | ended_at &lt;dttm&gt; | start_station_name &lt;chr&gt; | start_station_id &lt;chr&gt; | end_station_name &lt;chr&gt; | end_station_id &lt;chr&gt; | start_lat &lt;dbl&gt; | start_lng &lt;dbl&gt; | ⋯ ⋯ | end_lng &lt;dbl&gt; | member_casual &lt;chr&gt; | date &lt;date&gt; | month &lt;chr&gt; | day &lt;chr&gt; | year &lt;chr&gt; | day_of_week &lt;chr&gt; | ride_length &lt;drtn&gt; | ride_distance &lt;dbl&gt; | ride_speed &lt;dbl&gt; |\n|---|---|---|---|---|---|---|---|---|---|---|---|---|---|---|---|---|---|---|---|---|\n| 6C992BD37A98A63F | classic_bike | 2021-04-12 18:25:36 | 2021-04-12 18:56:55 | State St &amp; Pearson St    | TA1307000061 | Southport Ave &amp; Waveland Ave | 13235        | 41.89745 | -87.62872 | ⋯ | -87.66394 | member | 2021-04-12 | 04 | 12 | 2021 | Monday   |   1879 secs | 6.344198 | 12.15493 |\n| 1E0145613A209000 | docked_bike  | 2021-04-27 17:27:11 | 2021-04-27 18:31:29 | Dorchester Ave &amp; 49th St | KA1503000069 | Dorchester Ave &amp; 49th St     | KA1503000069 | 41.80577 | -87.59246 | ⋯ | -87.59246 | casual | 2021-04-27 | 04 | 27 | 2021 | Tuesday  |   3858 secs | 0.000000 |  0.00000 |\n| E498E15508A80BAD | docked_bike  | 2021-04-03 12:42:45 | 2021-04-07 11:40:24 | Loomis Blvd &amp; 84th St    | 20121        | Loomis Blvd &amp; 84th St        | 20121        | 41.74149 | -87.65841 | ⋯ | -87.65841 | casual | 2021-04-03 | 04 | 03 | 2021 | Saturday | 341859 secs | 0.000000 |  0.00000 |\n| 1887262AD101C604 | classic_bike | 2021-04-17 09:17:42 | 2021-04-17 09:42:48 | Honore St &amp; Division St  | TA1305000034 | Southport Ave &amp; Waveland Ave | 13235        | 41.90312 | -87.67394 | ⋯ | -87.66394 | member | 2021-04-17 | 04 | 17 | 2021 | Saturday |   1506 secs | 5.069921 | 12.11933 |\n| C123548CAB2A32A5 | docked_bike  | 2021-04-03 12:42:25 | 2021-04-03 14:13:42 | Loomis Blvd &amp; 84th St    | 20121        | Loomis Blvd &amp; 84th St        | 20121        | 41.74149 | -87.65841 | ⋯ | -87.65841 | casual | 2021-04-03 | 04 | 03 | 2021 | Saturday |   5477 secs | 0.000000 |  0.00000 |\n| 097E76F3651B1AC1 | classic_bike | 2021-04-25 18:43:18 | 2021-04-25 18:43:59 | Clinton St &amp; Polk St     | 15542        | Clinton St &amp; Polk St         | 15542        | 41.87147 | -87.64095 | ⋯ | -87.64095 | casual | 2021-04-25 | 04 | 25 | 2021 | Sunday   |     41 secs | 0.000000 |  0.00000 |\n\n",
            "text/latex": "A tibble: 6 × 21\n\\begin{tabular}{lllllllllllllllllllll}\n ride\\_id & rideable\\_type & started\\_at & ended\\_at & start\\_station\\_name & start\\_station\\_id & end\\_station\\_name & end\\_station\\_id & start\\_lat & start\\_lng & ⋯ & end\\_lng & member\\_casual & date & month & day & year & day\\_of\\_week & ride\\_length & ride\\_distance & ride\\_speed\\\\\n <chr> & <chr> & <dttm> & <dttm> & <chr> & <chr> & <chr> & <chr> & <dbl> & <dbl> & ⋯ & <dbl> & <chr> & <date> & <chr> & <chr> & <chr> & <chr> & <drtn> & <dbl> & <dbl>\\\\\n\\hline\n\t 6C992BD37A98A63F & classic\\_bike & 2021-04-12 18:25:36 & 2021-04-12 18:56:55 & State St \\& Pearson St    & TA1307000061 & Southport Ave \\& Waveland Ave & 13235        & 41.89745 & -87.62872 & ⋯ & -87.66394 & member & 2021-04-12 & 04 & 12 & 2021 & Monday   &   1879 secs & 6.344198 & 12.15493\\\\\n\t 1E0145613A209000 & docked\\_bike  & 2021-04-27 17:27:11 & 2021-04-27 18:31:29 & Dorchester Ave \\& 49th St & KA1503000069 & Dorchester Ave \\& 49th St     & KA1503000069 & 41.80577 & -87.59246 & ⋯ & -87.59246 & casual & 2021-04-27 & 04 & 27 & 2021 & Tuesday  &   3858 secs & 0.000000 &  0.00000\\\\\n\t E498E15508A80BAD & docked\\_bike  & 2021-04-03 12:42:45 & 2021-04-07 11:40:24 & Loomis Blvd \\& 84th St    & 20121        & Loomis Blvd \\& 84th St        & 20121        & 41.74149 & -87.65841 & ⋯ & -87.65841 & casual & 2021-04-03 & 04 & 03 & 2021 & Saturday & 341859 secs & 0.000000 &  0.00000\\\\\n\t 1887262AD101C604 & classic\\_bike & 2021-04-17 09:17:42 & 2021-04-17 09:42:48 & Honore St \\& Division St  & TA1305000034 & Southport Ave \\& Waveland Ave & 13235        & 41.90312 & -87.67394 & ⋯ & -87.66394 & member & 2021-04-17 & 04 & 17 & 2021 & Saturday &   1506 secs & 5.069921 & 12.11933\\\\\n\t C123548CAB2A32A5 & docked\\_bike  & 2021-04-03 12:42:25 & 2021-04-03 14:13:42 & Loomis Blvd \\& 84th St    & 20121        & Loomis Blvd \\& 84th St        & 20121        & 41.74149 & -87.65841 & ⋯ & -87.65841 & casual & 2021-04-03 & 04 & 03 & 2021 & Saturday &   5477 secs & 0.000000 &  0.00000\\\\\n\t 097E76F3651B1AC1 & classic\\_bike & 2021-04-25 18:43:18 & 2021-04-25 18:43:59 & Clinton St \\& Polk St     & 15542        & Clinton St \\& Polk St         & 15542        & 41.87147 & -87.64095 & ⋯ & -87.64095 & casual & 2021-04-25 & 04 & 25 & 2021 & Sunday   &     41 secs & 0.000000 &  0.00000\\\\\n\\end{tabular}\n",
            "text/plain": [
              "  ride_id          rideable_type started_at          ended_at           \n",
              "1 6C992BD37A98A63F classic_bike  2021-04-12 18:25:36 2021-04-12 18:56:55\n",
              "2 1E0145613A209000 docked_bike   2021-04-27 17:27:11 2021-04-27 18:31:29\n",
              "3 E498E15508A80BAD docked_bike   2021-04-03 12:42:45 2021-04-07 11:40:24\n",
              "4 1887262AD101C604 classic_bike  2021-04-17 09:17:42 2021-04-17 09:42:48\n",
              "5 C123548CAB2A32A5 docked_bike   2021-04-03 12:42:25 2021-04-03 14:13:42\n",
              "6 097E76F3651B1AC1 classic_bike  2021-04-25 18:43:18 2021-04-25 18:43:59\n",
              "  start_station_name       start_station_id end_station_name            \n",
              "1 State St & Pearson St    TA1307000061     Southport Ave & Waveland Ave\n",
              "2 Dorchester Ave & 49th St KA1503000069     Dorchester Ave & 49th St    \n",
              "3 Loomis Blvd & 84th St    20121            Loomis Blvd & 84th St       \n",
              "4 Honore St & Division St  TA1305000034     Southport Ave & Waveland Ave\n",
              "5 Loomis Blvd & 84th St    20121            Loomis Blvd & 84th St       \n",
              "6 Clinton St & Polk St     15542            Clinton St & Polk St        \n",
              "  end_station_id start_lat start_lng ⋯ end_lng   member_casual date       month\n",
              "1 13235          41.89745  -87.62872 ⋯ -87.66394 member        2021-04-12 04   \n",
              "2 KA1503000069   41.80577  -87.59246 ⋯ -87.59246 casual        2021-04-27 04   \n",
              "3 20121          41.74149  -87.65841 ⋯ -87.65841 casual        2021-04-03 04   \n",
              "4 13235          41.90312  -87.67394 ⋯ -87.66394 member        2021-04-17 04   \n",
              "5 20121          41.74149  -87.65841 ⋯ -87.65841 casual        2021-04-03 04   \n",
              "6 15542          41.87147  -87.64095 ⋯ -87.64095 casual        2021-04-25 04   \n",
              "  day year day_of_week ride_length ride_distance ride_speed\n",
              "1 12  2021 Monday        1879 secs 6.344198      12.15493  \n",
              "2 27  2021 Tuesday       3858 secs 0.000000       0.00000  \n",
              "3 03  2021 Saturday    341859 secs 0.000000       0.00000  \n",
              "4 17  2021 Saturday      1506 secs 5.069921      12.11933  \n",
              "5 03  2021 Saturday      5477 secs 0.000000       0.00000  \n",
              "6 25  2021 Sunday          41 secs 0.000000       0.00000  "
            ]
          },
          "metadata": {}
        }
      ]
    },
    {
      "cell_type": "code",
      "source": [
        "#create columns for: day of week, month, day, year, time, hour\n",
        "cyclistic_date$date <- as.Date(cyclistic_date$started_at) #default format is yyyy-mm-dd, use start date\n",
        "cyclistic_date$day_of_week <- wday(cyclistic_df$started_at) #calculate the day of the week \n",
        "cyclistic_date$day_of_week <- format(as.Date(cyclistic_date$date), \"%A\") #create column for day of week\n",
        "cyclistic_date$month <- format(as.Date(cyclistic_date$date), \"%m\")#create column for month\n",
        "cyclistic_date$day <- format(as.Date(cyclistic_date$date), \"%d\") #create column for day\n",
        "cyclistic_date$year <- format(as.Date(cyclistic_date$date), \"%Y\") #create column for year\n",
        "cyclistic_date$time <- format(as.Date(cyclistic_date$date), \"%H:%M:%S\") #format time as HH:MM:SS\n",
        "cyclistic_date$time <- as_hms((cyclistic_df$started_at)) #create new column for time\n",
        "cyclistic_date$hour <- hour(cyclistic_date$time) #create new column for hour"
      ],
      "metadata": {
        "id": "xlqDZMBzMUDe"
      },
      "execution_count": null,
      "outputs": []
    },
    {
      "cell_type": "code",
      "source": [
        "\n",
        "\n",
        "cyclistic_date <- cyclistic_date %>% mutate(ride_time = as.numeric(cyclistic_date$end_time - cyclistic_date$start_time) )"
      ],
      "metadata": {
        "id": "pbn_RsVTPHi9"
      },
      "execution_count": null,
      "outputs": []
    },
    {
      "cell_type": "code",
      "source": [
        "#create column for different seasons: Spring, Summer, Fall, Winter\n",
        "cyclistic_date <-cyclistic_date %>% mutate(season = \n",
        "                                             case_when(month == \"03\" ~ \"Spring\",\n",
        "                                                       month == \"04\" ~ \"Spring\",\n",
        "                                                       month == \"05\" ~ \"Spring\",\n",
        "                                                       month == \"06\"  ~ \"Summer\",\n",
        "                                                       month == \"07\"  ~ \"Summer\",\n",
        "                                                       month == \"08\"  ~ \"Summer\",\n",
        "                                                       month == \"09\" ~ \"Fall\",\n",
        "                                                       month == \"10\" ~ \"Fall\",\n",
        "                                                       month == \"11\" ~ \"Fall\",\n",
        "                                                       month == \"12\" ~ \"Winter\",\n",
        "                                                       month == \"01\" ~ \"Winter\",\n",
        "                                                       month == \"02\" ~ \"Winter\")\n",
        ")"
      ],
      "metadata": {
        "id": "WL0c_UbKMUd2"
      },
      "execution_count": null,
      "outputs": []
    },
    {
      "cell_type": "code",
      "source": [
        "#create column for different time_of_day: Night, Morning, Afternoon, Evening\n",
        "cyclistic_date <-cyclistic_date %>% mutate(time_of_day = \n",
        "                                             case_when(hour == \"0\" ~ \"Night\",\n",
        "                                                       hour == \"1\" ~ \"Night\",\n",
        "                                                       hour == \"2\" ~ \"Night\",\n",
        "                                                       hour == \"3\" ~ \"Night\",\n",
        "                                                       hour == \"4\" ~ \"Night\",\n",
        "                                                       hour == \"5\" ~ \"Night\",\n",
        "                                                       hour == \"6\" ~ \"Morning\",\n",
        "                                                       hour == \"7\" ~ \"Morning\",\n",
        "                                                       hour == \"8\" ~ \"Morning\",\n",
        "                                                       hour == \"9\" ~ \"Morning\",\n",
        "                                                       hour == \"10\" ~ \"Morning\",\n",
        "                                                       hour == \"11\" ~ \"Morning\",\n",
        "                                                       hour == \"12\" ~ \"Afternoon\",\n",
        "                                                       hour == \"13\" ~ \"Afternoon\",\n",
        "                                                       hour == \"14\" ~ \"Afternoon\",\n",
        "                                                       hour == \"15\" ~ \"Afternoon\",\n",
        "                                                       hour == \"16\" ~ \"Afternoon\",\n",
        "                                                       hour == \"17\" ~ \"Afternoon\",\n",
        "                                                       hour == \"18\" ~ \"Evening\",\n",
        "                                                       hour == \"19\" ~ \"Evening\",\n",
        "                                                       hour == \"20\" ~ \"Evening\",\n",
        "                                                       hour == \"21\" ~ \"Evening\",\n",
        "                                                       hour == \"22\" ~ \"Evening\",\n",
        "                                                       hour == \"23\" ~ \"Evening\")\n",
        ")"
      ],
      "metadata": {
        "id": "bHlIxD6VMjh2"
      },
      "execution_count": null,
      "outputs": []
    },
    {
      "cell_type": "code",
      "source": [],
      "metadata": {
        "id": "MVAKNKN1MoCu"
      },
      "execution_count": null,
      "outputs": []
    },
    {
      "cell_type": "code",
      "source": [
        "cyclistic_date <- cyclistic_date[!(cyclistic_date$ride_length <=0),] #remove where ride_length is 0 or negative\n",
        "#remove columns not needed: ride_id, start_station_id, end_station_id, start_lat, start_long, end_lat, end_lng\n",
        "cyclistic_date <- cyclistic_date %>% \n",
        "  select(-c(ride_id, start_station_id, end_station_id,start_lat,start_lng,end_lat,end_lng)) \n"
      ],
      "metadata": {
        "id": "YUBA82KfOkfe"
      },
      "execution_count": null,
      "outputs": []
    },
    {
      "cell_type": "code",
      "source": [
        "#view the final data\n",
        "View(cyclistic_date)\n"
      ],
      "metadata": {
        "colab": {
          "base_uri": "https://localhost:8080/",
          "height": 1000
        },
        "id": "U_KiYuuAMvNG",
        "outputId": "9e90f04e-ece9-48b5-a740-379a7d17b3c9"
      },
      "execution_count": null,
      "outputs": [
        {
          "output_type": "display_data",
          "data": {
            "text/plain": [
              "        ride_id          rideable_type started_at          ended_at           \n",
              "1       6C992BD37A98A63F classic_bike  2021-04-12 18:25:36 2021-04-12 18:56:55\n",
              "2       1E0145613A209000 docked_bike   2021-04-27 17:27:11 2021-04-27 18:31:29\n",
              "3       E498E15508A80BAD docked_bike   2021-04-03 12:42:45 2021-04-07 11:40:24\n",
              "4       1887262AD101C604 classic_bike  2021-04-17 09:17:42 2021-04-17 09:42:48\n",
              "5       C123548CAB2A32A5 docked_bike   2021-04-03 12:42:25 2021-04-03 14:13:42\n",
              "6       097E76F3651B1AC1 classic_bike  2021-04-25 18:43:18 2021-04-25 18:43:59\n",
              "7       53C38EB01E6FA5C4 classic_bike  2021-04-03 16:28:21 2021-04-03 16:29:47\n",
              "8       D53AC014EFD6E2BA electric_bike 2021-04-06 16:35:06 2021-04-06 17:00:56\n",
              "9       6E2F7CA1FA9E0AFB classic_bike  2021-04-12 15:22:54 2021-04-12 16:15:48\n",
              "10      04218447AAC80BD1 classic_bike  2021-04-24 15:04:55 2021-04-24 15:06:16\n",
              "11      B45BBE0734834247 electric_bike 2021-04-03 18:03:40 2021-04-03 19:13:22\n",
              "12      70DEC4E102F00DC2 electric_bike 2021-04-24 18:01:29 2021-04-24 19:39:00\n",
              "13      B33484FA16A9A0FE classic_bike  2021-04-27 18:31:52 2021-04-27 19:17:20\n",
              "14      8670C65989291512 classic_bike  2021-04-04 14:19:43 2021-04-04 14:26:29\n",
              "15      EFF545B4881F0C25 classic_bike  2021-04-13 12:12:50 2021-04-13 13:12:11\n",
              "16      49658BDF5846360E electric_bike 2021-04-08 17:59:33 2021-04-08 18:11:30\n",
              "17      E5261048A5E7365B electric_bike 2021-04-27 16:22:42 2021-04-27 16:47:19\n",
              "18      9DADAD1E49747066 docked_bike   2021-04-25 17:42:16 2021-04-25 18:02:55\n",
              "19      440BBEEEEA9DD6FE classic_bike  2021-04-07 14:24:51 2021-04-07 14:25:57\n",
              "20      B39DF385508E7DCF classic_bike  2021-04-27 09:00:07 2021-04-27 09:30:28\n",
              "21      1E1D708751A45FBB classic_bike  2021-04-27 18:20:52 2021-04-27 18:23:56\n",
              "22      EF150999D6799927 electric_bike 2021-04-26 15:19:08 2021-04-26 15:47:33\n",
              "23      F01C5D9474B37874 docked_bike   2021-04-27 17:27:26 2021-04-27 17:56:08\n",
              "24      3241CB12D978A919 docked_bike   2021-04-26 16:39:35 2021-04-26 17:10:47\n",
              "25      3C1E34B72CF1DF6F docked_bike   2021-04-24 14:13:38 2021-04-24 17:54:40\n",
              "26      7780E5A193F16BAA docked_bike   2021-04-17 12:19:15 2021-04-17 12:33:23\n",
              "27      A1250C4C180BDB7A electric_bike 2021-04-12 13:28:37 2021-04-12 13:43:47\n",
              "28      DCE53F03D9E930BC classic_bike  2021-04-16 19:12:50 2021-04-16 19:30:04\n",
              "29      C1C200854F4A4289 classic_bike  2021-04-11 17:12:35 2021-04-11 17:13:10\n",
              "30      4613417749115AB3 classic_bike  2021-04-11 17:13:35 2021-04-11 18:14:14\n",
              "⋮       ⋮                ⋮             ⋮                   ⋮                  \n",
              "4641366 77C082A1158B9A4E docked_bike   2022-03-14 17:21:55 2022-03-14 17:44:57\n",
              "4641367 04AA5367BE3B89E5 docked_bike   2022-03-12 11:25:28 2022-03-12 11:49:37\n",
              "4641368 E04AF9B9B29FCD29 electric_bike 2022-03-26 14:33:02 2022-03-26 14:42:04\n",
              "4641369 84932115AE84D51C classic_bike  2022-03-17 17:31:09 2022-03-17 17:37:48\n",
              "4641370 5346BEADE60DF4CC classic_bike  2022-03-08 17:42:53 2022-03-08 17:49:21\n",
              "4641371 799F0896CC2165A1 electric_bike 2022-03-21 15:09:06 2022-03-21 16:23:23\n",
              "4641372 4417CF79DFA8EFA0 electric_bike 2022-03-15 17:20:06 2022-03-15 17:37:50\n",
              "4641373 FD53CC132C891259 classic_bike  2022-03-15 17:16:36 2022-03-15 17:37:43\n",
              "4641374 3F0F55008C5FDD9A classic_bike  2022-03-10 09:40:52 2022-03-10 09:42:57\n",
              "4641375 CA5BCBE936AA78AC electric_bike 2022-03-30 08:52:22 2022-03-30 09:00:07\n",
              "4641376 D41190A1EACD4E5F electric_bike 2022-03-02 09:15:45 2022-03-02 09:22:38\n",
              "4641377 4A317542FA86CD66 electric_bike 2022-03-21 19:50:38 2022-03-21 19:51:44\n",
              "4641378 6E5550F87DDF75F6 electric_bike 2022-03-22 17:42:37 2022-03-22 17:43:54\n",
              "4641379 5216A9EC09DB7A9F electric_bike 2022-03-05 08:46:31 2022-03-05 08:49:15\n",
              "4641380 E84C61616F07B3E6 electric_bike 2022-03-16 08:49:31 2022-03-16 08:54:11\n",
              "4641381 4C57806C54B9E7CE electric_bike 2022-03-09 08:57:04 2022-03-09 09:01:41\n",
              "4641382 5C9B42397EC9AF78 electric_bike 2022-03-15 08:53:44 2022-03-15 08:58:18\n",
              "4641383 155C49327D325C09 electric_bike 2022-03-22 09:05:33 2022-03-22 09:09:58\n",
              "4641384 035E57A7EC67DDF4 electric_bike 2022-03-25 10:22:43 2022-03-25 10:37:16\n",
              "4641385 C0AE978CAB160852 classic_bike  2022-03-16 13:40:22 2022-03-16 14:17:17\n",
              "4641386 5E0C2CDD50EBFC0B classic_bike  2022-03-16 16:33:30 2022-03-16 17:33:52\n",
              "4641387 E3A68406C43058A9 classic_bike  2022-03-30 07:31:45 2022-03-30 07:40:05\n",
              "4641388 025DA93C8471767C docked_bike   2022-03-05 14:13:13 2022-03-05 14:45:52\n",
              "4641389 7DF0716EA46DC1E1 classic_bike  2022-03-16 07:34:25 2022-03-16 07:44:58\n",
              "4641390 B591E39220EBC4BC classic_bike  2022-03-15 18:09:14 2022-03-15 18:20:28\n",
              "4641391 1CEE41690C73108B classic_bike  2022-03-21 15:12:17 2022-03-21 15:23:01\n",
              "4641392 A2A6F07D3DF4D0D6 electric_bike 2022-03-09 20:29:48 2022-03-09 21:01:30\n",
              "4641393 E23BE3DB740BE3B4 docked_bike   2022-03-13 16:31:03 2022-03-13 16:39:32\n",
              "4641394 15AF71F3220F2A75 docked_bike   2022-03-09 06:56:02 2022-03-09 07:42:14\n",
              "4641395 5AEC5F39AF711895 classic_bike  2022-03-03 18:13:40 2022-03-03 18:23:39\n",
              "        start_station_name                     start_station_id\n",
              "1       State St & Pearson St                  TA1307000061    \n",
              "2       Dorchester Ave & 49th St               KA1503000069    \n",
              "3       Loomis Blvd & 84th St                  20121           \n",
              "4       Honore St & Division St                TA1305000034    \n",
              "5       Loomis Blvd & 84th St                  20121           \n",
              "6       Clinton St & Polk St                   15542           \n",
              "7       Ashland Ave & 63rd St                  16948           \n",
              "8       Dorchester Ave & 49th St               KA1503000069    \n",
              "9       Ashland Ave & 63rd St                  16948           \n",
              "10      Dorchester Ave & 49th St               KA1503000069    \n",
              "11      Loomis Blvd & 84th St                  20121           \n",
              "12      Halsted St & 69th St                   15597           \n",
              "13      Dorchester Ave & 49th St               KA1503000069    \n",
              "14      Dorchester Ave & 49th St               KA1503000069    \n",
              "15      Dorchester Ave & 49th St               KA1503000069    \n",
              "16      Dorchester Ave & 49th St               KA1503000069    \n",
              "17      Loomis Blvd & 84th St                  20121           \n",
              "18      Dorchester Ave & 49th St               KA1503000069    \n",
              "19      Dorchester Ave & 49th St               KA1503000069    \n",
              "20      Dorchester Ave & 49th St               KA1503000069    \n",
              "21      Clinton St & Polk St                   15542           \n",
              "22      Loomis Blvd & 84th St                  20121           \n",
              "23      Dorchester Ave & 49th St               KA1503000069    \n",
              "24      Dorchester Ave & 49th St               KA1503000069    \n",
              "25      Halsted St & 69th St                   15597           \n",
              "26      Dorchester Ave & 49th St               KA1503000069    \n",
              "27      Dorchester Ave & 49th St               KA1503000069    \n",
              "28      Dorchester Ave & 49th St               KA1503000069    \n",
              "29      Loomis Blvd & 84th St                  20121           \n",
              "30      Loomis Blvd & 84th St                  20121           \n",
              "⋮       ⋮                                      ⋮               \n",
              "4641366 Dusable Harbor                         KA1503000064    \n",
              "4641367 Dusable Harbor                         KA1503000064    \n",
              "4641368 Clinton St & Jackson Blvd              638             \n",
              "4641369 Clinton St & Jackson Blvd              638             \n",
              "4641370 Clinton St & Jackson Blvd              638             \n",
              "4641371 State St & Van Buren St                TA1305000035    \n",
              "4641372 Indiana Ave & Roosevelt Rd             SL-005          \n",
              "4641373 Indiana Ave & Roosevelt Rd             SL-005          \n",
              "4641374 Ravenswood Ave & Irving Park Rd        TA1307000149    \n",
              "4641375 Larrabee St & Kingsbury St             TA1306000009    \n",
              "4641376 Larrabee St & Kingsbury St             TA1306000009    \n",
              "4641377 Aberdeen St & Jackson Blvd             13157           \n",
              "4641378 Aberdeen St & Jackson Blvd             13157           \n",
              "4641379 Larrabee St & Kingsbury St             TA1306000009    \n",
              "4641380 Orleans St & Merchandise Mart Plaza    TA1305000022    \n",
              "4641381 Orleans St & Merchandise Mart Plaza    TA1305000022    \n",
              "4641382 Orleans St & Merchandise Mart Plaza    TA1305000022    \n",
              "4641383 Orleans St & Merchandise Mart Plaza    TA1305000022    \n",
              "4641384 New St & Illinois St                   TA1306000013    \n",
              "4641385 DuSable Lake Shore Dr & Wellington Ave TA1307000041    \n",
              "4641386 Adler Planetarium                      13431           \n",
              "4641387 Stetson Ave & South Water St           TA1308000029    \n",
              "4641388 Adler Planetarium                      13431           \n",
              "4641389 Stetson Ave & South Water St           TA1308000029    \n",
              "4641390 Daley Center Plaza                     TA1306000010    \n",
              "4641391 Michigan Ave & Oak St                  13042           \n",
              "4641392 Sheridan Rd & Irving Park Rd           13063           \n",
              "4641393 Michigan Ave & Oak St                  13042           \n",
              "4641394 Broadway & Barry Ave                   13137           \n",
              "4641395 Clark St & Randolph St                 TA1305000030    \n",
              "        end_station_name              end_station_id start_lat start_lng ⋯\n",
              "1       Southport Ave & Waveland Ave  13235          41.89745  -87.62872 ⋯\n",
              "2       Dorchester Ave & 49th St      KA1503000069   41.80577  -87.59246 ⋯\n",
              "3       Loomis Blvd & 84th St         20121          41.74149  -87.65841 ⋯\n",
              "4       Southport Ave & Waveland Ave  13235          41.90312  -87.67394 ⋯\n",
              "5       Loomis Blvd & 84th St         20121          41.74149  -87.65841 ⋯\n",
              "6       Clinton St & Polk St          15542          41.87147  -87.64095 ⋯\n",
              "7       Ashland Ave & 63rd St         16948          41.77937  -87.66484 ⋯\n",
              "8       Dorchester Ave & 49th St      KA1503000069   41.80583  -87.59248 ⋯\n",
              "9       Ashland Ave & 63rd St         16948          41.77937  -87.66484 ⋯\n",
              "10      Dorchester Ave & 49th St      KA1503000069   41.80577  -87.59246 ⋯\n",
              "11      Loomis Blvd & 84th St         20121          41.74156  -87.65842 ⋯\n",
              "12      Halsted St & 69th St          15597          41.76901  -87.64463 ⋯\n",
              "13      Dorchester Ave & 49th St      KA1503000069   41.80577  -87.59246 ⋯\n",
              "14      Dorchester Ave & 49th St      KA1503000069   41.80577  -87.59246 ⋯\n",
              "15      Dorchester Ave & 49th St      KA1503000069   41.80577  -87.59246 ⋯\n",
              "16      Dorchester Ave & 49th St      KA1503000069   41.80583  -87.59252 ⋯\n",
              "17      Loomis Blvd & 84th St         20121          41.74156  -87.65842 ⋯\n",
              "18      Dorchester Ave & 49th St      KA1503000069   41.80577  -87.59246 ⋯\n",
              "19      Dorchester Ave & 49th St      KA1503000069   41.80577  -87.59246 ⋯\n",
              "20      Dorchester Ave & 49th St      KA1503000069   41.80577  -87.59246 ⋯\n",
              "21      Clinton St & Polk St          15542          41.87147  -87.64095 ⋯\n",
              "22      Loomis Blvd & 84th St         20121          41.74154  -87.65837 ⋯\n",
              "23      Dorchester Ave & 49th St      KA1503000069   41.80577  -87.59246 ⋯\n",
              "24      Dorchester Ave & 49th St      KA1503000069   41.80577  -87.59246 ⋯\n",
              "25      Halsted St & 69th St          15597          41.76906  -87.64461 ⋯\n",
              "26      Dorchester Ave & 49th St      KA1503000069   41.80577  -87.59246 ⋯\n",
              "27      Dorchester Ave & 49th St      KA1503000069   41.80586  -87.59241 ⋯\n",
              "28      Dorchester Ave & 49th St      KA1503000069   41.80577  -87.59246 ⋯\n",
              "29      Loomis Blvd & 84th St         20121          41.74149  -87.65841 ⋯\n",
              "30      Loomis Blvd & 84th St         20121          41.74149  -87.65841 ⋯\n",
              "⋮       ⋮                             ⋮              ⋮         ⋮         ⋱\n",
              "4641366 Streeter Dr & Grand Ave       13022          41.88698  -87.61281 ⋯\n",
              "4641367 Aberdeen St & Monroe St       13156          41.88698  -87.61281 ⋯\n",
              "4641368 Aberdeen St & Monroe St       13156          41.87789  -87.64064 ⋯\n",
              "4641369 Aberdeen St & Monroe St       13156          41.87832  -87.64098 ⋯\n",
              "4641370 Aberdeen St & Monroe St       13156          41.87832  -87.64098 ⋯\n",
              "4641371 Streeter Dr & Grand Ave       13022          41.87665  -87.62800 ⋯\n",
              "4641372 Streeter Dr & Grand Ave       13022          41.86804  -87.62311 ⋯\n",
              "4641373 Streeter Dr & Grand Ave       13022          41.86789  -87.62304 ⋯\n",
              "4641374 Ravenswood Ave & Berteau Ave  TA1309000018   41.95469  -87.67393 ⋯\n",
              "4641375 Franklin St & Adams St (Temp) TA1309000008   41.89762  -87.64330 ⋯\n",
              "4641376 Franklin St & Adams St (Temp) TA1309000008   41.89772  -87.64291 ⋯\n",
              "4641377 Aberdeen St & Monroe St       13156          41.87772  -87.65482 ⋯\n",
              "4641378 Aberdeen St & Monroe St       13156          41.87771  -87.65493 ⋯\n",
              "4641379 Larrabee St & Division St     KA1504000079   41.89758  -87.64328 ⋯\n",
              "4641380 Franklin St & Adams St (Temp) TA1309000008   41.88803  -87.63715 ⋯\n",
              "4641381 Franklin St & Adams St (Temp) TA1309000008   41.88803  -87.63676 ⋯\n",
              "4641382 Franklin St & Adams St (Temp) TA1309000008   41.88796  -87.63696 ⋯\n",
              "4641383 Franklin St & Adams St (Temp) TA1309000008   41.88829  -87.63637 ⋯\n",
              "4641384 Streeter Dr & Grand Ave       13022          41.89068  -87.61809 ⋯\n",
              "4641385 Streeter Dr & Grand Ave       13022          41.93669  -87.63683 ⋯\n",
              "4641386 Streeter Dr & Grand Ave       13022          41.86610  -87.60727 ⋯\n",
              "4641387 Franklin St & Adams St (Temp) TA1309000008   41.88683  -87.62232 ⋯\n",
              "4641388 Streeter Dr & Grand Ave       13022          41.86610  -87.60727 ⋯\n",
              "4641389 Franklin St & Adams St (Temp) TA1309000008   41.88683  -87.62232 ⋯\n",
              "4641390 Streeter Dr & Grand Ave       13022          41.88424  -87.62963 ⋯\n",
              "4641391 Streeter Dr & Grand Ave       13022          41.90096  -87.62378 ⋯\n",
              "4641392 Streeter Dr & Grand Ave       13022          41.95428  -87.65441 ⋯\n",
              "4641393 Streeter Dr & Grand Ave       13022          41.90096  -87.62378 ⋯\n",
              "4641394 Ravenswood Ave & Berteau Ave  TA1309000018   41.93758  -87.64410 ⋯\n",
              "4641395 Streeter Dr & Grand Ave       13022          41.88458  -87.63189 ⋯\n",
              "        member_casual date       day_of_week month day year time     hour\n",
              "1       member        2021-04-12 Monday      04    12  2021 18:25:36 18  \n",
              "2       casual        2021-04-27 Tuesday     04    27  2021 17:27:11 17  \n",
              "3       casual        2021-04-03 Saturday    04    03  2021 12:42:45 12  \n",
              "4       member        2021-04-17 Saturday    04    17  2021 09:17:42  9  \n",
              "5       casual        2021-04-03 Saturday    04    03  2021 12:42:25 12  \n",
              "6       casual        2021-04-25 Sunday      04    25  2021 18:43:18 18  \n",
              "7       casual        2021-04-03 Saturday    04    03  2021 16:28:21 16  \n",
              "8       casual        2021-04-06 Tuesday     04    06  2021 16:35:06 16  \n",
              "9       casual        2021-04-12 Monday      04    12  2021 15:22:54 15  \n",
              "10      casual        2021-04-24 Saturday    04    24  2021 15:04:55 15  \n",
              "11      casual        2021-04-03 Saturday    04    03  2021 18:03:40 18  \n",
              "12      casual        2021-04-24 Saturday    04    24  2021 18:01:29 18  \n",
              "13      casual        2021-04-27 Tuesday     04    27  2021 18:31:52 18  \n",
              "14      casual        2021-04-04 Sunday      04    04  2021 14:19:43 14  \n",
              "15      casual        2021-04-13 Tuesday     04    13  2021 12:12:50 12  \n",
              "16      casual        2021-04-08 Thursday    04    08  2021 17:59:33 17  \n",
              "17      casual        2021-04-27 Tuesday     04    27  2021 16:22:42 16  \n",
              "18      casual        2021-04-25 Sunday      04    25  2021 17:42:16 17  \n",
              "19      casual        2021-04-07 Wednesday   04    07  2021 14:24:51 14  \n",
              "20      casual        2021-04-27 Tuesday     04    27  2021 09:00:07  9  \n",
              "21      casual        2021-04-27 Tuesday     04    27  2021 18:20:52 18  \n",
              "22      casual        2021-04-26 Monday      04    26  2021 15:19:08 15  \n",
              "23      casual        2021-04-27 Tuesday     04    27  2021 17:27:26 17  \n",
              "24      casual        2021-04-26 Monday      04    26  2021 16:39:35 16  \n",
              "25      casual        2021-04-24 Saturday    04    24  2021 14:13:38 14  \n",
              "26      casual        2021-04-17 Saturday    04    17  2021 12:19:15 12  \n",
              "27      casual        2021-04-12 Monday      04    12  2021 13:28:37 13  \n",
              "28      casual        2021-04-16 Friday      04    16  2021 19:12:50 19  \n",
              "29      casual        2021-04-11 Sunday      04    11  2021 17:12:35 17  \n",
              "30      casual        2021-04-11 Sunday      04    11  2021 17:13:35 17  \n",
              "⋮       ⋮             ⋮          ⋮           ⋮     ⋮   ⋮    ⋮        ⋮   \n",
              "4641366 casual        2022-03-14 Monday      03    14  2022 17:21:55 17  \n",
              "4641367 casual        2022-03-12 Saturday    03    12  2022 11:25:28 11  \n",
              "4641368 member        2022-03-26 Saturday    03    26  2022 14:33:02 14  \n",
              "4641369 member        2022-03-17 Thursday    03    17  2022 17:31:09 17  \n",
              "4641370 member        2022-03-08 Tuesday     03    08  2022 17:42:53 17  \n",
              "4641371 casual        2022-03-21 Monday      03    21  2022 15:09:06 15  \n",
              "4641372 casual        2022-03-15 Tuesday     03    15  2022 17:20:06 17  \n",
              "4641373 casual        2022-03-15 Tuesday     03    15  2022 17:16:36 17  \n",
              "4641374 member        2022-03-10 Thursday    03    10  2022 09:40:52  9  \n",
              "4641375 member        2022-03-30 Wednesday   03    30  2022 08:52:22  8  \n",
              "4641376 member        2022-03-02 Wednesday   03    02  2022 09:15:45  9  \n",
              "4641377 member        2022-03-21 Monday      03    21  2022 19:50:38 19  \n",
              "4641378 member        2022-03-22 Tuesday     03    22  2022 17:42:37 17  \n",
              "4641379 member        2022-03-05 Saturday    03    05  2022 08:46:31  8  \n",
              "4641380 member        2022-03-16 Wednesday   03    16  2022 08:49:31  8  \n",
              "4641381 member        2022-03-09 Wednesday   03    09  2022 08:57:04  8  \n",
              "4641382 member        2022-03-15 Tuesday     03    15  2022 08:53:44  8  \n",
              "4641383 member        2022-03-22 Tuesday     03    22  2022 09:05:33  9  \n",
              "4641384 member        2022-03-25 Friday      03    25  2022 10:22:43 10  \n",
              "4641385 member        2022-03-16 Wednesday   03    16  2022 13:40:22 13  \n",
              "4641386 casual        2022-03-16 Wednesday   03    16  2022 16:33:30 16  \n",
              "4641387 member        2022-03-30 Wednesday   03    30  2022 07:31:45  7  \n",
              "4641388 casual        2022-03-05 Saturday    03    05  2022 14:13:13 14  \n",
              "4641389 member        2022-03-16 Wednesday   03    16  2022 07:34:25  7  \n",
              "4641390 member        2022-03-15 Tuesday     03    15  2022 18:09:14 18  \n",
              "4641391 member        2022-03-21 Monday      03    21  2022 15:12:17 15  \n",
              "4641392 casual        2022-03-09 Wednesday   03    09  2022 20:29:48 20  \n",
              "4641393 casual        2022-03-13 Sunday      03    13  2022 16:31:03 16  \n",
              "4641394 casual        2022-03-09 Wednesday   03    09  2022 06:56:02  6  \n",
              "4641395 member        2022-03-03 Thursday    03    03  2022 18:13:40 18  \n",
              "        season time_of_day\n",
              "1       Spring Evening    \n",
              "2       Spring Afternoon  \n",
              "3       Spring Afternoon  \n",
              "4       Spring Morning    \n",
              "5       Spring Afternoon  \n",
              "6       Spring Evening    \n",
              "7       Spring Afternoon  \n",
              "8       Spring Afternoon  \n",
              "9       Spring Afternoon  \n",
              "10      Spring Afternoon  \n",
              "11      Spring Evening    \n",
              "12      Spring Evening    \n",
              "13      Spring Evening    \n",
              "14      Spring Afternoon  \n",
              "15      Spring Afternoon  \n",
              "16      Spring Afternoon  \n",
              "17      Spring Afternoon  \n",
              "18      Spring Afternoon  \n",
              "19      Spring Afternoon  \n",
              "20      Spring Morning    \n",
              "21      Spring Evening    \n",
              "22      Spring Afternoon  \n",
              "23      Spring Afternoon  \n",
              "24      Spring Afternoon  \n",
              "25      Spring Afternoon  \n",
              "26      Spring Afternoon  \n",
              "27      Spring Afternoon  \n",
              "28      Spring Evening    \n",
              "29      Spring Afternoon  \n",
              "30      Spring Afternoon  \n",
              "⋮       ⋮      ⋮          \n",
              "4641366 Spring Afternoon  \n",
              "4641367 Spring Morning    \n",
              "4641368 Spring Afternoon  \n",
              "4641369 Spring Afternoon  \n",
              "4641370 Spring Afternoon  \n",
              "4641371 Spring Afternoon  \n",
              "4641372 Spring Afternoon  \n",
              "4641373 Spring Afternoon  \n",
              "4641374 Spring Morning    \n",
              "4641375 Spring Morning    \n",
              "4641376 Spring Morning    \n",
              "4641377 Spring Evening    \n",
              "4641378 Spring Afternoon  \n",
              "4641379 Spring Morning    \n",
              "4641380 Spring Morning    \n",
              "4641381 Spring Morning    \n",
              "4641382 Spring Morning    \n",
              "4641383 Spring Morning    \n",
              "4641384 Spring Morning    \n",
              "4641385 Spring Afternoon  \n",
              "4641386 Spring Afternoon  \n",
              "4641387 Spring Morning    \n",
              "4641388 Spring Afternoon  \n",
              "4641389 Spring Morning    \n",
              "4641390 Spring Evening    \n",
              "4641391 Spring Afternoon  \n",
              "4641392 Spring Evening    \n",
              "4641393 Spring Afternoon  \n",
              "4641394 Spring Morning    \n",
              "4641395 Spring Evening    "
            ],
            "text/html": [
              "<table class=\"dataframe\">\n",
              "<caption>A tibble: 4641395 × 22</caption>\n",
              "<thead>\n",
              "\t<tr><th scope=col>ride_id</th><th scope=col>rideable_type</th><th scope=col>started_at</th><th scope=col>ended_at</th><th scope=col>start_station_name</th><th scope=col>start_station_id</th><th scope=col>end_station_name</th><th scope=col>end_station_id</th><th scope=col>start_lat</th><th scope=col>start_lng</th><th scope=col>⋯</th><th scope=col>member_casual</th><th scope=col>date</th><th scope=col>day_of_week</th><th scope=col>month</th><th scope=col>day</th><th scope=col>year</th><th scope=col>time</th><th scope=col>hour</th><th scope=col>season</th><th scope=col>time_of_day</th></tr>\n",
              "\t<tr><th scope=col>&lt;chr&gt;</th><th scope=col>&lt;chr&gt;</th><th scope=col>&lt;dttm&gt;</th><th scope=col>&lt;dttm&gt;</th><th scope=col>&lt;chr&gt;</th><th scope=col>&lt;chr&gt;</th><th scope=col>&lt;chr&gt;</th><th scope=col>&lt;chr&gt;</th><th scope=col>&lt;dbl&gt;</th><th scope=col>&lt;dbl&gt;</th><th scope=col>⋯</th><th scope=col>&lt;chr&gt;</th><th scope=col>&lt;date&gt;</th><th scope=col>&lt;chr&gt;</th><th scope=col>&lt;chr&gt;</th><th scope=col>&lt;chr&gt;</th><th scope=col>&lt;chr&gt;</th><th scope=col>&lt;time&gt;</th><th scope=col>&lt;int&gt;</th><th scope=col>&lt;chr&gt;</th><th scope=col>&lt;chr&gt;</th></tr>\n",
              "</thead>\n",
              "<tbody>\n",
              "\t<tr><td>6C992BD37A98A63F</td><td>classic_bike </td><td>2021-04-12 18:25:36</td><td>2021-04-12 18:56:55</td><td><span style=white-space:pre-wrap>State St &amp; Pearson St   </span></td><td>TA1307000061</td><td>Southport Ave &amp; Waveland Ave</td><td><span style=white-space:pre-wrap>13235       </span></td><td>41.89745</td><td>-87.62872</td><td>⋯</td><td>member</td><td>2021-04-12</td><td><span style=white-space:pre-wrap>Monday   </span></td><td>04</td><td>12</td><td>2021</td><td>18:25:36</td><td>18</td><td>Spring</td><td><span style=white-space:pre-wrap>Evening  </span></td></tr>\n",
              "\t<tr><td>1E0145613A209000</td><td><span style=white-space:pre-wrap>docked_bike  </span></td><td>2021-04-27 17:27:11</td><td>2021-04-27 18:31:29</td><td>Dorchester Ave &amp; 49th St</td><td>KA1503000069</td><td><span style=white-space:pre-wrap>Dorchester Ave &amp; 49th St    </span></td><td>KA1503000069</td><td>41.80577</td><td>-87.59246</td><td>⋯</td><td>casual</td><td>2021-04-27</td><td><span style=white-space:pre-wrap>Tuesday  </span></td><td>04</td><td>27</td><td>2021</td><td>17:27:11</td><td>17</td><td>Spring</td><td>Afternoon</td></tr>\n",
              "\t<tr><td>E498E15508A80BAD</td><td><span style=white-space:pre-wrap>docked_bike  </span></td><td>2021-04-03 12:42:45</td><td>2021-04-07 11:40:24</td><td><span style=white-space:pre-wrap>Loomis Blvd &amp; 84th St   </span></td><td><span style=white-space:pre-wrap>20121       </span></td><td><span style=white-space:pre-wrap>Loomis Blvd &amp; 84th St       </span></td><td><span style=white-space:pre-wrap>20121       </span></td><td>41.74149</td><td>-87.65841</td><td>⋯</td><td>casual</td><td>2021-04-03</td><td>Saturday </td><td>04</td><td>03</td><td>2021</td><td>12:42:45</td><td>12</td><td>Spring</td><td>Afternoon</td></tr>\n",
              "\t<tr><td>1887262AD101C604</td><td>classic_bike </td><td>2021-04-17 09:17:42</td><td>2021-04-17 09:42:48</td><td>Honore St &amp; Division St </td><td>TA1305000034</td><td>Southport Ave &amp; Waveland Ave</td><td><span style=white-space:pre-wrap>13235       </span></td><td>41.90312</td><td>-87.67394</td><td>⋯</td><td>member</td><td>2021-04-17</td><td>Saturday </td><td>04</td><td>17</td><td>2021</td><td>09:17:42</td><td> 9</td><td>Spring</td><td><span style=white-space:pre-wrap>Morning  </span></td></tr>\n",
              "\t<tr><td>C123548CAB2A32A5</td><td><span style=white-space:pre-wrap>docked_bike  </span></td><td>2021-04-03 12:42:25</td><td>2021-04-03 14:13:42</td><td><span style=white-space:pre-wrap>Loomis Blvd &amp; 84th St   </span></td><td><span style=white-space:pre-wrap>20121       </span></td><td><span style=white-space:pre-wrap>Loomis Blvd &amp; 84th St       </span></td><td><span style=white-space:pre-wrap>20121       </span></td><td>41.74149</td><td>-87.65841</td><td>⋯</td><td>casual</td><td>2021-04-03</td><td>Saturday </td><td>04</td><td>03</td><td>2021</td><td>12:42:25</td><td>12</td><td>Spring</td><td>Afternoon</td></tr>\n",
              "\t<tr><td>097E76F3651B1AC1</td><td>classic_bike </td><td>2021-04-25 18:43:18</td><td>2021-04-25 18:43:59</td><td><span style=white-space:pre-wrap>Clinton St &amp; Polk St    </span></td><td><span style=white-space:pre-wrap>15542       </span></td><td><span style=white-space:pre-wrap>Clinton St &amp; Polk St        </span></td><td><span style=white-space:pre-wrap>15542       </span></td><td>41.87147</td><td>-87.64095</td><td>⋯</td><td>casual</td><td>2021-04-25</td><td><span style=white-space:pre-wrap>Sunday   </span></td><td>04</td><td>25</td><td>2021</td><td>18:43:18</td><td>18</td><td>Spring</td><td><span style=white-space:pre-wrap>Evening  </span></td></tr>\n",
              "\t<tr><td>53C38EB01E6FA5C4</td><td>classic_bike </td><td>2021-04-03 16:28:21</td><td>2021-04-03 16:29:47</td><td><span style=white-space:pre-wrap>Ashland Ave &amp; 63rd St   </span></td><td><span style=white-space:pre-wrap>16948       </span></td><td><span style=white-space:pre-wrap>Ashland Ave &amp; 63rd St       </span></td><td><span style=white-space:pre-wrap>16948       </span></td><td>41.77937</td><td>-87.66484</td><td>⋯</td><td>casual</td><td>2021-04-03</td><td>Saturday </td><td>04</td><td>03</td><td>2021</td><td>16:28:21</td><td>16</td><td>Spring</td><td>Afternoon</td></tr>\n",
              "\t<tr><td>D53AC014EFD6E2BA</td><td>electric_bike</td><td>2021-04-06 16:35:06</td><td>2021-04-06 17:00:56</td><td>Dorchester Ave &amp; 49th St</td><td>KA1503000069</td><td><span style=white-space:pre-wrap>Dorchester Ave &amp; 49th St    </span></td><td>KA1503000069</td><td>41.80583</td><td>-87.59248</td><td>⋯</td><td>casual</td><td>2021-04-06</td><td><span style=white-space:pre-wrap>Tuesday  </span></td><td>04</td><td>06</td><td>2021</td><td>16:35:06</td><td>16</td><td>Spring</td><td>Afternoon</td></tr>\n",
              "\t<tr><td>6E2F7CA1FA9E0AFB</td><td>classic_bike </td><td>2021-04-12 15:22:54</td><td>2021-04-12 16:15:48</td><td><span style=white-space:pre-wrap>Ashland Ave &amp; 63rd St   </span></td><td><span style=white-space:pre-wrap>16948       </span></td><td><span style=white-space:pre-wrap>Ashland Ave &amp; 63rd St       </span></td><td><span style=white-space:pre-wrap>16948       </span></td><td>41.77937</td><td>-87.66484</td><td>⋯</td><td>casual</td><td>2021-04-12</td><td><span style=white-space:pre-wrap>Monday   </span></td><td>04</td><td>12</td><td>2021</td><td>15:22:54</td><td>15</td><td>Spring</td><td>Afternoon</td></tr>\n",
              "\t<tr><td>04218447AAC80BD1</td><td>classic_bike </td><td>2021-04-24 15:04:55</td><td>2021-04-24 15:06:16</td><td>Dorchester Ave &amp; 49th St</td><td>KA1503000069</td><td><span style=white-space:pre-wrap>Dorchester Ave &amp; 49th St    </span></td><td>KA1503000069</td><td>41.80577</td><td>-87.59246</td><td>⋯</td><td>casual</td><td>2021-04-24</td><td>Saturday </td><td>04</td><td>24</td><td>2021</td><td>15:04:55</td><td>15</td><td>Spring</td><td>Afternoon</td></tr>\n",
              "\t<tr><td>B45BBE0734834247</td><td>electric_bike</td><td>2021-04-03 18:03:40</td><td>2021-04-03 19:13:22</td><td><span style=white-space:pre-wrap>Loomis Blvd &amp; 84th St   </span></td><td><span style=white-space:pre-wrap>20121       </span></td><td><span style=white-space:pre-wrap>Loomis Blvd &amp; 84th St       </span></td><td><span style=white-space:pre-wrap>20121       </span></td><td>41.74156</td><td>-87.65842</td><td>⋯</td><td>casual</td><td>2021-04-03</td><td>Saturday </td><td>04</td><td>03</td><td>2021</td><td>18:03:40</td><td>18</td><td>Spring</td><td><span style=white-space:pre-wrap>Evening  </span></td></tr>\n",
              "\t<tr><td>70DEC4E102F00DC2</td><td>electric_bike</td><td>2021-04-24 18:01:29</td><td>2021-04-24 19:39:00</td><td><span style=white-space:pre-wrap>Halsted St &amp; 69th St    </span></td><td><span style=white-space:pre-wrap>15597       </span></td><td><span style=white-space:pre-wrap>Halsted St &amp; 69th St        </span></td><td><span style=white-space:pre-wrap>15597       </span></td><td>41.76901</td><td>-87.64463</td><td>⋯</td><td>casual</td><td>2021-04-24</td><td>Saturday </td><td>04</td><td>24</td><td>2021</td><td>18:01:29</td><td>18</td><td>Spring</td><td><span style=white-space:pre-wrap>Evening  </span></td></tr>\n",
              "\t<tr><td>B33484FA16A9A0FE</td><td>classic_bike </td><td>2021-04-27 18:31:52</td><td>2021-04-27 19:17:20</td><td>Dorchester Ave &amp; 49th St</td><td>KA1503000069</td><td><span style=white-space:pre-wrap>Dorchester Ave &amp; 49th St    </span></td><td>KA1503000069</td><td>41.80577</td><td>-87.59246</td><td>⋯</td><td>casual</td><td>2021-04-27</td><td><span style=white-space:pre-wrap>Tuesday  </span></td><td>04</td><td>27</td><td>2021</td><td>18:31:52</td><td>18</td><td>Spring</td><td><span style=white-space:pre-wrap>Evening  </span></td></tr>\n",
              "\t<tr><td>8670C65989291512</td><td>classic_bike </td><td>2021-04-04 14:19:43</td><td>2021-04-04 14:26:29</td><td>Dorchester Ave &amp; 49th St</td><td>KA1503000069</td><td><span style=white-space:pre-wrap>Dorchester Ave &amp; 49th St    </span></td><td>KA1503000069</td><td>41.80577</td><td>-87.59246</td><td>⋯</td><td>casual</td><td>2021-04-04</td><td><span style=white-space:pre-wrap>Sunday   </span></td><td>04</td><td>04</td><td>2021</td><td>14:19:43</td><td>14</td><td>Spring</td><td>Afternoon</td></tr>\n",
              "\t<tr><td>EFF545B4881F0C25</td><td>classic_bike </td><td>2021-04-13 12:12:50</td><td>2021-04-13 13:12:11</td><td>Dorchester Ave &amp; 49th St</td><td>KA1503000069</td><td><span style=white-space:pre-wrap>Dorchester Ave &amp; 49th St    </span></td><td>KA1503000069</td><td>41.80577</td><td>-87.59246</td><td>⋯</td><td>casual</td><td>2021-04-13</td><td><span style=white-space:pre-wrap>Tuesday  </span></td><td>04</td><td>13</td><td>2021</td><td>12:12:50</td><td>12</td><td>Spring</td><td>Afternoon</td></tr>\n",
              "\t<tr><td>49658BDF5846360E</td><td>electric_bike</td><td>2021-04-08 17:59:33</td><td>2021-04-08 18:11:30</td><td>Dorchester Ave &amp; 49th St</td><td>KA1503000069</td><td><span style=white-space:pre-wrap>Dorchester Ave &amp; 49th St    </span></td><td>KA1503000069</td><td>41.80583</td><td>-87.59252</td><td>⋯</td><td>casual</td><td>2021-04-08</td><td>Thursday </td><td>04</td><td>08</td><td>2021</td><td>17:59:33</td><td>17</td><td>Spring</td><td>Afternoon</td></tr>\n",
              "\t<tr><td>E5261048A5E7365B</td><td>electric_bike</td><td>2021-04-27 16:22:42</td><td>2021-04-27 16:47:19</td><td><span style=white-space:pre-wrap>Loomis Blvd &amp; 84th St   </span></td><td><span style=white-space:pre-wrap>20121       </span></td><td><span style=white-space:pre-wrap>Loomis Blvd &amp; 84th St       </span></td><td><span style=white-space:pre-wrap>20121       </span></td><td>41.74156</td><td>-87.65842</td><td>⋯</td><td>casual</td><td>2021-04-27</td><td><span style=white-space:pre-wrap>Tuesday  </span></td><td>04</td><td>27</td><td>2021</td><td>16:22:42</td><td>16</td><td>Spring</td><td>Afternoon</td></tr>\n",
              "\t<tr><td>9DADAD1E49747066</td><td><span style=white-space:pre-wrap>docked_bike  </span></td><td>2021-04-25 17:42:16</td><td>2021-04-25 18:02:55</td><td>Dorchester Ave &amp; 49th St</td><td>KA1503000069</td><td><span style=white-space:pre-wrap>Dorchester Ave &amp; 49th St    </span></td><td>KA1503000069</td><td>41.80577</td><td>-87.59246</td><td>⋯</td><td>casual</td><td>2021-04-25</td><td><span style=white-space:pre-wrap>Sunday   </span></td><td>04</td><td>25</td><td>2021</td><td>17:42:16</td><td>17</td><td>Spring</td><td>Afternoon</td></tr>\n",
              "\t<tr><td>440BBEEEEA9DD6FE</td><td>classic_bike </td><td>2021-04-07 14:24:51</td><td>2021-04-07 14:25:57</td><td>Dorchester Ave &amp; 49th St</td><td>KA1503000069</td><td><span style=white-space:pre-wrap>Dorchester Ave &amp; 49th St    </span></td><td>KA1503000069</td><td>41.80577</td><td>-87.59246</td><td>⋯</td><td>casual</td><td>2021-04-07</td><td>Wednesday</td><td>04</td><td>07</td><td>2021</td><td>14:24:51</td><td>14</td><td>Spring</td><td>Afternoon</td></tr>\n",
              "\t<tr><td>B39DF385508E7DCF</td><td>classic_bike </td><td>2021-04-27 09:00:07</td><td>2021-04-27 09:30:28</td><td>Dorchester Ave &amp; 49th St</td><td>KA1503000069</td><td><span style=white-space:pre-wrap>Dorchester Ave &amp; 49th St    </span></td><td>KA1503000069</td><td>41.80577</td><td>-87.59246</td><td>⋯</td><td>casual</td><td>2021-04-27</td><td><span style=white-space:pre-wrap>Tuesday  </span></td><td>04</td><td>27</td><td>2021</td><td>09:00:07</td><td> 9</td><td>Spring</td><td><span style=white-space:pre-wrap>Morning  </span></td></tr>\n",
              "\t<tr><td>1E1D708751A45FBB</td><td>classic_bike </td><td>2021-04-27 18:20:52</td><td>2021-04-27 18:23:56</td><td><span style=white-space:pre-wrap>Clinton St &amp; Polk St    </span></td><td><span style=white-space:pre-wrap>15542       </span></td><td><span style=white-space:pre-wrap>Clinton St &amp; Polk St        </span></td><td><span style=white-space:pre-wrap>15542       </span></td><td>41.87147</td><td>-87.64095</td><td>⋯</td><td>casual</td><td>2021-04-27</td><td><span style=white-space:pre-wrap>Tuesday  </span></td><td>04</td><td>27</td><td>2021</td><td>18:20:52</td><td>18</td><td>Spring</td><td><span style=white-space:pre-wrap>Evening  </span></td></tr>\n",
              "\t<tr><td>EF150999D6799927</td><td>electric_bike</td><td>2021-04-26 15:19:08</td><td>2021-04-26 15:47:33</td><td><span style=white-space:pre-wrap>Loomis Blvd &amp; 84th St   </span></td><td><span style=white-space:pre-wrap>20121       </span></td><td><span style=white-space:pre-wrap>Loomis Blvd &amp; 84th St       </span></td><td><span style=white-space:pre-wrap>20121       </span></td><td>41.74154</td><td>-87.65837</td><td>⋯</td><td>casual</td><td>2021-04-26</td><td><span style=white-space:pre-wrap>Monday   </span></td><td>04</td><td>26</td><td>2021</td><td>15:19:08</td><td>15</td><td>Spring</td><td>Afternoon</td></tr>\n",
              "\t<tr><td>F01C5D9474B37874</td><td><span style=white-space:pre-wrap>docked_bike  </span></td><td>2021-04-27 17:27:26</td><td>2021-04-27 17:56:08</td><td>Dorchester Ave &amp; 49th St</td><td>KA1503000069</td><td><span style=white-space:pre-wrap>Dorchester Ave &amp; 49th St    </span></td><td>KA1503000069</td><td>41.80577</td><td>-87.59246</td><td>⋯</td><td>casual</td><td>2021-04-27</td><td><span style=white-space:pre-wrap>Tuesday  </span></td><td>04</td><td>27</td><td>2021</td><td>17:27:26</td><td>17</td><td>Spring</td><td>Afternoon</td></tr>\n",
              "\t<tr><td>3241CB12D978A919</td><td><span style=white-space:pre-wrap>docked_bike  </span></td><td>2021-04-26 16:39:35</td><td>2021-04-26 17:10:47</td><td>Dorchester Ave &amp; 49th St</td><td>KA1503000069</td><td><span style=white-space:pre-wrap>Dorchester Ave &amp; 49th St    </span></td><td>KA1503000069</td><td>41.80577</td><td>-87.59246</td><td>⋯</td><td>casual</td><td>2021-04-26</td><td><span style=white-space:pre-wrap>Monday   </span></td><td>04</td><td>26</td><td>2021</td><td>16:39:35</td><td>16</td><td>Spring</td><td>Afternoon</td></tr>\n",
              "\t<tr><td>3C1E34B72CF1DF6F</td><td><span style=white-space:pre-wrap>docked_bike  </span></td><td>2021-04-24 14:13:38</td><td>2021-04-24 17:54:40</td><td><span style=white-space:pre-wrap>Halsted St &amp; 69th St    </span></td><td><span style=white-space:pre-wrap>15597       </span></td><td><span style=white-space:pre-wrap>Halsted St &amp; 69th St        </span></td><td><span style=white-space:pre-wrap>15597       </span></td><td>41.76906</td><td>-87.64461</td><td>⋯</td><td>casual</td><td>2021-04-24</td><td>Saturday </td><td>04</td><td>24</td><td>2021</td><td>14:13:38</td><td>14</td><td>Spring</td><td>Afternoon</td></tr>\n",
              "\t<tr><td>7780E5A193F16BAA</td><td><span style=white-space:pre-wrap>docked_bike  </span></td><td>2021-04-17 12:19:15</td><td>2021-04-17 12:33:23</td><td>Dorchester Ave &amp; 49th St</td><td>KA1503000069</td><td><span style=white-space:pre-wrap>Dorchester Ave &amp; 49th St    </span></td><td>KA1503000069</td><td>41.80577</td><td>-87.59246</td><td>⋯</td><td>casual</td><td>2021-04-17</td><td>Saturday </td><td>04</td><td>17</td><td>2021</td><td>12:19:15</td><td>12</td><td>Spring</td><td>Afternoon</td></tr>\n",
              "\t<tr><td>A1250C4C180BDB7A</td><td>electric_bike</td><td>2021-04-12 13:28:37</td><td>2021-04-12 13:43:47</td><td>Dorchester Ave &amp; 49th St</td><td>KA1503000069</td><td><span style=white-space:pre-wrap>Dorchester Ave &amp; 49th St    </span></td><td>KA1503000069</td><td>41.80586</td><td>-87.59241</td><td>⋯</td><td>casual</td><td>2021-04-12</td><td><span style=white-space:pre-wrap>Monday   </span></td><td>04</td><td>12</td><td>2021</td><td>13:28:37</td><td>13</td><td>Spring</td><td>Afternoon</td></tr>\n",
              "\t<tr><td>DCE53F03D9E930BC</td><td>classic_bike </td><td>2021-04-16 19:12:50</td><td>2021-04-16 19:30:04</td><td>Dorchester Ave &amp; 49th St</td><td>KA1503000069</td><td><span style=white-space:pre-wrap>Dorchester Ave &amp; 49th St    </span></td><td>KA1503000069</td><td>41.80577</td><td>-87.59246</td><td>⋯</td><td>casual</td><td>2021-04-16</td><td><span style=white-space:pre-wrap>Friday   </span></td><td>04</td><td>16</td><td>2021</td><td>19:12:50</td><td>19</td><td>Spring</td><td><span style=white-space:pre-wrap>Evening  </span></td></tr>\n",
              "\t<tr><td>C1C200854F4A4289</td><td>classic_bike </td><td>2021-04-11 17:12:35</td><td>2021-04-11 17:13:10</td><td><span style=white-space:pre-wrap>Loomis Blvd &amp; 84th St   </span></td><td><span style=white-space:pre-wrap>20121       </span></td><td><span style=white-space:pre-wrap>Loomis Blvd &amp; 84th St       </span></td><td><span style=white-space:pre-wrap>20121       </span></td><td>41.74149</td><td>-87.65841</td><td>⋯</td><td>casual</td><td>2021-04-11</td><td><span style=white-space:pre-wrap>Sunday   </span></td><td>04</td><td>11</td><td>2021</td><td>17:12:35</td><td>17</td><td>Spring</td><td>Afternoon</td></tr>\n",
              "\t<tr><td>4613417749115AB3</td><td>classic_bike </td><td>2021-04-11 17:13:35</td><td>2021-04-11 18:14:14</td><td><span style=white-space:pre-wrap>Loomis Blvd &amp; 84th St   </span></td><td><span style=white-space:pre-wrap>20121       </span></td><td><span style=white-space:pre-wrap>Loomis Blvd &amp; 84th St       </span></td><td><span style=white-space:pre-wrap>20121       </span></td><td>41.74149</td><td>-87.65841</td><td>⋯</td><td>casual</td><td>2021-04-11</td><td><span style=white-space:pre-wrap>Sunday   </span></td><td>04</td><td>11</td><td>2021</td><td>17:13:35</td><td>17</td><td>Spring</td><td>Afternoon</td></tr>\n",
              "\t<tr><td>⋮</td><td>⋮</td><td>⋮</td><td>⋮</td><td>⋮</td><td>⋮</td><td>⋮</td><td>⋮</td><td>⋮</td><td>⋮</td><td>⋱</td><td>⋮</td><td>⋮</td><td>⋮</td><td>⋮</td><td>⋮</td><td>⋮</td><td>⋮</td><td>⋮</td><td>⋮</td><td>⋮</td></tr>\n",
              "\t<tr><td>77C082A1158B9A4E</td><td><span style=white-space:pre-wrap>docked_bike  </span></td><td>2022-03-14 17:21:55</td><td>2022-03-14 17:44:57</td><td><span style=white-space:pre-wrap>Dusable Harbor                        </span></td><td>KA1503000064</td><td><span style=white-space:pre-wrap>Streeter Dr &amp; Grand Ave      </span></td><td><span style=white-space:pre-wrap>13022       </span></td><td>41.88698</td><td>-87.61281</td><td>⋯</td><td>casual</td><td>2022-03-14</td><td><span style=white-space:pre-wrap>Monday   </span></td><td>03</td><td>14</td><td>2022</td><td>17:21:55</td><td>17</td><td>Spring</td><td>Afternoon</td></tr>\n",
              "\t<tr><td>04AA5367BE3B89E5</td><td><span style=white-space:pre-wrap>docked_bike  </span></td><td>2022-03-12 11:25:28</td><td>2022-03-12 11:49:37</td><td><span style=white-space:pre-wrap>Dusable Harbor                        </span></td><td>KA1503000064</td><td><span style=white-space:pre-wrap>Aberdeen St &amp; Monroe St      </span></td><td><span style=white-space:pre-wrap>13156       </span></td><td>41.88698</td><td>-87.61281</td><td>⋯</td><td>casual</td><td>2022-03-12</td><td>Saturday </td><td>03</td><td>12</td><td>2022</td><td>11:25:28</td><td>11</td><td>Spring</td><td><span style=white-space:pre-wrap>Morning  </span></td></tr>\n",
              "\t<tr><td>E04AF9B9B29FCD29</td><td>electric_bike</td><td>2022-03-26 14:33:02</td><td>2022-03-26 14:42:04</td><td><span style=white-space:pre-wrap>Clinton St &amp; Jackson Blvd             </span></td><td><span style=white-space:pre-wrap>638         </span></td><td><span style=white-space:pre-wrap>Aberdeen St &amp; Monroe St      </span></td><td><span style=white-space:pre-wrap>13156       </span></td><td>41.87789</td><td>-87.64064</td><td>⋯</td><td>member</td><td>2022-03-26</td><td>Saturday </td><td>03</td><td>26</td><td>2022</td><td>14:33:02</td><td>14</td><td>Spring</td><td>Afternoon</td></tr>\n",
              "\t<tr><td>84932115AE84D51C</td><td>classic_bike </td><td>2022-03-17 17:31:09</td><td>2022-03-17 17:37:48</td><td><span style=white-space:pre-wrap>Clinton St &amp; Jackson Blvd             </span></td><td><span style=white-space:pre-wrap>638         </span></td><td><span style=white-space:pre-wrap>Aberdeen St &amp; Monroe St      </span></td><td><span style=white-space:pre-wrap>13156       </span></td><td>41.87832</td><td>-87.64098</td><td>⋯</td><td>member</td><td>2022-03-17</td><td>Thursday </td><td>03</td><td>17</td><td>2022</td><td>17:31:09</td><td>17</td><td>Spring</td><td>Afternoon</td></tr>\n",
              "\t<tr><td>5346BEADE60DF4CC</td><td>classic_bike </td><td>2022-03-08 17:42:53</td><td>2022-03-08 17:49:21</td><td><span style=white-space:pre-wrap>Clinton St &amp; Jackson Blvd             </span></td><td><span style=white-space:pre-wrap>638         </span></td><td><span style=white-space:pre-wrap>Aberdeen St &amp; Monroe St      </span></td><td><span style=white-space:pre-wrap>13156       </span></td><td>41.87832</td><td>-87.64098</td><td>⋯</td><td>member</td><td>2022-03-08</td><td><span style=white-space:pre-wrap>Tuesday  </span></td><td>03</td><td>08</td><td>2022</td><td>17:42:53</td><td>17</td><td>Spring</td><td>Afternoon</td></tr>\n",
              "\t<tr><td>799F0896CC2165A1</td><td>electric_bike</td><td>2022-03-21 15:09:06</td><td>2022-03-21 16:23:23</td><td><span style=white-space:pre-wrap>State St &amp; Van Buren St               </span></td><td>TA1305000035</td><td><span style=white-space:pre-wrap>Streeter Dr &amp; Grand Ave      </span></td><td><span style=white-space:pre-wrap>13022       </span></td><td>41.87665</td><td>-87.62800</td><td>⋯</td><td>casual</td><td>2022-03-21</td><td><span style=white-space:pre-wrap>Monday   </span></td><td>03</td><td>21</td><td>2022</td><td>15:09:06</td><td>15</td><td>Spring</td><td>Afternoon</td></tr>\n",
              "\t<tr><td>4417CF79DFA8EFA0</td><td>electric_bike</td><td>2022-03-15 17:20:06</td><td>2022-03-15 17:37:50</td><td><span style=white-space:pre-wrap>Indiana Ave &amp; Roosevelt Rd            </span></td><td><span style=white-space:pre-wrap>SL-005      </span></td><td><span style=white-space:pre-wrap>Streeter Dr &amp; Grand Ave      </span></td><td><span style=white-space:pre-wrap>13022       </span></td><td>41.86804</td><td>-87.62311</td><td>⋯</td><td>casual</td><td>2022-03-15</td><td><span style=white-space:pre-wrap>Tuesday  </span></td><td>03</td><td>15</td><td>2022</td><td>17:20:06</td><td>17</td><td>Spring</td><td>Afternoon</td></tr>\n",
              "\t<tr><td>FD53CC132C891259</td><td>classic_bike </td><td>2022-03-15 17:16:36</td><td>2022-03-15 17:37:43</td><td><span style=white-space:pre-wrap>Indiana Ave &amp; Roosevelt Rd            </span></td><td><span style=white-space:pre-wrap>SL-005      </span></td><td><span style=white-space:pre-wrap>Streeter Dr &amp; Grand Ave      </span></td><td><span style=white-space:pre-wrap>13022       </span></td><td>41.86789</td><td>-87.62304</td><td>⋯</td><td>casual</td><td>2022-03-15</td><td><span style=white-space:pre-wrap>Tuesday  </span></td><td>03</td><td>15</td><td>2022</td><td>17:16:36</td><td>17</td><td>Spring</td><td>Afternoon</td></tr>\n",
              "\t<tr><td>3F0F55008C5FDD9A</td><td>classic_bike </td><td>2022-03-10 09:40:52</td><td>2022-03-10 09:42:57</td><td><span style=white-space:pre-wrap>Ravenswood Ave &amp; Irving Park Rd       </span></td><td>TA1307000149</td><td>Ravenswood Ave &amp; Berteau Ave </td><td>TA1309000018</td><td>41.95469</td><td>-87.67393</td><td>⋯</td><td>member</td><td>2022-03-10</td><td>Thursday </td><td>03</td><td>10</td><td>2022</td><td>09:40:52</td><td> 9</td><td>Spring</td><td><span style=white-space:pre-wrap>Morning  </span></td></tr>\n",
              "\t<tr><td>CA5BCBE936AA78AC</td><td>electric_bike</td><td>2022-03-30 08:52:22</td><td>2022-03-30 09:00:07</td><td><span style=white-space:pre-wrap>Larrabee St &amp; Kingsbury St            </span></td><td>TA1306000009</td><td>Franklin St &amp; Adams St (Temp)</td><td>TA1309000008</td><td>41.89762</td><td>-87.64330</td><td>⋯</td><td>member</td><td>2022-03-30</td><td>Wednesday</td><td>03</td><td>30</td><td>2022</td><td>08:52:22</td><td> 8</td><td>Spring</td><td><span style=white-space:pre-wrap>Morning  </span></td></tr>\n",
              "\t<tr><td>D41190A1EACD4E5F</td><td>electric_bike</td><td>2022-03-02 09:15:45</td><td>2022-03-02 09:22:38</td><td><span style=white-space:pre-wrap>Larrabee St &amp; Kingsbury St            </span></td><td>TA1306000009</td><td>Franklin St &amp; Adams St (Temp)</td><td>TA1309000008</td><td>41.89772</td><td>-87.64291</td><td>⋯</td><td>member</td><td>2022-03-02</td><td>Wednesday</td><td>03</td><td>02</td><td>2022</td><td>09:15:45</td><td> 9</td><td>Spring</td><td><span style=white-space:pre-wrap>Morning  </span></td></tr>\n",
              "\t<tr><td>4A317542FA86CD66</td><td>electric_bike</td><td>2022-03-21 19:50:38</td><td>2022-03-21 19:51:44</td><td><span style=white-space:pre-wrap>Aberdeen St &amp; Jackson Blvd            </span></td><td><span style=white-space:pre-wrap>13157       </span></td><td><span style=white-space:pre-wrap>Aberdeen St &amp; Monroe St      </span></td><td><span style=white-space:pre-wrap>13156       </span></td><td>41.87772</td><td>-87.65482</td><td>⋯</td><td>member</td><td>2022-03-21</td><td><span style=white-space:pre-wrap>Monday   </span></td><td>03</td><td>21</td><td>2022</td><td>19:50:38</td><td>19</td><td>Spring</td><td><span style=white-space:pre-wrap>Evening  </span></td></tr>\n",
              "\t<tr><td>6E5550F87DDF75F6</td><td>electric_bike</td><td>2022-03-22 17:42:37</td><td>2022-03-22 17:43:54</td><td><span style=white-space:pre-wrap>Aberdeen St &amp; Jackson Blvd            </span></td><td><span style=white-space:pre-wrap>13157       </span></td><td><span style=white-space:pre-wrap>Aberdeen St &amp; Monroe St      </span></td><td><span style=white-space:pre-wrap>13156       </span></td><td>41.87771</td><td>-87.65493</td><td>⋯</td><td>member</td><td>2022-03-22</td><td><span style=white-space:pre-wrap>Tuesday  </span></td><td>03</td><td>22</td><td>2022</td><td>17:42:37</td><td>17</td><td>Spring</td><td>Afternoon</td></tr>\n",
              "\t<tr><td>5216A9EC09DB7A9F</td><td>electric_bike</td><td>2022-03-05 08:46:31</td><td>2022-03-05 08:49:15</td><td><span style=white-space:pre-wrap>Larrabee St &amp; Kingsbury St            </span></td><td>TA1306000009</td><td><span style=white-space:pre-wrap>Larrabee St &amp; Division St    </span></td><td>KA1504000079</td><td>41.89758</td><td>-87.64328</td><td>⋯</td><td>member</td><td>2022-03-05</td><td>Saturday </td><td>03</td><td>05</td><td>2022</td><td>08:46:31</td><td> 8</td><td>Spring</td><td><span style=white-space:pre-wrap>Morning  </span></td></tr>\n",
              "\t<tr><td>E84C61616F07B3E6</td><td>electric_bike</td><td>2022-03-16 08:49:31</td><td>2022-03-16 08:54:11</td><td><span style=white-space:pre-wrap>Orleans St &amp; Merchandise Mart Plaza   </span></td><td>TA1305000022</td><td>Franklin St &amp; Adams St (Temp)</td><td>TA1309000008</td><td>41.88803</td><td>-87.63715</td><td>⋯</td><td>member</td><td>2022-03-16</td><td>Wednesday</td><td>03</td><td>16</td><td>2022</td><td>08:49:31</td><td> 8</td><td>Spring</td><td><span style=white-space:pre-wrap>Morning  </span></td></tr>\n",
              "\t<tr><td>4C57806C54B9E7CE</td><td>electric_bike</td><td>2022-03-09 08:57:04</td><td>2022-03-09 09:01:41</td><td><span style=white-space:pre-wrap>Orleans St &amp; Merchandise Mart Plaza   </span></td><td>TA1305000022</td><td>Franklin St &amp; Adams St (Temp)</td><td>TA1309000008</td><td>41.88803</td><td>-87.63676</td><td>⋯</td><td>member</td><td>2022-03-09</td><td>Wednesday</td><td>03</td><td>09</td><td>2022</td><td>08:57:04</td><td> 8</td><td>Spring</td><td><span style=white-space:pre-wrap>Morning  </span></td></tr>\n",
              "\t<tr><td>5C9B42397EC9AF78</td><td>electric_bike</td><td>2022-03-15 08:53:44</td><td>2022-03-15 08:58:18</td><td><span style=white-space:pre-wrap>Orleans St &amp; Merchandise Mart Plaza   </span></td><td>TA1305000022</td><td>Franklin St &amp; Adams St (Temp)</td><td>TA1309000008</td><td>41.88796</td><td>-87.63696</td><td>⋯</td><td>member</td><td>2022-03-15</td><td><span style=white-space:pre-wrap>Tuesday  </span></td><td>03</td><td>15</td><td>2022</td><td>08:53:44</td><td> 8</td><td>Spring</td><td><span style=white-space:pre-wrap>Morning  </span></td></tr>\n",
              "\t<tr><td>155C49327D325C09</td><td>electric_bike</td><td>2022-03-22 09:05:33</td><td>2022-03-22 09:09:58</td><td><span style=white-space:pre-wrap>Orleans St &amp; Merchandise Mart Plaza   </span></td><td>TA1305000022</td><td>Franklin St &amp; Adams St (Temp)</td><td>TA1309000008</td><td>41.88829</td><td>-87.63637</td><td>⋯</td><td>member</td><td>2022-03-22</td><td><span style=white-space:pre-wrap>Tuesday  </span></td><td>03</td><td>22</td><td>2022</td><td>09:05:33</td><td> 9</td><td>Spring</td><td><span style=white-space:pre-wrap>Morning  </span></td></tr>\n",
              "\t<tr><td>035E57A7EC67DDF4</td><td>electric_bike</td><td>2022-03-25 10:22:43</td><td>2022-03-25 10:37:16</td><td><span style=white-space:pre-wrap>New St &amp; Illinois St                  </span></td><td>TA1306000013</td><td><span style=white-space:pre-wrap>Streeter Dr &amp; Grand Ave      </span></td><td><span style=white-space:pre-wrap>13022       </span></td><td>41.89068</td><td>-87.61809</td><td>⋯</td><td>member</td><td>2022-03-25</td><td><span style=white-space:pre-wrap>Friday   </span></td><td>03</td><td>25</td><td>2022</td><td>10:22:43</td><td>10</td><td>Spring</td><td><span style=white-space:pre-wrap>Morning  </span></td></tr>\n",
              "\t<tr><td>C0AE978CAB160852</td><td>classic_bike </td><td>2022-03-16 13:40:22</td><td>2022-03-16 14:17:17</td><td>DuSable Lake Shore Dr &amp; Wellington Ave</td><td>TA1307000041</td><td><span style=white-space:pre-wrap>Streeter Dr &amp; Grand Ave      </span></td><td><span style=white-space:pre-wrap>13022       </span></td><td>41.93669</td><td>-87.63683</td><td>⋯</td><td>member</td><td>2022-03-16</td><td>Wednesday</td><td>03</td><td>16</td><td>2022</td><td>13:40:22</td><td>13</td><td>Spring</td><td>Afternoon</td></tr>\n",
              "\t<tr><td>5E0C2CDD50EBFC0B</td><td>classic_bike </td><td>2022-03-16 16:33:30</td><td>2022-03-16 17:33:52</td><td><span style=white-space:pre-wrap>Adler Planetarium                     </span></td><td><span style=white-space:pre-wrap>13431       </span></td><td><span style=white-space:pre-wrap>Streeter Dr &amp; Grand Ave      </span></td><td><span style=white-space:pre-wrap>13022       </span></td><td>41.86610</td><td>-87.60727</td><td>⋯</td><td>casual</td><td>2022-03-16</td><td>Wednesday</td><td>03</td><td>16</td><td>2022</td><td>16:33:30</td><td>16</td><td>Spring</td><td>Afternoon</td></tr>\n",
              "\t<tr><td>E3A68406C43058A9</td><td>classic_bike </td><td>2022-03-30 07:31:45</td><td>2022-03-30 07:40:05</td><td><span style=white-space:pre-wrap>Stetson Ave &amp; South Water St          </span></td><td>TA1308000029</td><td>Franklin St &amp; Adams St (Temp)</td><td>TA1309000008</td><td>41.88683</td><td>-87.62232</td><td>⋯</td><td>member</td><td>2022-03-30</td><td>Wednesday</td><td>03</td><td>30</td><td>2022</td><td>07:31:45</td><td> 7</td><td>Spring</td><td><span style=white-space:pre-wrap>Morning  </span></td></tr>\n",
              "\t<tr><td>025DA93C8471767C</td><td><span style=white-space:pre-wrap>docked_bike  </span></td><td>2022-03-05 14:13:13</td><td>2022-03-05 14:45:52</td><td><span style=white-space:pre-wrap>Adler Planetarium                     </span></td><td><span style=white-space:pre-wrap>13431       </span></td><td><span style=white-space:pre-wrap>Streeter Dr &amp; Grand Ave      </span></td><td><span style=white-space:pre-wrap>13022       </span></td><td>41.86610</td><td>-87.60727</td><td>⋯</td><td>casual</td><td>2022-03-05</td><td>Saturday </td><td>03</td><td>05</td><td>2022</td><td>14:13:13</td><td>14</td><td>Spring</td><td>Afternoon</td></tr>\n",
              "\t<tr><td>7DF0716EA46DC1E1</td><td>classic_bike </td><td>2022-03-16 07:34:25</td><td>2022-03-16 07:44:58</td><td><span style=white-space:pre-wrap>Stetson Ave &amp; South Water St          </span></td><td>TA1308000029</td><td>Franklin St &amp; Adams St (Temp)</td><td>TA1309000008</td><td>41.88683</td><td>-87.62232</td><td>⋯</td><td>member</td><td>2022-03-16</td><td>Wednesday</td><td>03</td><td>16</td><td>2022</td><td>07:34:25</td><td> 7</td><td>Spring</td><td><span style=white-space:pre-wrap>Morning  </span></td></tr>\n",
              "\t<tr><td>B591E39220EBC4BC</td><td>classic_bike </td><td>2022-03-15 18:09:14</td><td>2022-03-15 18:20:28</td><td><span style=white-space:pre-wrap>Daley Center Plaza                    </span></td><td>TA1306000010</td><td><span style=white-space:pre-wrap>Streeter Dr &amp; Grand Ave      </span></td><td><span style=white-space:pre-wrap>13022       </span></td><td>41.88424</td><td>-87.62963</td><td>⋯</td><td>member</td><td>2022-03-15</td><td><span style=white-space:pre-wrap>Tuesday  </span></td><td>03</td><td>15</td><td>2022</td><td>18:09:14</td><td>18</td><td>Spring</td><td><span style=white-space:pre-wrap>Evening  </span></td></tr>\n",
              "\t<tr><td>1CEE41690C73108B</td><td>classic_bike </td><td>2022-03-21 15:12:17</td><td>2022-03-21 15:23:01</td><td><span style=white-space:pre-wrap>Michigan Ave &amp; Oak St                 </span></td><td><span style=white-space:pre-wrap>13042       </span></td><td><span style=white-space:pre-wrap>Streeter Dr &amp; Grand Ave      </span></td><td><span style=white-space:pre-wrap>13022       </span></td><td>41.90096</td><td>-87.62378</td><td>⋯</td><td>member</td><td>2022-03-21</td><td><span style=white-space:pre-wrap>Monday   </span></td><td>03</td><td>21</td><td>2022</td><td>15:12:17</td><td>15</td><td>Spring</td><td>Afternoon</td></tr>\n",
              "\t<tr><td>A2A6F07D3DF4D0D6</td><td>electric_bike</td><td>2022-03-09 20:29:48</td><td>2022-03-09 21:01:30</td><td><span style=white-space:pre-wrap>Sheridan Rd &amp; Irving Park Rd          </span></td><td><span style=white-space:pre-wrap>13063       </span></td><td><span style=white-space:pre-wrap>Streeter Dr &amp; Grand Ave      </span></td><td><span style=white-space:pre-wrap>13022       </span></td><td>41.95428</td><td>-87.65441</td><td>⋯</td><td>casual</td><td>2022-03-09</td><td>Wednesday</td><td>03</td><td>09</td><td>2022</td><td>20:29:48</td><td>20</td><td>Spring</td><td><span style=white-space:pre-wrap>Evening  </span></td></tr>\n",
              "\t<tr><td>E23BE3DB740BE3B4</td><td><span style=white-space:pre-wrap>docked_bike  </span></td><td>2022-03-13 16:31:03</td><td>2022-03-13 16:39:32</td><td><span style=white-space:pre-wrap>Michigan Ave &amp; Oak St                 </span></td><td><span style=white-space:pre-wrap>13042       </span></td><td><span style=white-space:pre-wrap>Streeter Dr &amp; Grand Ave      </span></td><td><span style=white-space:pre-wrap>13022       </span></td><td>41.90096</td><td>-87.62378</td><td>⋯</td><td>casual</td><td>2022-03-13</td><td><span style=white-space:pre-wrap>Sunday   </span></td><td>03</td><td>13</td><td>2022</td><td>16:31:03</td><td>16</td><td>Spring</td><td>Afternoon</td></tr>\n",
              "\t<tr><td>15AF71F3220F2A75</td><td><span style=white-space:pre-wrap>docked_bike  </span></td><td>2022-03-09 06:56:02</td><td>2022-03-09 07:42:14</td><td><span style=white-space:pre-wrap>Broadway &amp; Barry Ave                  </span></td><td><span style=white-space:pre-wrap>13137       </span></td><td>Ravenswood Ave &amp; Berteau Ave </td><td>TA1309000018</td><td>41.93758</td><td>-87.64410</td><td>⋯</td><td>casual</td><td>2022-03-09</td><td>Wednesday</td><td>03</td><td>09</td><td>2022</td><td>06:56:02</td><td> 6</td><td>Spring</td><td><span style=white-space:pre-wrap>Morning  </span></td></tr>\n",
              "\t<tr><td>5AEC5F39AF711895</td><td>classic_bike </td><td>2022-03-03 18:13:40</td><td>2022-03-03 18:23:39</td><td><span style=white-space:pre-wrap>Clark St &amp; Randolph St                </span></td><td>TA1305000030</td><td><span style=white-space:pre-wrap>Streeter Dr &amp; Grand Ave      </span></td><td><span style=white-space:pre-wrap>13022       </span></td><td>41.88458</td><td>-87.63189</td><td>⋯</td><td>member</td><td>2022-03-03</td><td>Thursday </td><td>03</td><td>03</td><td>2022</td><td>18:13:40</td><td>18</td><td>Spring</td><td><span style=white-space:pre-wrap>Evening  </span></td></tr>\n",
              "</tbody>\n",
              "</table>\n"
            ],
            "text/markdown": "\nA tibble: 4641395 × 22\n\n| ride_id &lt;chr&gt; | rideable_type &lt;chr&gt; | started_at &lt;dttm&gt; | ended_at &lt;dttm&gt; | start_station_name &lt;chr&gt; | start_station_id &lt;chr&gt; | end_station_name &lt;chr&gt; | end_station_id &lt;chr&gt; | start_lat &lt;dbl&gt; | start_lng &lt;dbl&gt; | ⋯ ⋯ | member_casual &lt;chr&gt; | date &lt;date&gt; | day_of_week &lt;chr&gt; | month &lt;chr&gt; | day &lt;chr&gt; | year &lt;chr&gt; | time &lt;time&gt; | hour &lt;int&gt; | season &lt;chr&gt; | time_of_day &lt;chr&gt; |\n|---|---|---|---|---|---|---|---|---|---|---|---|---|---|---|---|---|---|---|---|---|\n| 6C992BD37A98A63F | classic_bike  | 2021-04-12 18:25:36 | 2021-04-12 18:56:55 | State St &amp; Pearson St    | TA1307000061 | Southport Ave &amp; Waveland Ave | 13235        | 41.89745 | -87.62872 | ⋯ | member | 2021-04-12 | Monday    | 04 | 12 | 2021 | 18:25:36 | 18 | Spring | Evening   |\n| 1E0145613A209000 | docked_bike   | 2021-04-27 17:27:11 | 2021-04-27 18:31:29 | Dorchester Ave &amp; 49th St | KA1503000069 | Dorchester Ave &amp; 49th St     | KA1503000069 | 41.80577 | -87.59246 | ⋯ | casual | 2021-04-27 | Tuesday   | 04 | 27 | 2021 | 17:27:11 | 17 | Spring | Afternoon |\n| E498E15508A80BAD | docked_bike   | 2021-04-03 12:42:45 | 2021-04-07 11:40:24 | Loomis Blvd &amp; 84th St    | 20121        | Loomis Blvd &amp; 84th St        | 20121        | 41.74149 | -87.65841 | ⋯ | casual | 2021-04-03 | Saturday  | 04 | 03 | 2021 | 12:42:45 | 12 | Spring | Afternoon |\n| 1887262AD101C604 | classic_bike  | 2021-04-17 09:17:42 | 2021-04-17 09:42:48 | Honore St &amp; Division St  | TA1305000034 | Southport Ave &amp; Waveland Ave | 13235        | 41.90312 | -87.67394 | ⋯ | member | 2021-04-17 | Saturday  | 04 | 17 | 2021 | 09:17:42 |  9 | Spring | Morning   |\n| C123548CAB2A32A5 | docked_bike   | 2021-04-03 12:42:25 | 2021-04-03 14:13:42 | Loomis Blvd &amp; 84th St    | 20121        | Loomis Blvd &amp; 84th St        | 20121        | 41.74149 | -87.65841 | ⋯ | casual | 2021-04-03 | Saturday  | 04 | 03 | 2021 | 12:42:25 | 12 | Spring | Afternoon |\n| 097E76F3651B1AC1 | classic_bike  | 2021-04-25 18:43:18 | 2021-04-25 18:43:59 | Clinton St &amp; Polk St     | 15542        | Clinton St &amp; Polk St         | 15542        | 41.87147 | -87.64095 | ⋯ | casual | 2021-04-25 | Sunday    | 04 | 25 | 2021 | 18:43:18 | 18 | Spring | Evening   |\n| 53C38EB01E6FA5C4 | classic_bike  | 2021-04-03 16:28:21 | 2021-04-03 16:29:47 | Ashland Ave &amp; 63rd St    | 16948        | Ashland Ave &amp; 63rd St        | 16948        | 41.77937 | -87.66484 | ⋯ | casual | 2021-04-03 | Saturday  | 04 | 03 | 2021 | 16:28:21 | 16 | Spring | Afternoon |\n| D53AC014EFD6E2BA | electric_bike | 2021-04-06 16:35:06 | 2021-04-06 17:00:56 | Dorchester Ave &amp; 49th St | KA1503000069 | Dorchester Ave &amp; 49th St     | KA1503000069 | 41.80583 | -87.59248 | ⋯ | casual | 2021-04-06 | Tuesday   | 04 | 06 | 2021 | 16:35:06 | 16 | Spring | Afternoon |\n| 6E2F7CA1FA9E0AFB | classic_bike  | 2021-04-12 15:22:54 | 2021-04-12 16:15:48 | Ashland Ave &amp; 63rd St    | 16948        | Ashland Ave &amp; 63rd St        | 16948        | 41.77937 | -87.66484 | ⋯ | casual | 2021-04-12 | Monday    | 04 | 12 | 2021 | 15:22:54 | 15 | Spring | Afternoon |\n| 04218447AAC80BD1 | classic_bike  | 2021-04-24 15:04:55 | 2021-04-24 15:06:16 | Dorchester Ave &amp; 49th St | KA1503000069 | Dorchester Ave &amp; 49th St     | KA1503000069 | 41.80577 | -87.59246 | ⋯ | casual | 2021-04-24 | Saturday  | 04 | 24 | 2021 | 15:04:55 | 15 | Spring | Afternoon |\n| B45BBE0734834247 | electric_bike | 2021-04-03 18:03:40 | 2021-04-03 19:13:22 | Loomis Blvd &amp; 84th St    | 20121        | Loomis Blvd &amp; 84th St        | 20121        | 41.74156 | -87.65842 | ⋯ | casual | 2021-04-03 | Saturday  | 04 | 03 | 2021 | 18:03:40 | 18 | Spring | Evening   |\n| 70DEC4E102F00DC2 | electric_bike | 2021-04-24 18:01:29 | 2021-04-24 19:39:00 | Halsted St &amp; 69th St     | 15597        | Halsted St &amp; 69th St         | 15597        | 41.76901 | -87.64463 | ⋯ | casual | 2021-04-24 | Saturday  | 04 | 24 | 2021 | 18:01:29 | 18 | Spring | Evening   |\n| B33484FA16A9A0FE | classic_bike  | 2021-04-27 18:31:52 | 2021-04-27 19:17:20 | Dorchester Ave &amp; 49th St | KA1503000069 | Dorchester Ave &amp; 49th St     | KA1503000069 | 41.80577 | -87.59246 | ⋯ | casual | 2021-04-27 | Tuesday   | 04 | 27 | 2021 | 18:31:52 | 18 | Spring | Evening   |\n| 8670C65989291512 | classic_bike  | 2021-04-04 14:19:43 | 2021-04-04 14:26:29 | Dorchester Ave &amp; 49th St | KA1503000069 | Dorchester Ave &amp; 49th St     | KA1503000069 | 41.80577 | -87.59246 | ⋯ | casual | 2021-04-04 | Sunday    | 04 | 04 | 2021 | 14:19:43 | 14 | Spring | Afternoon |\n| EFF545B4881F0C25 | classic_bike  | 2021-04-13 12:12:50 | 2021-04-13 13:12:11 | Dorchester Ave &amp; 49th St | KA1503000069 | Dorchester Ave &amp; 49th St     | KA1503000069 | 41.80577 | -87.59246 | ⋯ | casual | 2021-04-13 | Tuesday   | 04 | 13 | 2021 | 12:12:50 | 12 | Spring | Afternoon |\n| 49658BDF5846360E | electric_bike | 2021-04-08 17:59:33 | 2021-04-08 18:11:30 | Dorchester Ave &amp; 49th St | KA1503000069 | Dorchester Ave &amp; 49th St     | KA1503000069 | 41.80583 | -87.59252 | ⋯ | casual | 2021-04-08 | Thursday  | 04 | 08 | 2021 | 17:59:33 | 17 | Spring | Afternoon |\n| E5261048A5E7365B | electric_bike | 2021-04-27 16:22:42 | 2021-04-27 16:47:19 | Loomis Blvd &amp; 84th St    | 20121        | Loomis Blvd &amp; 84th St        | 20121        | 41.74156 | -87.65842 | ⋯ | casual | 2021-04-27 | Tuesday   | 04 | 27 | 2021 | 16:22:42 | 16 | Spring | Afternoon |\n| 9DADAD1E49747066 | docked_bike   | 2021-04-25 17:42:16 | 2021-04-25 18:02:55 | Dorchester Ave &amp; 49th St | KA1503000069 | Dorchester Ave &amp; 49th St     | KA1503000069 | 41.80577 | -87.59246 | ⋯ | casual | 2021-04-25 | Sunday    | 04 | 25 | 2021 | 17:42:16 | 17 | Spring | Afternoon |\n| 440BBEEEEA9DD6FE | classic_bike  | 2021-04-07 14:24:51 | 2021-04-07 14:25:57 | Dorchester Ave &amp; 49th St | KA1503000069 | Dorchester Ave &amp; 49th St     | KA1503000069 | 41.80577 | -87.59246 | ⋯ | casual | 2021-04-07 | Wednesday | 04 | 07 | 2021 | 14:24:51 | 14 | Spring | Afternoon |\n| B39DF385508E7DCF | classic_bike  | 2021-04-27 09:00:07 | 2021-04-27 09:30:28 | Dorchester Ave &amp; 49th St | KA1503000069 | Dorchester Ave &amp; 49th St     | KA1503000069 | 41.80577 | -87.59246 | ⋯ | casual | 2021-04-27 | Tuesday   | 04 | 27 | 2021 | 09:00:07 |  9 | Spring | Morning   |\n| 1E1D708751A45FBB | classic_bike  | 2021-04-27 18:20:52 | 2021-04-27 18:23:56 | Clinton St &amp; Polk St     | 15542        | Clinton St &amp; Polk St         | 15542        | 41.87147 | -87.64095 | ⋯ | casual | 2021-04-27 | Tuesday   | 04 | 27 | 2021 | 18:20:52 | 18 | Spring | Evening   |\n| EF150999D6799927 | electric_bike | 2021-04-26 15:19:08 | 2021-04-26 15:47:33 | Loomis Blvd &amp; 84th St    | 20121        | Loomis Blvd &amp; 84th St        | 20121        | 41.74154 | -87.65837 | ⋯ | casual | 2021-04-26 | Monday    | 04 | 26 | 2021 | 15:19:08 | 15 | Spring | Afternoon |\n| F01C5D9474B37874 | docked_bike   | 2021-04-27 17:27:26 | 2021-04-27 17:56:08 | Dorchester Ave &amp; 49th St | KA1503000069 | Dorchester Ave &amp; 49th St     | KA1503000069 | 41.80577 | -87.59246 | ⋯ | casual | 2021-04-27 | Tuesday   | 04 | 27 | 2021 | 17:27:26 | 17 | Spring | Afternoon |\n| 3241CB12D978A919 | docked_bike   | 2021-04-26 16:39:35 | 2021-04-26 17:10:47 | Dorchester Ave &amp; 49th St | KA1503000069 | Dorchester Ave &amp; 49th St     | KA1503000069 | 41.80577 | -87.59246 | ⋯ | casual | 2021-04-26 | Monday    | 04 | 26 | 2021 | 16:39:35 | 16 | Spring | Afternoon |\n| 3C1E34B72CF1DF6F | docked_bike   | 2021-04-24 14:13:38 | 2021-04-24 17:54:40 | Halsted St &amp; 69th St     | 15597        | Halsted St &amp; 69th St         | 15597        | 41.76906 | -87.64461 | ⋯ | casual | 2021-04-24 | Saturday  | 04 | 24 | 2021 | 14:13:38 | 14 | Spring | Afternoon |\n| 7780E5A193F16BAA | docked_bike   | 2021-04-17 12:19:15 | 2021-04-17 12:33:23 | Dorchester Ave &amp; 49th St | KA1503000069 | Dorchester Ave &amp; 49th St     | KA1503000069 | 41.80577 | -87.59246 | ⋯ | casual | 2021-04-17 | Saturday  | 04 | 17 | 2021 | 12:19:15 | 12 | Spring | Afternoon |\n| A1250C4C180BDB7A | electric_bike | 2021-04-12 13:28:37 | 2021-04-12 13:43:47 | Dorchester Ave &amp; 49th St | KA1503000069 | Dorchester Ave &amp; 49th St     | KA1503000069 | 41.80586 | -87.59241 | ⋯ | casual | 2021-04-12 | Monday    | 04 | 12 | 2021 | 13:28:37 | 13 | Spring | Afternoon |\n| DCE53F03D9E930BC | classic_bike  | 2021-04-16 19:12:50 | 2021-04-16 19:30:04 | Dorchester Ave &amp; 49th St | KA1503000069 | Dorchester Ave &amp; 49th St     | KA1503000069 | 41.80577 | -87.59246 | ⋯ | casual | 2021-04-16 | Friday    | 04 | 16 | 2021 | 19:12:50 | 19 | Spring | Evening   |\n| C1C200854F4A4289 | classic_bike  | 2021-04-11 17:12:35 | 2021-04-11 17:13:10 | Loomis Blvd &amp; 84th St    | 20121        | Loomis Blvd &amp; 84th St        | 20121        | 41.74149 | -87.65841 | ⋯ | casual | 2021-04-11 | Sunday    | 04 | 11 | 2021 | 17:12:35 | 17 | Spring | Afternoon |\n| 4613417749115AB3 | classic_bike  | 2021-04-11 17:13:35 | 2021-04-11 18:14:14 | Loomis Blvd &amp; 84th St    | 20121        | Loomis Blvd &amp; 84th St        | 20121        | 41.74149 | -87.65841 | ⋯ | casual | 2021-04-11 | Sunday    | 04 | 11 | 2021 | 17:13:35 | 17 | Spring | Afternoon |\n| ⋮ | ⋮ | ⋮ | ⋮ | ⋮ | ⋮ | ⋮ | ⋮ | ⋮ | ⋮ | ⋱ | ⋮ | ⋮ | ⋮ | ⋮ | ⋮ | ⋮ | ⋮ | ⋮ | ⋮ | ⋮ |\n| 77C082A1158B9A4E | docked_bike   | 2022-03-14 17:21:55 | 2022-03-14 17:44:57 | Dusable Harbor                         | KA1503000064 | Streeter Dr &amp; Grand Ave       | 13022        | 41.88698 | -87.61281 | ⋯ | casual | 2022-03-14 | Monday    | 03 | 14 | 2022 | 17:21:55 | 17 | Spring | Afternoon |\n| 04AA5367BE3B89E5 | docked_bike   | 2022-03-12 11:25:28 | 2022-03-12 11:49:37 | Dusable Harbor                         | KA1503000064 | Aberdeen St &amp; Monroe St       | 13156        | 41.88698 | -87.61281 | ⋯ | casual | 2022-03-12 | Saturday  | 03 | 12 | 2022 | 11:25:28 | 11 | Spring | Morning   |\n| E04AF9B9B29FCD29 | electric_bike | 2022-03-26 14:33:02 | 2022-03-26 14:42:04 | Clinton St &amp; Jackson Blvd              | 638          | Aberdeen St &amp; Monroe St       | 13156        | 41.87789 | -87.64064 | ⋯ | member | 2022-03-26 | Saturday  | 03 | 26 | 2022 | 14:33:02 | 14 | Spring | Afternoon |\n| 84932115AE84D51C | classic_bike  | 2022-03-17 17:31:09 | 2022-03-17 17:37:48 | Clinton St &amp; Jackson Blvd              | 638          | Aberdeen St &amp; Monroe St       | 13156        | 41.87832 | -87.64098 | ⋯ | member | 2022-03-17 | Thursday  | 03 | 17 | 2022 | 17:31:09 | 17 | Spring | Afternoon |\n| 5346BEADE60DF4CC | classic_bike  | 2022-03-08 17:42:53 | 2022-03-08 17:49:21 | Clinton St &amp; Jackson Blvd              | 638          | Aberdeen St &amp; Monroe St       | 13156        | 41.87832 | -87.64098 | ⋯ | member | 2022-03-08 | Tuesday   | 03 | 08 | 2022 | 17:42:53 | 17 | Spring | Afternoon |\n| 799F0896CC2165A1 | electric_bike | 2022-03-21 15:09:06 | 2022-03-21 16:23:23 | State St &amp; Van Buren St                | TA1305000035 | Streeter Dr &amp; Grand Ave       | 13022        | 41.87665 | -87.62800 | ⋯ | casual | 2022-03-21 | Monday    | 03 | 21 | 2022 | 15:09:06 | 15 | Spring | Afternoon |\n| 4417CF79DFA8EFA0 | electric_bike | 2022-03-15 17:20:06 | 2022-03-15 17:37:50 | Indiana Ave &amp; Roosevelt Rd             | SL-005       | Streeter Dr &amp; Grand Ave       | 13022        | 41.86804 | -87.62311 | ⋯ | casual | 2022-03-15 | Tuesday   | 03 | 15 | 2022 | 17:20:06 | 17 | Spring | Afternoon |\n| FD53CC132C891259 | classic_bike  | 2022-03-15 17:16:36 | 2022-03-15 17:37:43 | Indiana Ave &amp; Roosevelt Rd             | SL-005       | Streeter Dr &amp; Grand Ave       | 13022        | 41.86789 | -87.62304 | ⋯ | casual | 2022-03-15 | Tuesday   | 03 | 15 | 2022 | 17:16:36 | 17 | Spring | Afternoon |\n| 3F0F55008C5FDD9A | classic_bike  | 2022-03-10 09:40:52 | 2022-03-10 09:42:57 | Ravenswood Ave &amp; Irving Park Rd        | TA1307000149 | Ravenswood Ave &amp; Berteau Ave  | TA1309000018 | 41.95469 | -87.67393 | ⋯ | member | 2022-03-10 | Thursday  | 03 | 10 | 2022 | 09:40:52 |  9 | Spring | Morning   |\n| CA5BCBE936AA78AC | electric_bike | 2022-03-30 08:52:22 | 2022-03-30 09:00:07 | Larrabee St &amp; Kingsbury St             | TA1306000009 | Franklin St &amp; Adams St (Temp) | TA1309000008 | 41.89762 | -87.64330 | ⋯ | member | 2022-03-30 | Wednesday | 03 | 30 | 2022 | 08:52:22 |  8 | Spring | Morning   |\n| D41190A1EACD4E5F | electric_bike | 2022-03-02 09:15:45 | 2022-03-02 09:22:38 | Larrabee St &amp; Kingsbury St             | TA1306000009 | Franklin St &amp; Adams St (Temp) | TA1309000008 | 41.89772 | -87.64291 | ⋯ | member | 2022-03-02 | Wednesday | 03 | 02 | 2022 | 09:15:45 |  9 | Spring | Morning   |\n| 4A317542FA86CD66 | electric_bike | 2022-03-21 19:50:38 | 2022-03-21 19:51:44 | Aberdeen St &amp; Jackson Blvd             | 13157        | Aberdeen St &amp; Monroe St       | 13156        | 41.87772 | -87.65482 | ⋯ | member | 2022-03-21 | Monday    | 03 | 21 | 2022 | 19:50:38 | 19 | Spring | Evening   |\n| 6E5550F87DDF75F6 | electric_bike | 2022-03-22 17:42:37 | 2022-03-22 17:43:54 | Aberdeen St &amp; Jackson Blvd             | 13157        | Aberdeen St &amp; Monroe St       | 13156        | 41.87771 | -87.65493 | ⋯ | member | 2022-03-22 | Tuesday   | 03 | 22 | 2022 | 17:42:37 | 17 | Spring | Afternoon |\n| 5216A9EC09DB7A9F | electric_bike | 2022-03-05 08:46:31 | 2022-03-05 08:49:15 | Larrabee St &amp; Kingsbury St             | TA1306000009 | Larrabee St &amp; Division St     | KA1504000079 | 41.89758 | -87.64328 | ⋯ | member | 2022-03-05 | Saturday  | 03 | 05 | 2022 | 08:46:31 |  8 | Spring | Morning   |\n| E84C61616F07B3E6 | electric_bike | 2022-03-16 08:49:31 | 2022-03-16 08:54:11 | Orleans St &amp; Merchandise Mart Plaza    | TA1305000022 | Franklin St &amp; Adams St (Temp) | TA1309000008 | 41.88803 | -87.63715 | ⋯ | member | 2022-03-16 | Wednesday | 03 | 16 | 2022 | 08:49:31 |  8 | Spring | Morning   |\n| 4C57806C54B9E7CE | electric_bike | 2022-03-09 08:57:04 | 2022-03-09 09:01:41 | Orleans St &amp; Merchandise Mart Plaza    | TA1305000022 | Franklin St &amp; Adams St (Temp) | TA1309000008 | 41.88803 | -87.63676 | ⋯ | member | 2022-03-09 | Wednesday | 03 | 09 | 2022 | 08:57:04 |  8 | Spring | Morning   |\n| 5C9B42397EC9AF78 | electric_bike | 2022-03-15 08:53:44 | 2022-03-15 08:58:18 | Orleans St &amp; Merchandise Mart Plaza    | TA1305000022 | Franklin St &amp; Adams St (Temp) | TA1309000008 | 41.88796 | -87.63696 | ⋯ | member | 2022-03-15 | Tuesday   | 03 | 15 | 2022 | 08:53:44 |  8 | Spring | Morning   |\n| 155C49327D325C09 | electric_bike | 2022-03-22 09:05:33 | 2022-03-22 09:09:58 | Orleans St &amp; Merchandise Mart Plaza    | TA1305000022 | Franklin St &amp; Adams St (Temp) | TA1309000008 | 41.88829 | -87.63637 | ⋯ | member | 2022-03-22 | Tuesday   | 03 | 22 | 2022 | 09:05:33 |  9 | Spring | Morning   |\n| 035E57A7EC67DDF4 | electric_bike | 2022-03-25 10:22:43 | 2022-03-25 10:37:16 | New St &amp; Illinois St                   | TA1306000013 | Streeter Dr &amp; Grand Ave       | 13022        | 41.89068 | -87.61809 | ⋯ | member | 2022-03-25 | Friday    | 03 | 25 | 2022 | 10:22:43 | 10 | Spring | Morning   |\n| C0AE978CAB160852 | classic_bike  | 2022-03-16 13:40:22 | 2022-03-16 14:17:17 | DuSable Lake Shore Dr &amp; Wellington Ave | TA1307000041 | Streeter Dr &amp; Grand Ave       | 13022        | 41.93669 | -87.63683 | ⋯ | member | 2022-03-16 | Wednesday | 03 | 16 | 2022 | 13:40:22 | 13 | Spring | Afternoon |\n| 5E0C2CDD50EBFC0B | classic_bike  | 2022-03-16 16:33:30 | 2022-03-16 17:33:52 | Adler Planetarium                      | 13431        | Streeter Dr &amp; Grand Ave       | 13022        | 41.86610 | -87.60727 | ⋯ | casual | 2022-03-16 | Wednesday | 03 | 16 | 2022 | 16:33:30 | 16 | Spring | Afternoon |\n| E3A68406C43058A9 | classic_bike  | 2022-03-30 07:31:45 | 2022-03-30 07:40:05 | Stetson Ave &amp; South Water St           | TA1308000029 | Franklin St &amp; Adams St (Temp) | TA1309000008 | 41.88683 | -87.62232 | ⋯ | member | 2022-03-30 | Wednesday | 03 | 30 | 2022 | 07:31:45 |  7 | Spring | Morning   |\n| 025DA93C8471767C | docked_bike   | 2022-03-05 14:13:13 | 2022-03-05 14:45:52 | Adler Planetarium                      | 13431        | Streeter Dr &amp; Grand Ave       | 13022        | 41.86610 | -87.60727 | ⋯ | casual | 2022-03-05 | Saturday  | 03 | 05 | 2022 | 14:13:13 | 14 | Spring | Afternoon |\n| 7DF0716EA46DC1E1 | classic_bike  | 2022-03-16 07:34:25 | 2022-03-16 07:44:58 | Stetson Ave &amp; South Water St           | TA1308000029 | Franklin St &amp; Adams St (Temp) | TA1309000008 | 41.88683 | -87.62232 | ⋯ | member | 2022-03-16 | Wednesday | 03 | 16 | 2022 | 07:34:25 |  7 | Spring | Morning   |\n| B591E39220EBC4BC | classic_bike  | 2022-03-15 18:09:14 | 2022-03-15 18:20:28 | Daley Center Plaza                     | TA1306000010 | Streeter Dr &amp; Grand Ave       | 13022        | 41.88424 | -87.62963 | ⋯ | member | 2022-03-15 | Tuesday   | 03 | 15 | 2022 | 18:09:14 | 18 | Spring | Evening   |\n| 1CEE41690C73108B | classic_bike  | 2022-03-21 15:12:17 | 2022-03-21 15:23:01 | Michigan Ave &amp; Oak St                  | 13042        | Streeter Dr &amp; Grand Ave       | 13022        | 41.90096 | -87.62378 | ⋯ | member | 2022-03-21 | Monday    | 03 | 21 | 2022 | 15:12:17 | 15 | Spring | Afternoon |\n| A2A6F07D3DF4D0D6 | electric_bike | 2022-03-09 20:29:48 | 2022-03-09 21:01:30 | Sheridan Rd &amp; Irving Park Rd           | 13063        | Streeter Dr &amp; Grand Ave       | 13022        | 41.95428 | -87.65441 | ⋯ | casual | 2022-03-09 | Wednesday | 03 | 09 | 2022 | 20:29:48 | 20 | Spring | Evening   |\n| E23BE3DB740BE3B4 | docked_bike   | 2022-03-13 16:31:03 | 2022-03-13 16:39:32 | Michigan Ave &amp; Oak St                  | 13042        | Streeter Dr &amp; Grand Ave       | 13022        | 41.90096 | -87.62378 | ⋯ | casual | 2022-03-13 | Sunday    | 03 | 13 | 2022 | 16:31:03 | 16 | Spring | Afternoon |\n| 15AF71F3220F2A75 | docked_bike   | 2022-03-09 06:56:02 | 2022-03-09 07:42:14 | Broadway &amp; Barry Ave                   | 13137        | Ravenswood Ave &amp; Berteau Ave  | TA1309000018 | 41.93758 | -87.64410 | ⋯ | casual | 2022-03-09 | Wednesday | 03 | 09 | 2022 | 06:56:02 |  6 | Spring | Morning   |\n| 5AEC5F39AF711895 | classic_bike  | 2022-03-03 18:13:40 | 2022-03-03 18:23:39 | Clark St &amp; Randolph St                 | TA1305000030 | Streeter Dr &amp; Grand Ave       | 13022        | 41.88458 | -87.63189 | ⋯ | member | 2022-03-03 | Thursday  | 03 | 03 | 2022 | 18:13:40 | 18 | Spring | Evening   |\n\n",
            "text/latex": "A tibble: 4641395 × 22\n\\begin{tabular}{lllllllllllllllllllll}\n ride\\_id & rideable\\_type & started\\_at & ended\\_at & start\\_station\\_name & start\\_station\\_id & end\\_station\\_name & end\\_station\\_id & start\\_lat & start\\_lng & ⋯ & member\\_casual & date & day\\_of\\_week & month & day & year & time & hour & season & time\\_of\\_day\\\\\n <chr> & <chr> & <dttm> & <dttm> & <chr> & <chr> & <chr> & <chr> & <dbl> & <dbl> & ⋯ & <chr> & <date> & <chr> & <chr> & <chr> & <chr> & <time> & <int> & <chr> & <chr>\\\\\n\\hline\n\t 6C992BD37A98A63F & classic\\_bike  & 2021-04-12 18:25:36 & 2021-04-12 18:56:55 & State St \\& Pearson St    & TA1307000061 & Southport Ave \\& Waveland Ave & 13235        & 41.89745 & -87.62872 & ⋯ & member & 2021-04-12 & Monday    & 04 & 12 & 2021 & 18:25:36 & 18 & Spring & Evening  \\\\\n\t 1E0145613A209000 & docked\\_bike   & 2021-04-27 17:27:11 & 2021-04-27 18:31:29 & Dorchester Ave \\& 49th St & KA1503000069 & Dorchester Ave \\& 49th St     & KA1503000069 & 41.80577 & -87.59246 & ⋯ & casual & 2021-04-27 & Tuesday   & 04 & 27 & 2021 & 17:27:11 & 17 & Spring & Afternoon\\\\\n\t E498E15508A80BAD & docked\\_bike   & 2021-04-03 12:42:45 & 2021-04-07 11:40:24 & Loomis Blvd \\& 84th St    & 20121        & Loomis Blvd \\& 84th St        & 20121        & 41.74149 & -87.65841 & ⋯ & casual & 2021-04-03 & Saturday  & 04 & 03 & 2021 & 12:42:45 & 12 & Spring & Afternoon\\\\\n\t 1887262AD101C604 & classic\\_bike  & 2021-04-17 09:17:42 & 2021-04-17 09:42:48 & Honore St \\& Division St  & TA1305000034 & Southport Ave \\& Waveland Ave & 13235        & 41.90312 & -87.67394 & ⋯ & member & 2021-04-17 & Saturday  & 04 & 17 & 2021 & 09:17:42 &  9 & Spring & Morning  \\\\\n\t C123548CAB2A32A5 & docked\\_bike   & 2021-04-03 12:42:25 & 2021-04-03 14:13:42 & Loomis Blvd \\& 84th St    & 20121        & Loomis Blvd \\& 84th St        & 20121        & 41.74149 & -87.65841 & ⋯ & casual & 2021-04-03 & Saturday  & 04 & 03 & 2021 & 12:42:25 & 12 & Spring & Afternoon\\\\\n\t 097E76F3651B1AC1 & classic\\_bike  & 2021-04-25 18:43:18 & 2021-04-25 18:43:59 & Clinton St \\& Polk St     & 15542        & Clinton St \\& Polk St         & 15542        & 41.87147 & -87.64095 & ⋯ & casual & 2021-04-25 & Sunday    & 04 & 25 & 2021 & 18:43:18 & 18 & Spring & Evening  \\\\\n\t 53C38EB01E6FA5C4 & classic\\_bike  & 2021-04-03 16:28:21 & 2021-04-03 16:29:47 & Ashland Ave \\& 63rd St    & 16948        & Ashland Ave \\& 63rd St        & 16948        & 41.77937 & -87.66484 & ⋯ & casual & 2021-04-03 & Saturday  & 04 & 03 & 2021 & 16:28:21 & 16 & Spring & Afternoon\\\\\n\t D53AC014EFD6E2BA & electric\\_bike & 2021-04-06 16:35:06 & 2021-04-06 17:00:56 & Dorchester Ave \\& 49th St & KA1503000069 & Dorchester Ave \\& 49th St     & KA1503000069 & 41.80583 & -87.59248 & ⋯ & casual & 2021-04-06 & Tuesday   & 04 & 06 & 2021 & 16:35:06 & 16 & Spring & Afternoon\\\\\n\t 6E2F7CA1FA9E0AFB & classic\\_bike  & 2021-04-12 15:22:54 & 2021-04-12 16:15:48 & Ashland Ave \\& 63rd St    & 16948        & Ashland Ave \\& 63rd St        & 16948        & 41.77937 & -87.66484 & ⋯ & casual & 2021-04-12 & Monday    & 04 & 12 & 2021 & 15:22:54 & 15 & Spring & Afternoon\\\\\n\t 04218447AAC80BD1 & classic\\_bike  & 2021-04-24 15:04:55 & 2021-04-24 15:06:16 & Dorchester Ave \\& 49th St & KA1503000069 & Dorchester Ave \\& 49th St     & KA1503000069 & 41.80577 & -87.59246 & ⋯ & casual & 2021-04-24 & Saturday  & 04 & 24 & 2021 & 15:04:55 & 15 & Spring & Afternoon\\\\\n\t B45BBE0734834247 & electric\\_bike & 2021-04-03 18:03:40 & 2021-04-03 19:13:22 & Loomis Blvd \\& 84th St    & 20121        & Loomis Blvd \\& 84th St        & 20121        & 41.74156 & -87.65842 & ⋯ & casual & 2021-04-03 & Saturday  & 04 & 03 & 2021 & 18:03:40 & 18 & Spring & Evening  \\\\\n\t 70DEC4E102F00DC2 & electric\\_bike & 2021-04-24 18:01:29 & 2021-04-24 19:39:00 & Halsted St \\& 69th St     & 15597        & Halsted St \\& 69th St         & 15597        & 41.76901 & -87.64463 & ⋯ & casual & 2021-04-24 & Saturday  & 04 & 24 & 2021 & 18:01:29 & 18 & Spring & Evening  \\\\\n\t B33484FA16A9A0FE & classic\\_bike  & 2021-04-27 18:31:52 & 2021-04-27 19:17:20 & Dorchester Ave \\& 49th St & KA1503000069 & Dorchester Ave \\& 49th St     & KA1503000069 & 41.80577 & -87.59246 & ⋯ & casual & 2021-04-27 & Tuesday   & 04 & 27 & 2021 & 18:31:52 & 18 & Spring & Evening  \\\\\n\t 8670C65989291512 & classic\\_bike  & 2021-04-04 14:19:43 & 2021-04-04 14:26:29 & Dorchester Ave \\& 49th St & KA1503000069 & Dorchester Ave \\& 49th St     & KA1503000069 & 41.80577 & -87.59246 & ⋯ & casual & 2021-04-04 & Sunday    & 04 & 04 & 2021 & 14:19:43 & 14 & Spring & Afternoon\\\\\n\t EFF545B4881F0C25 & classic\\_bike  & 2021-04-13 12:12:50 & 2021-04-13 13:12:11 & Dorchester Ave \\& 49th St & KA1503000069 & Dorchester Ave \\& 49th St     & KA1503000069 & 41.80577 & -87.59246 & ⋯ & casual & 2021-04-13 & Tuesday   & 04 & 13 & 2021 & 12:12:50 & 12 & Spring & Afternoon\\\\\n\t 49658BDF5846360E & electric\\_bike & 2021-04-08 17:59:33 & 2021-04-08 18:11:30 & Dorchester Ave \\& 49th St & KA1503000069 & Dorchester Ave \\& 49th St     & KA1503000069 & 41.80583 & -87.59252 & ⋯ & casual & 2021-04-08 & Thursday  & 04 & 08 & 2021 & 17:59:33 & 17 & Spring & Afternoon\\\\\n\t E5261048A5E7365B & electric\\_bike & 2021-04-27 16:22:42 & 2021-04-27 16:47:19 & Loomis Blvd \\& 84th St    & 20121        & Loomis Blvd \\& 84th St        & 20121        & 41.74156 & -87.65842 & ⋯ & casual & 2021-04-27 & Tuesday   & 04 & 27 & 2021 & 16:22:42 & 16 & Spring & Afternoon\\\\\n\t 9DADAD1E49747066 & docked\\_bike   & 2021-04-25 17:42:16 & 2021-04-25 18:02:55 & Dorchester Ave \\& 49th St & KA1503000069 & Dorchester Ave \\& 49th St     & KA1503000069 & 41.80577 & -87.59246 & ⋯ & casual & 2021-04-25 & Sunday    & 04 & 25 & 2021 & 17:42:16 & 17 & Spring & Afternoon\\\\\n\t 440BBEEEEA9DD6FE & classic\\_bike  & 2021-04-07 14:24:51 & 2021-04-07 14:25:57 & Dorchester Ave \\& 49th St & KA1503000069 & Dorchester Ave \\& 49th St     & KA1503000069 & 41.80577 & -87.59246 & ⋯ & casual & 2021-04-07 & Wednesday & 04 & 07 & 2021 & 14:24:51 & 14 & Spring & Afternoon\\\\\n\t B39DF385508E7DCF & classic\\_bike  & 2021-04-27 09:00:07 & 2021-04-27 09:30:28 & Dorchester Ave \\& 49th St & KA1503000069 & Dorchester Ave \\& 49th St     & KA1503000069 & 41.80577 & -87.59246 & ⋯ & casual & 2021-04-27 & Tuesday   & 04 & 27 & 2021 & 09:00:07 &  9 & Spring & Morning  \\\\\n\t 1E1D708751A45FBB & classic\\_bike  & 2021-04-27 18:20:52 & 2021-04-27 18:23:56 & Clinton St \\& Polk St     & 15542        & Clinton St \\& Polk St         & 15542        & 41.87147 & -87.64095 & ⋯ & casual & 2021-04-27 & Tuesday   & 04 & 27 & 2021 & 18:20:52 & 18 & Spring & Evening  \\\\\n\t EF150999D6799927 & electric\\_bike & 2021-04-26 15:19:08 & 2021-04-26 15:47:33 & Loomis Blvd \\& 84th St    & 20121        & Loomis Blvd \\& 84th St        & 20121        & 41.74154 & -87.65837 & ⋯ & casual & 2021-04-26 & Monday    & 04 & 26 & 2021 & 15:19:08 & 15 & Spring & Afternoon\\\\\n\t F01C5D9474B37874 & docked\\_bike   & 2021-04-27 17:27:26 & 2021-04-27 17:56:08 & Dorchester Ave \\& 49th St & KA1503000069 & Dorchester Ave \\& 49th St     & KA1503000069 & 41.80577 & -87.59246 & ⋯ & casual & 2021-04-27 & Tuesday   & 04 & 27 & 2021 & 17:27:26 & 17 & Spring & Afternoon\\\\\n\t 3241CB12D978A919 & docked\\_bike   & 2021-04-26 16:39:35 & 2021-04-26 17:10:47 & Dorchester Ave \\& 49th St & KA1503000069 & Dorchester Ave \\& 49th St     & KA1503000069 & 41.80577 & -87.59246 & ⋯ & casual & 2021-04-26 & Monday    & 04 & 26 & 2021 & 16:39:35 & 16 & Spring & Afternoon\\\\\n\t 3C1E34B72CF1DF6F & docked\\_bike   & 2021-04-24 14:13:38 & 2021-04-24 17:54:40 & Halsted St \\& 69th St     & 15597        & Halsted St \\& 69th St         & 15597        & 41.76906 & -87.64461 & ⋯ & casual & 2021-04-24 & Saturday  & 04 & 24 & 2021 & 14:13:38 & 14 & Spring & Afternoon\\\\\n\t 7780E5A193F16BAA & docked\\_bike   & 2021-04-17 12:19:15 & 2021-04-17 12:33:23 & Dorchester Ave \\& 49th St & KA1503000069 & Dorchester Ave \\& 49th St     & KA1503000069 & 41.80577 & -87.59246 & ⋯ & casual & 2021-04-17 & Saturday  & 04 & 17 & 2021 & 12:19:15 & 12 & Spring & Afternoon\\\\\n\t A1250C4C180BDB7A & electric\\_bike & 2021-04-12 13:28:37 & 2021-04-12 13:43:47 & Dorchester Ave \\& 49th St & KA1503000069 & Dorchester Ave \\& 49th St     & KA1503000069 & 41.80586 & -87.59241 & ⋯ & casual & 2021-04-12 & Monday    & 04 & 12 & 2021 & 13:28:37 & 13 & Spring & Afternoon\\\\\n\t DCE53F03D9E930BC & classic\\_bike  & 2021-04-16 19:12:50 & 2021-04-16 19:30:04 & Dorchester Ave \\& 49th St & KA1503000069 & Dorchester Ave \\& 49th St     & KA1503000069 & 41.80577 & -87.59246 & ⋯ & casual & 2021-04-16 & Friday    & 04 & 16 & 2021 & 19:12:50 & 19 & Spring & Evening  \\\\\n\t C1C200854F4A4289 & classic\\_bike  & 2021-04-11 17:12:35 & 2021-04-11 17:13:10 & Loomis Blvd \\& 84th St    & 20121        & Loomis Blvd \\& 84th St        & 20121        & 41.74149 & -87.65841 & ⋯ & casual & 2021-04-11 & Sunday    & 04 & 11 & 2021 & 17:12:35 & 17 & Spring & Afternoon\\\\\n\t 4613417749115AB3 & classic\\_bike  & 2021-04-11 17:13:35 & 2021-04-11 18:14:14 & Loomis Blvd \\& 84th St    & 20121        & Loomis Blvd \\& 84th St        & 20121        & 41.74149 & -87.65841 & ⋯ & casual & 2021-04-11 & Sunday    & 04 & 11 & 2021 & 17:13:35 & 17 & Spring & Afternoon\\\\\n\t ⋮ & ⋮ & ⋮ & ⋮ & ⋮ & ⋮ & ⋮ & ⋮ & ⋮ & ⋮ & ⋱ & ⋮ & ⋮ & ⋮ & ⋮ & ⋮ & ⋮ & ⋮ & ⋮ & ⋮ & ⋮\\\\\n\t 77C082A1158B9A4E & docked\\_bike   & 2022-03-14 17:21:55 & 2022-03-14 17:44:57 & Dusable Harbor                         & KA1503000064 & Streeter Dr \\& Grand Ave       & 13022        & 41.88698 & -87.61281 & ⋯ & casual & 2022-03-14 & Monday    & 03 & 14 & 2022 & 17:21:55 & 17 & Spring & Afternoon\\\\\n\t 04AA5367BE3B89E5 & docked\\_bike   & 2022-03-12 11:25:28 & 2022-03-12 11:49:37 & Dusable Harbor                         & KA1503000064 & Aberdeen St \\& Monroe St       & 13156        & 41.88698 & -87.61281 & ⋯ & casual & 2022-03-12 & Saturday  & 03 & 12 & 2022 & 11:25:28 & 11 & Spring & Morning  \\\\\n\t E04AF9B9B29FCD29 & electric\\_bike & 2022-03-26 14:33:02 & 2022-03-26 14:42:04 & Clinton St \\& Jackson Blvd              & 638          & Aberdeen St \\& Monroe St       & 13156        & 41.87789 & -87.64064 & ⋯ & member & 2022-03-26 & Saturday  & 03 & 26 & 2022 & 14:33:02 & 14 & Spring & Afternoon\\\\\n\t 84932115AE84D51C & classic\\_bike  & 2022-03-17 17:31:09 & 2022-03-17 17:37:48 & Clinton St \\& Jackson Blvd              & 638          & Aberdeen St \\& Monroe St       & 13156        & 41.87832 & -87.64098 & ⋯ & member & 2022-03-17 & Thursday  & 03 & 17 & 2022 & 17:31:09 & 17 & Spring & Afternoon\\\\\n\t 5346BEADE60DF4CC & classic\\_bike  & 2022-03-08 17:42:53 & 2022-03-08 17:49:21 & Clinton St \\& Jackson Blvd              & 638          & Aberdeen St \\& Monroe St       & 13156        & 41.87832 & -87.64098 & ⋯ & member & 2022-03-08 & Tuesday   & 03 & 08 & 2022 & 17:42:53 & 17 & Spring & Afternoon\\\\\n\t 799F0896CC2165A1 & electric\\_bike & 2022-03-21 15:09:06 & 2022-03-21 16:23:23 & State St \\& Van Buren St                & TA1305000035 & Streeter Dr \\& Grand Ave       & 13022        & 41.87665 & -87.62800 & ⋯ & casual & 2022-03-21 & Monday    & 03 & 21 & 2022 & 15:09:06 & 15 & Spring & Afternoon\\\\\n\t 4417CF79DFA8EFA0 & electric\\_bike & 2022-03-15 17:20:06 & 2022-03-15 17:37:50 & Indiana Ave \\& Roosevelt Rd             & SL-005       & Streeter Dr \\& Grand Ave       & 13022        & 41.86804 & -87.62311 & ⋯ & casual & 2022-03-15 & Tuesday   & 03 & 15 & 2022 & 17:20:06 & 17 & Spring & Afternoon\\\\\n\t FD53CC132C891259 & classic\\_bike  & 2022-03-15 17:16:36 & 2022-03-15 17:37:43 & Indiana Ave \\& Roosevelt Rd             & SL-005       & Streeter Dr \\& Grand Ave       & 13022        & 41.86789 & -87.62304 & ⋯ & casual & 2022-03-15 & Tuesday   & 03 & 15 & 2022 & 17:16:36 & 17 & Spring & Afternoon\\\\\n\t 3F0F55008C5FDD9A & classic\\_bike  & 2022-03-10 09:40:52 & 2022-03-10 09:42:57 & Ravenswood Ave \\& Irving Park Rd        & TA1307000149 & Ravenswood Ave \\& Berteau Ave  & TA1309000018 & 41.95469 & -87.67393 & ⋯ & member & 2022-03-10 & Thursday  & 03 & 10 & 2022 & 09:40:52 &  9 & Spring & Morning  \\\\\n\t CA5BCBE936AA78AC & electric\\_bike & 2022-03-30 08:52:22 & 2022-03-30 09:00:07 & Larrabee St \\& Kingsbury St             & TA1306000009 & Franklin St \\& Adams St (Temp) & TA1309000008 & 41.89762 & -87.64330 & ⋯ & member & 2022-03-30 & Wednesday & 03 & 30 & 2022 & 08:52:22 &  8 & Spring & Morning  \\\\\n\t D41190A1EACD4E5F & electric\\_bike & 2022-03-02 09:15:45 & 2022-03-02 09:22:38 & Larrabee St \\& Kingsbury St             & TA1306000009 & Franklin St \\& Adams St (Temp) & TA1309000008 & 41.89772 & -87.64291 & ⋯ & member & 2022-03-02 & Wednesday & 03 & 02 & 2022 & 09:15:45 &  9 & Spring & Morning  \\\\\n\t 4A317542FA86CD66 & electric\\_bike & 2022-03-21 19:50:38 & 2022-03-21 19:51:44 & Aberdeen St \\& Jackson Blvd             & 13157        & Aberdeen St \\& Monroe St       & 13156        & 41.87772 & -87.65482 & ⋯ & member & 2022-03-21 & Monday    & 03 & 21 & 2022 & 19:50:38 & 19 & Spring & Evening  \\\\\n\t 6E5550F87DDF75F6 & electric\\_bike & 2022-03-22 17:42:37 & 2022-03-22 17:43:54 & Aberdeen St \\& Jackson Blvd             & 13157        & Aberdeen St \\& Monroe St       & 13156        & 41.87771 & -87.65493 & ⋯ & member & 2022-03-22 & Tuesday   & 03 & 22 & 2022 & 17:42:37 & 17 & Spring & Afternoon\\\\\n\t 5216A9EC09DB7A9F & electric\\_bike & 2022-03-05 08:46:31 & 2022-03-05 08:49:15 & Larrabee St \\& Kingsbury St             & TA1306000009 & Larrabee St \\& Division St     & KA1504000079 & 41.89758 & -87.64328 & ⋯ & member & 2022-03-05 & Saturday  & 03 & 05 & 2022 & 08:46:31 &  8 & Spring & Morning  \\\\\n\t E84C61616F07B3E6 & electric\\_bike & 2022-03-16 08:49:31 & 2022-03-16 08:54:11 & Orleans St \\& Merchandise Mart Plaza    & TA1305000022 & Franklin St \\& Adams St (Temp) & TA1309000008 & 41.88803 & -87.63715 & ⋯ & member & 2022-03-16 & Wednesday & 03 & 16 & 2022 & 08:49:31 &  8 & Spring & Morning  \\\\\n\t 4C57806C54B9E7CE & electric\\_bike & 2022-03-09 08:57:04 & 2022-03-09 09:01:41 & Orleans St \\& Merchandise Mart Plaza    & TA1305000022 & Franklin St \\& Adams St (Temp) & TA1309000008 & 41.88803 & -87.63676 & ⋯ & member & 2022-03-09 & Wednesday & 03 & 09 & 2022 & 08:57:04 &  8 & Spring & Morning  \\\\\n\t 5C9B42397EC9AF78 & electric\\_bike & 2022-03-15 08:53:44 & 2022-03-15 08:58:18 & Orleans St \\& Merchandise Mart Plaza    & TA1305000022 & Franklin St \\& Adams St (Temp) & TA1309000008 & 41.88796 & -87.63696 & ⋯ & member & 2022-03-15 & Tuesday   & 03 & 15 & 2022 & 08:53:44 &  8 & Spring & Morning  \\\\\n\t 155C49327D325C09 & electric\\_bike & 2022-03-22 09:05:33 & 2022-03-22 09:09:58 & Orleans St \\& Merchandise Mart Plaza    & TA1305000022 & Franklin St \\& Adams St (Temp) & TA1309000008 & 41.88829 & -87.63637 & ⋯ & member & 2022-03-22 & Tuesday   & 03 & 22 & 2022 & 09:05:33 &  9 & Spring & Morning  \\\\\n\t 035E57A7EC67DDF4 & electric\\_bike & 2022-03-25 10:22:43 & 2022-03-25 10:37:16 & New St \\& Illinois St                   & TA1306000013 & Streeter Dr \\& Grand Ave       & 13022        & 41.89068 & -87.61809 & ⋯ & member & 2022-03-25 & Friday    & 03 & 25 & 2022 & 10:22:43 & 10 & Spring & Morning  \\\\\n\t C0AE978CAB160852 & classic\\_bike  & 2022-03-16 13:40:22 & 2022-03-16 14:17:17 & DuSable Lake Shore Dr \\& Wellington Ave & TA1307000041 & Streeter Dr \\& Grand Ave       & 13022        & 41.93669 & -87.63683 & ⋯ & member & 2022-03-16 & Wednesday & 03 & 16 & 2022 & 13:40:22 & 13 & Spring & Afternoon\\\\\n\t 5E0C2CDD50EBFC0B & classic\\_bike  & 2022-03-16 16:33:30 & 2022-03-16 17:33:52 & Adler Planetarium                      & 13431        & Streeter Dr \\& Grand Ave       & 13022        & 41.86610 & -87.60727 & ⋯ & casual & 2022-03-16 & Wednesday & 03 & 16 & 2022 & 16:33:30 & 16 & Spring & Afternoon\\\\\n\t E3A68406C43058A9 & classic\\_bike  & 2022-03-30 07:31:45 & 2022-03-30 07:40:05 & Stetson Ave \\& South Water St           & TA1308000029 & Franklin St \\& Adams St (Temp) & TA1309000008 & 41.88683 & -87.62232 & ⋯ & member & 2022-03-30 & Wednesday & 03 & 30 & 2022 & 07:31:45 &  7 & Spring & Morning  \\\\\n\t 025DA93C8471767C & docked\\_bike   & 2022-03-05 14:13:13 & 2022-03-05 14:45:52 & Adler Planetarium                      & 13431        & Streeter Dr \\& Grand Ave       & 13022        & 41.86610 & -87.60727 & ⋯ & casual & 2022-03-05 & Saturday  & 03 & 05 & 2022 & 14:13:13 & 14 & Spring & Afternoon\\\\\n\t 7DF0716EA46DC1E1 & classic\\_bike  & 2022-03-16 07:34:25 & 2022-03-16 07:44:58 & Stetson Ave \\& South Water St           & TA1308000029 & Franklin St \\& Adams St (Temp) & TA1309000008 & 41.88683 & -87.62232 & ⋯ & member & 2022-03-16 & Wednesday & 03 & 16 & 2022 & 07:34:25 &  7 & Spring & Morning  \\\\\n\t B591E39220EBC4BC & classic\\_bike  & 2022-03-15 18:09:14 & 2022-03-15 18:20:28 & Daley Center Plaza                     & TA1306000010 & Streeter Dr \\& Grand Ave       & 13022        & 41.88424 & -87.62963 & ⋯ & member & 2022-03-15 & Tuesday   & 03 & 15 & 2022 & 18:09:14 & 18 & Spring & Evening  \\\\\n\t 1CEE41690C73108B & classic\\_bike  & 2022-03-21 15:12:17 & 2022-03-21 15:23:01 & Michigan Ave \\& Oak St                  & 13042        & Streeter Dr \\& Grand Ave       & 13022        & 41.90096 & -87.62378 & ⋯ & member & 2022-03-21 & Monday    & 03 & 21 & 2022 & 15:12:17 & 15 & Spring & Afternoon\\\\\n\t A2A6F07D3DF4D0D6 & electric\\_bike & 2022-03-09 20:29:48 & 2022-03-09 21:01:30 & Sheridan Rd \\& Irving Park Rd           & 13063        & Streeter Dr \\& Grand Ave       & 13022        & 41.95428 & -87.65441 & ⋯ & casual & 2022-03-09 & Wednesday & 03 & 09 & 2022 & 20:29:48 & 20 & Spring & Evening  \\\\\n\t E23BE3DB740BE3B4 & docked\\_bike   & 2022-03-13 16:31:03 & 2022-03-13 16:39:32 & Michigan Ave \\& Oak St                  & 13042        & Streeter Dr \\& Grand Ave       & 13022        & 41.90096 & -87.62378 & ⋯ & casual & 2022-03-13 & Sunday    & 03 & 13 & 2022 & 16:31:03 & 16 & Spring & Afternoon\\\\\n\t 15AF71F3220F2A75 & docked\\_bike   & 2022-03-09 06:56:02 & 2022-03-09 07:42:14 & Broadway \\& Barry Ave                   & 13137        & Ravenswood Ave \\& Berteau Ave  & TA1309000018 & 41.93758 & -87.64410 & ⋯ & casual & 2022-03-09 & Wednesday & 03 & 09 & 2022 & 06:56:02 &  6 & Spring & Morning  \\\\\n\t 5AEC5F39AF711895 & classic\\_bike  & 2022-03-03 18:13:40 & 2022-03-03 18:23:39 & Clark St \\& Randolph St                 & TA1305000030 & Streeter Dr \\& Grand Ave       & 13022        & 41.88458 & -87.63189 & ⋯ & member & 2022-03-03 & Thursday  & 03 & 03 & 2022 & 18:13:40 & 18 & Spring & Evening  \\\\\n\\end{tabular}\n"
          },
          "metadata": {}
        }
      ]
    }
  ]
}