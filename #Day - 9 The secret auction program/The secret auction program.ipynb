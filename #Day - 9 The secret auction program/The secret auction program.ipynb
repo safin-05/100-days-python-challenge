{
 "cells": [
  {
   "cell_type": "code",
   "execution_count": 1,
   "id": "91e0830a-ec36-486f-991f-b946e86570ef",
   "metadata": {},
   "outputs": [],
   "source": [
    "from Logo import logo\n",
    "from IPython.display import clear_output"
   ]
  },
  {
   "cell_type": "code",
   "execution_count": 2,
   "id": "06fb6b15-5f49-40ab-a036-70d1414143b0",
   "metadata": {},
   "outputs": [
    {
     "name": "stdout",
     "output_type": "stream",
     "text": [
      "The winner is Robin with a bid of $570\n"
     ]
    }
   ],
   "source": [
    "dict1 = {}\n",
    "    \n",
    "def high_bid(dict1):\n",
    "    high = 0\n",
    "    for key in dict1:\n",
    "        if dict1[key] > high:\n",
    "            high = dict1[key]\n",
    "            high_key = key\n",
    "    print(f\"The winner is {high_key} with a bid of ${high}\")\n",
    "        \n",
    "print(logo)\n",
    "go_on = False\n",
    "\n",
    "while go_on != True:\n",
    "\n",
    "        name = input(\"What is your name?: \")\n",
    "        bid = int(input(\"What is your bid?: $\"))\n",
    "        bidders = input(\"Are there any other bidders? Types 'yes' or 'no': \").lower()\n",
    "        dict1[name] = bid\n",
    "        clear_output()\n",
    "        if bidders == 'no':\n",
    "            go_on = True\n",
    "high_bid(dict1)"
   ]
  },
  {
   "cell_type": "code",
   "execution_count": null,
   "id": "815919cc-fd31-4c2b-967d-1f580b9b80f6",
   "metadata": {},
   "outputs": [],
   "source": []
  }
 ],
 "metadata": {
  "kernelspec": {
   "display_name": "Python 3 (ipykernel)",
   "language": "python",
   "name": "python3"
  },
  "language_info": {
   "codemirror_mode": {
    "name": "ipython",
    "version": 3
   },
   "file_extension": ".py",
   "mimetype": "text/x-python",
   "name": "python",
   "nbconvert_exporter": "python",
   "pygments_lexer": "ipython3",
   "version": "3.9.7"
  }
 },
 "nbformat": 4,
 "nbformat_minor": 5
}
