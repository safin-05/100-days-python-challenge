{
 "cells": [
  {
   "cell_type": "code",
   "execution_count": null,
   "id": "9cc365ff-8450-41c8-b6e7-78daf313566f",
   "metadata": {},
   "outputs": [],
   "source": [
    "import random\n",
    "import secrets\n",
    "\n",
    "# Getting systemRandom class instance out of secrets module\n",
    "secretsGenerator = secrets.SystemRandom()\n",
    "\n"
   ]
  },
  {
   "cell_type": "code",
   "execution_count": null,
   "id": "41611b96-6129-4071-a670-a9c0080a0719",
   "metadata": {},
   "outputs": [],
   "source": [
    "#### Password Generator Project\n",
    "import random\n",
    "letters = ['a', 'b', 'c', 'd', 'e', 'f', 'g', 'h', 'i', 'j', 'k', \n",
    "           'l', 'm', 'n', 'o', 'p', 'q', 'r', 's', 't', 'u', 'v', 'w', \n",
    "           'x', 'y', 'z', 'A', 'B', 'C', 'D', 'E', 'F', 'G', 'H', \n",
    "           'I', 'J', 'K', 'L', 'M', 'N', 'O', 'P', 'Q', 'R', 'S', \n",
    "           'T', 'U', 'V', 'W', 'X', 'Y', 'Z']\n",
    "numbers = ['0', '1', '2', '3', '4', '5', '6', '7', '8', '9']\n",
    "symbols = ['!', '#', '$', '%', '&', '(', ')', '*', '+']\n",
    "\n",
    "print(\"Welcome to the PyPassword Generator!\")\n",
    "nr_letters= int(input(\"How many letters would you like in your password?\\n\")) \n",
    "nr_symbols = int(input(f\"How many symbols would you like?\\n\"))\n",
    "nr_numbers = int(input(f\"How many numbers would you like?\\n\"))\n",
    "\n",
    "#Eazy Level - Order not randomised:\n",
    "#e.g. 4 letter, 2 symbol, 2 number = JduE&!91\n",
    "\n",
    "\n",
    "#Hard Level - Order of characters randomised:\n",
    "#e.g. 4 letter, 2 symbol, 2 number = g^2jk8&P\n",
    "\n",
    "## Creating a empty list\n",
    "password = []\n",
    "\n",
    "## Adding random letters using secrets and random\n",
    "for i in range(0, nr_letters):\n",
    "    secret_letter = secretsGenerator.choice(letters)\n",
    "    password.append(secret_letter)\n",
    "    \n",
    "## Adding random symbols using random and secrets\n",
    "for i in range(1, nr_symbols + 1):\n",
    "    password += secretsGenerator.choice(symbols)\n",
    "    \n",
    "## Adding number using sample method\n",
    "secret_num = secretsGenerator.sample(numbers, nr_numbers)\n",
    "\n",
    "## Using extend function to add another list as elements instead of append\n",
    "password.extend(secret_num)\n",
    "\n",
    "## Shuffling the password list to change order of characters\n",
    "random.shuffle(password)\n",
    "\n",
    "## Printing password as a string instead of list\n",
    "password1 = ''.join(password)\n",
    "\n",
    "print(f'Your password is: {password1}')\n"
   ]
  }
 ],
 "metadata": {
  "kernelspec": {
   "display_name": "Python 3 (ipykernel)",
   "language": "python",
   "name": "python3"
  },
  "language_info": {
   "codemirror_mode": {
    "name": "ipython",
    "version": 3
   },
   "file_extension": ".py",
   "mimetype": "text/x-python",
   "name": "python",
   "nbconvert_exporter": "python",
   "pygments_lexer": "ipython3",
   "version": "3.9.7"
  }
 },
 "nbformat": 4,
 "nbformat_minor": 5
}
